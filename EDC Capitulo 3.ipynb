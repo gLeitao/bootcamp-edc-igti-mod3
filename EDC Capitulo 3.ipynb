{
 "cells": [
  {
   "cell_type": "markdown",
   "id": "eb6f35be",
   "metadata": {},
   "source": [
    "## Carregando as bibliotecas"
   ]
  },
  {
   "cell_type": "code",
   "execution_count": 1,
   "id": "77ad2544",
   "metadata": {},
   "outputs": [],
   "source": [
    "from pyspark.sql import SparkSession\n",
    "from pyspark.sql.functions import col, round, expr, upper, asc_nulls_last, desc, lit, when \n",
    "import pyspark.sql.functions as f\n",
    "from pyspark.sql.types import *\n",
    "from pyspark.sql.window import Window\n",
    "from unidecode import unidecode"
   ]
  },
  {
   "cell_type": "markdown",
   "id": "e15da285",
   "metadata": {},
   "source": [
    "## Iniciando o Spark"
   ]
  },
  {
   "cell_type": "code",
   "execution_count": 2,
   "id": "a8bea605",
   "metadata": {},
   "outputs": [],
   "source": [
    "import findspark\n",
    "findspark.init('/opt/apache-spark/')"
   ]
  },
  {
   "cell_type": "code",
   "execution_count": 3,
   "id": "4ec64df6",
   "metadata": {},
   "outputs": [
    {
     "name": "stderr",
     "output_type": "stream",
     "text": [
      "WARNING: An illegal reflective access operation has occurred\n",
      "WARNING: Illegal reflective access by org.apache.spark.unsafe.Platform (file:/opt/apache-spark/jars/spark-unsafe_2.12-3.1.1.jar) to constructor java.nio.DirectByteBuffer(long,int)\n",
      "WARNING: Please consider reporting this to the maintainers of org.apache.spark.unsafe.Platform\n",
      "WARNING: Use --illegal-access=warn to enable warnings of further illegal reflective access operations\n",
      "WARNING: All illegal access operations will be denied in a future release\n",
      "21/11/03 01:12:09 WARN NativeCodeLoader: Unable to load native-hadoop library for your platform... using builtin-java classes where applicable\n",
      "Using Spark's default log4j profile: org/apache/spark/log4j-defaults.properties\n",
      "Setting default log level to \"WARN\".\n",
      "To adjust logging level use sc.setLogLevel(newLevel). For SparkR, use setLogLevel(newLevel).\n"
     ]
    }
   ],
   "source": [
    "spark = SparkSession.builder.getOrCreate()"
   ]
  },
  {
   "cell_type": "markdown",
   "id": "50ed21ee",
   "metadata": {},
   "source": [
    "## Carregando os dados"
   ]
  },
  {
   "cell_type": "code",
   "execution_count": 4,
   "id": "28b37395",
   "metadata": {},
   "outputs": [],
   "source": [
    "df_titles = spark.read.format('csv').load('base/title_basics.tsv', header=True, sep='\\t')"
   ]
  },
  {
   "cell_type": "code",
   "execution_count": 5,
   "id": "33a9d4c6",
   "metadata": {},
   "outputs": [
    {
     "name": "stdout",
     "output_type": "stream",
     "text": [
      "+---------+---------+--------------------+--------------------+-------+---------+-------+--------------+--------------------+\n",
      "|   tconst|titleType|        primaryTitle|       originalTitle|isAdult|startYear|endYear|runtimeMinutes|              genres|\n",
      "+---------+---------+--------------------+--------------------+-------+---------+-------+--------------+--------------------+\n",
      "|tt0000001|    short|          Carmencita|          Carmencita|      0|     1894|     \\N|             1|   Documentary,Short|\n",
      "|tt0000002|    short|Le clown et ses c...|Le clown et ses c...|      0|     1892|     \\N|             5|     Animation,Short|\n",
      "|tt0000003|    short|      Pauvre Pierrot|      Pauvre Pierrot|      0|     1892|     \\N|             4|Animation,Comedy,...|\n",
      "|tt0000004|    short|         Un bon bock|         Un bon bock|      0|     1892|     \\N|            12|     Animation,Short|\n",
      "|tt0000005|    short|    Blacksmith Scene|    Blacksmith Scene|      0|     1893|     \\N|             1|        Comedy,Short|\n",
      "+---------+---------+--------------------+--------------------+-------+---------+-------+--------------+--------------------+\n",
      "only showing top 5 rows\n",
      "\n"
     ]
    }
   ],
   "source": [
    "df_titles.show(5)"
   ]
  },
  {
   "cell_type": "code",
   "execution_count": 18,
   "id": "0e90db91",
   "metadata": {},
   "outputs": [
    {
     "name": "stdout",
     "output_type": "stream",
     "text": [
      "root\n",
      " |-- tconst: string (nullable = true)\n",
      " |-- titleType: string (nullable = true)\n",
      " |-- primaryTitle: string (nullable = true)\n",
      " |-- originalTitle: string (nullable = true)\n",
      " |-- isAdult: string (nullable = true)\n",
      " |-- startYear: string (nullable = true)\n",
      " |-- endYear: string (nullable = true)\n",
      " |-- runtimeMinutes: string (nullable = true)\n",
      " |-- genres: string (nullable = true)\n",
      "\n"
     ]
    }
   ],
   "source": [
    "df_titles.printSchema()"
   ]
  },
  {
   "cell_type": "markdown",
   "id": "52162d60",
   "metadata": {},
   "source": [
    "## Expressões"
   ]
  },
  {
   "cell_type": "code",
   "execution_count": 21,
   "id": "4bdcd5da",
   "metadata": {},
   "outputs": [
    {
     "name": "stdout",
     "output_type": "stream",
     "text": [
      "+---------+--------------------+--------------+------------+\n",
      "|   tconst|        primaryTitle|runtimeMinutes|runtimeHours|\n",
      "+---------+--------------------+--------------+------------+\n",
      "|tt0000001|          Carmencita|             1|       0.017|\n",
      "|tt0000002|Le clown et ses c...|             5|       0.083|\n",
      "|tt0000003|      Pauvre Pierrot|             4|       0.067|\n",
      "|tt0000004|         Un bon bock|            12|         0.2|\n",
      "|tt0000005|    Blacksmith Scene|             1|       0.017|\n",
      "+---------+--------------------+--------------+------------+\n",
      "only showing top 5 rows\n",
      "\n"
     ]
    }
   ],
   "source": [
    "(\n",
    "    df_titles.select('tconst', 'primaryTitle', 'runtimeMinutes', )\n",
    "    .withColumn('runtimeHours', round(col('runTimeMinutes').cast('int') / 60, 3))\n",
    "    .show(5)\n",
    ")"
   ]
  },
  {
   "cell_type": "code",
   "execution_count": 22,
   "id": "225447f3",
   "metadata": {},
   "outputs": [
    {
     "name": "stdout",
     "output_type": "stream",
     "text": [
      "+---------+--------------------+--------------+------------+\n",
      "|   tconst|        primaryTitle|runtimeMinutes|runtimeHours|\n",
      "+---------+--------------------+--------------+------------+\n",
      "|tt0000001|          Carmencita|             1|       0.017|\n",
      "|tt0000002|Le clown et ses c...|             5|       0.083|\n",
      "|tt0000003|      Pauvre Pierrot|             4|       0.067|\n",
      "|tt0000004|         Un bon bock|            12|         0.2|\n",
      "|tt0000005|    Blacksmith Scene|             1|       0.017|\n",
      "+---------+--------------------+--------------+------------+\n",
      "only showing top 5 rows\n",
      "\n"
     ]
    }
   ],
   "source": [
    "(\n",
    "    df_titles.select('tconst', 'primaryTitle', 'runtimeMinutes', )\n",
    "    .withColumn('runtimeHours', round(df_titles['runTimeMinutes'].cast('int') / 60, 3))\n",
    "    .show(5)\n",
    ")"
   ]
  },
  {
   "cell_type": "code",
   "execution_count": 23,
   "id": "c1a8d34f",
   "metadata": {},
   "outputs": [
    {
     "name": "stdout",
     "output_type": "stream",
     "text": [
      "+---------+--------------------+--------------+------------+-----------+\n",
      "|   tconst|        primaryTitle|runtimeMinutes|runtimeHours|hours_plus2|\n",
      "+---------+--------------------+--------------+------------+-----------+\n",
      "|tt0000001|          Carmencita|             1|       0.017|      2.017|\n",
      "|tt0000002|Le clown et ses c...|             5|       0.083|      2.083|\n",
      "|tt0000003|      Pauvre Pierrot|             4|       0.067|      2.067|\n",
      "|tt0000004|         Un bon bock|            12|         0.2|        2.2|\n",
      "|tt0000005|    Blacksmith Scene|             1|       0.017|      2.017|\n",
      "+---------+--------------------+--------------+------------+-----------+\n",
      "only showing top 5 rows\n",
      "\n"
     ]
    }
   ],
   "source": [
    "(\n",
    "    df_titles.select('tconst', 'primaryTitle', 'runtimeMinutes', )\n",
    "    .withColumn('runtimeHours', round(col('runTimeMinutes').cast('int') / 60, 3))\n",
    "    .withColumn('hours_plus2', col('runtimeHours') + 2)\n",
    "    .show(5)\n",
    ")"
   ]
  },
  {
   "cell_type": "code",
   "execution_count": 28,
   "id": "8a203bd6",
   "metadata": {},
   "outputs": [
    {
     "name": "stdout",
     "output_type": "stream",
     "text": [
      "+---------+--------------------+--------------+------------+\n",
      "|   tconst|        primaryTitle|runtimeMinutes|runtimeHours|\n",
      "+---------+--------------------+--------------+------------+\n",
      "|tt0000001|          Carmencita|             1|       0.017|\n",
      "|tt0000002|Le clown et ses c...|             5|       0.083|\n",
      "|tt0000003|      Pauvre Pierrot|             4|       0.067|\n",
      "|tt0000004|         Un bon bock|            12|         0.2|\n",
      "|tt0000005|    Blacksmith Scene|             1|       0.017|\n",
      "+---------+--------------------+--------------+------------+\n",
      "only showing top 5 rows\n",
      "\n"
     ]
    }
   ],
   "source": [
    "(\n",
    "    df_titles.select('tconst', 'primaryTitle', 'runtimeMinutes', )\n",
    "    .withColumn('runtimeHours', expr('round(cast(runTimeMinutes as INT) / 60, 3)'))\n",
    "    .show(5)\n",
    ")"
   ]
  },
  {
   "cell_type": "code",
   "execution_count": 30,
   "id": "cdffb2cf",
   "metadata": {},
   "outputs": [
    {
     "name": "stdout",
     "output_type": "stream",
     "text": [
      "+---------+--------------------+--------------------+\n",
      "|   tconst|              genres|        primaryTitle|\n",
      "+---------+--------------------+--------------------+\n",
      "|tt0000001|   Documentary,Short|          CARMENCITA|\n",
      "|tt0000002|     Animation,Short|LE CLOWN ET SES C...|\n",
      "|tt0000003|Animation,Comedy,...|      PAUVRE PIERROT|\n",
      "|tt0000004|     Animation,Short|         UN BON BOCK|\n",
      "|tt0000005|        Comedy,Short|    BLACKSMITH SCENE|\n",
      "|tt0000006|               Short|   CHINESE OPIUM DEN|\n",
      "|tt0000007|         Short,Sport|CORBETT AND COURT...|\n",
      "|tt0000008|   Documentary,Short|EDISON KINETOSCOP...|\n",
      "|tt0000009|       Romance,Short|          MISS JERRY|\n",
      "|tt0000010|   Documentary,Short| LEAVING THE FACTORY|\n",
      "+---------+--------------------+--------------------+\n",
      "only showing top 10 rows\n",
      "\n"
     ]
    }
   ],
   "source": [
    "df_titles.select('tconst', 'genres', upper('primaryTitle').alias('primaryTitle')).show(10)"
   ]
  },
  {
   "cell_type": "code",
   "execution_count": 31,
   "id": "2bb8896e",
   "metadata": {},
   "outputs": [
    {
     "name": "stdout",
     "output_type": "stream",
     "text": [
      "+---------+--------------------+--------------------+\n",
      "|   tconst|              genres|        primaryTitle|\n",
      "+---------+--------------------+--------------------+\n",
      "|tt0000001|   Documentary,Short|          CARMENCITA|\n",
      "|tt0000002|     Animation,Short|LE CLOWN ET SES C...|\n",
      "|tt0000003|Animation,Comedy,...|      PAUVRE PIERROT|\n",
      "|tt0000004|     Animation,Short|         UN BON BOCK|\n",
      "|tt0000005|        Comedy,Short|    BLACKSMITH SCENE|\n",
      "|tt0000006|               Short|   CHINESE OPIUM DEN|\n",
      "|tt0000007|         Short,Sport|CORBETT AND COURT...|\n",
      "|tt0000008|   Documentary,Short|EDISON KINETOSCOP...|\n",
      "|tt0000009|       Romance,Short|          MISS JERRY|\n",
      "|tt0000010|   Documentary,Short| LEAVING THE FACTORY|\n",
      "+---------+--------------------+--------------------+\n",
      "only showing top 10 rows\n",
      "\n"
     ]
    }
   ],
   "source": [
    "df_titles.selectExpr('tconst', 'genres', 'upper(primaryTitle) as primaryTitle').show(10)"
   ]
  },
  {
   "cell_type": "code",
   "execution_count": 32,
   "id": "f7d7f676",
   "metadata": {},
   "outputs": [
    {
     "name": "stderr",
     "output_type": "stream",
     "text": [
      "\r",
      "[Stage 18:>                                                         (0 + 8) / 8]\r"
     ]
    },
    {
     "name": "stdout",
     "output_type": "stream",
     "text": [
      "+---------+\n",
      "|startYear|\n",
      "+---------+\n",
      "|     1903|\n",
      "|     1953|\n",
      "|     1897|\n",
      "|     1957|\n",
      "|     1987|\n",
      "|     1956|\n",
      "|     1936|\n",
      "|     2016|\n",
      "|     2020|\n",
      "|     2012|\n",
      "|     1958|\n",
      "|     1910|\n",
      "|     1943|\n",
      "|     1915|\n",
      "|     1972|\n",
      "|     1931|\n",
      "|     2026|\n",
      "|     1911|\n",
      "|     1926|\n",
      "|     1938|\n",
      "+---------+\n",
      "only showing top 20 rows\n",
      "\n"
     ]
    },
    {
     "name": "stderr",
     "output_type": "stream",
     "text": [
      "\r",
      "                                                                                \r"
     ]
    }
   ],
   "source": [
    "df_titles.select('startYear').distinct().show()"
   ]
  },
  {
   "cell_type": "markdown",
   "id": "247b4e12",
   "metadata": {},
   "source": [
    "## Filtros"
   ]
  },
  {
   "cell_type": "code",
   "execution_count": 34,
   "id": "1d8ec33d",
   "metadata": {},
   "outputs": [
    {
     "name": "stdout",
     "output_type": "stream",
     "text": [
      "+---------+---------+--------------------+--------------------+-------+---------+-------+--------------+--------------------+\n",
      "|   tconst|titleType|        primaryTitle|       originalTitle|isAdult|startYear|endYear|runtimeMinutes|              genres|\n",
      "+---------+---------+--------------------+--------------------+-------+---------+-------+--------------+--------------------+\n",
      "|tt0000502|    movie|            Bohemios|            Bohemios|      0|     1905|     \\N|           100|                  \\N|\n",
      "|tt0000574|    movie|The Story of the ...|The Story of the ...|      0|     1906|     \\N|            70|Action,Adventure,...|\n",
      "|tt0000591|    movie|    The Prodigal Son|   L'enfant prodigue|      0|     1907|     \\N|            90|               Drama|\n",
      "|tt0000615|    movie|  Robbery Under Arms|  Robbery Under Arms|      0|     1907|     \\N|            \\N|               Drama|\n",
      "|tt0000630|    movie|              Hamlet|              Amleto|      0|     1908|     \\N|            \\N|               Drama|\n",
      "+---------+---------+--------------------+--------------------+-------+---------+-------+--------------+--------------------+\n",
      "only showing top 5 rows\n",
      "\n"
     ]
    }
   ],
   "source": [
    "(\n",
    "    df_titles.filter(col('titleType') == 'movie')\n",
    "    .show(5)\n",
    ")"
   ]
  },
  {
   "cell_type": "code",
   "execution_count": 35,
   "id": "8fe0db7f",
   "metadata": {},
   "outputs": [
    {
     "name": "stdout",
     "output_type": "stream",
     "text": [
      "+---------+---------+--------------------+--------------------+-------+---------+-------+--------------+--------------------+\n",
      "|   tconst|titleType|        primaryTitle|       originalTitle|isAdult|startYear|endYear|runtimeMinutes|              genres|\n",
      "+---------+---------+--------------------+--------------------+-------+---------+-------+--------------+--------------------+\n",
      "|tt0000502|    movie|            Bohemios|            Bohemios|      0|     1905|     \\N|           100|                  \\N|\n",
      "|tt0000574|    movie|The Story of the ...|The Story of the ...|      0|     1906|     \\N|            70|Action,Adventure,...|\n",
      "|tt0000591|    movie|    The Prodigal Son|   L'enfant prodigue|      0|     1907|     \\N|            90|               Drama|\n",
      "|tt0000615|    movie|  Robbery Under Arms|  Robbery Under Arms|      0|     1907|     \\N|            \\N|               Drama|\n",
      "|tt0000630|    movie|              Hamlet|              Amleto|      0|     1908|     \\N|            \\N|               Drama|\n",
      "+---------+---------+--------------------+--------------------+-------+---------+-------+--------------+--------------------+\n",
      "only showing top 5 rows\n",
      "\n"
     ]
    }
   ],
   "source": [
    "(\n",
    "    df_titles.where(col('titleType') == 'movie')\n",
    "    .show(5)\n",
    ")"
   ]
  },
  {
   "cell_type": "code",
   "execution_count": 37,
   "id": "97498c1b",
   "metadata": {},
   "outputs": [
    {
     "name": "stdout",
     "output_type": "stream",
     "text": [
      "+---------+---------+--------------------+--------------------+-------+---------+-------+--------------+--------------------+\n",
      "|   tconst|titleType|        primaryTitle|       originalTitle|isAdult|startYear|endYear|runtimeMinutes|              genres|\n",
      "+---------+---------+--------------------+--------------------+-------+---------+-------+--------------+--------------------+\n",
      "|tt0000574|    movie|The Story of the ...|The Story of the ...|      0|     1906|     \\N|            70|Action,Adventure,...|\n",
      "|tt0000591|    movie|    The Prodigal Son|   L'enfant prodigue|      0|     1907|     \\N|            90|               Drama|\n",
      "|tt0001184|    movie|Don Juan de Serra...|Don Juan de Serra...|      0|     1910|     \\N|            58|     Adventure,Drama|\n",
      "|tt0001258|    movie|The White Slave T...|Den hvide slaveha...|      0|     1910|     \\N|            45|               Drama|\n",
      "|tt0001285|    movie|   The Life of Moses|   The Life of Moses|      0|     1909|     \\N|            50|Biography,Drama,F...|\n",
      "+---------+---------+--------------------+--------------------+-------+---------+-------+--------------+--------------------+\n",
      "only showing top 5 rows\n",
      "\n"
     ]
    }
   ],
   "source": [
    "(\n",
    "    df_titles.filter((col('titleType') == 'movie') & (col('runtimeMinutes') <= 90))\n",
    "    .show(5)\n",
    ")"
   ]
  },
  {
   "cell_type": "code",
   "execution_count": 38,
   "id": "06d48bcc",
   "metadata": {},
   "outputs": [
    {
     "name": "stdout",
     "output_type": "stream",
     "text": [
      "+---------+---------+--------------------+--------------------+-------+---------+-------+--------------+--------------------+\n",
      "|   tconst|titleType|        primaryTitle|       originalTitle|isAdult|startYear|endYear|runtimeMinutes|              genres|\n",
      "+---------+---------+--------------------+--------------------+-------+---------+-------+--------------+--------------------+\n",
      "|tt0000574|    movie|The Story of the ...|The Story of the ...|      0|     1906|     \\N|            70|Action,Adventure,...|\n",
      "|tt0000591|    movie|    The Prodigal Son|   L'enfant prodigue|      0|     1907|     \\N|            90|               Drama|\n",
      "|tt0001184|    movie|Don Juan de Serra...|Don Juan de Serra...|      0|     1910|     \\N|            58|     Adventure,Drama|\n",
      "|tt0001258|    movie|The White Slave T...|Den hvide slaveha...|      0|     1910|     \\N|            45|               Drama|\n",
      "|tt0001285|    movie|   The Life of Moses|   The Life of Moses|      0|     1909|     \\N|            50|Biography,Drama,F...|\n",
      "+---------+---------+--------------------+--------------------+-------+---------+-------+--------------+--------------------+\n",
      "only showing top 5 rows\n",
      "\n"
     ]
    }
   ],
   "source": [
    "(\n",
    "    df_titles.filter(((col('titleType') == 'movie') | (col('titleType') == 'tvSeries')) & (col('runtimeMinutes') <= 90))\n",
    "    .show(5)\n",
    ")"
   ]
  },
  {
   "cell_type": "code",
   "execution_count": 39,
   "id": "7cc063fd",
   "metadata": {},
   "outputs": [
    {
     "name": "stdout",
     "output_type": "stream",
     "text": [
      "+---------+---------+--------------------+--------------------+-------+---------+-------+--------------+--------------------+\n",
      "|   tconst|titleType|        primaryTitle|       originalTitle|isAdult|startYear|endYear|runtimeMinutes|              genres|\n",
      "+---------+---------+--------------------+--------------------+-------+---------+-------+--------------+--------------------+\n",
      "|tt0000574|    movie|The Story of the ...|The Story of the ...|      0|     1906|     \\N|            70|Action,Adventure,...|\n",
      "|tt0000591|    movie|    The Prodigal Son|   L'enfant prodigue|      0|     1907|     \\N|            90|               Drama|\n",
      "|tt0001184|    movie|Don Juan de Serra...|Don Juan de Serra...|      0|     1910|     \\N|            58|     Adventure,Drama|\n",
      "|tt0001258|    movie|The White Slave T...|Den hvide slaveha...|      0|     1910|     \\N|            45|               Drama|\n",
      "|tt0001285|    movie|   The Life of Moses|   The Life of Moses|      0|     1909|     \\N|            50|Biography,Drama,F...|\n",
      "+---------+---------+--------------------+--------------------+-------+---------+-------+--------------+--------------------+\n",
      "only showing top 5 rows\n",
      "\n"
     ]
    }
   ],
   "source": [
    "(\n",
    "    df_titles.filter((col('titleType').isin('movie','tvSeries')) & (col('runtimeMinutes') <= 90))\n",
    "    .show(5)\n",
    ")"
   ]
  },
  {
   "cell_type": "code",
   "execution_count": 40,
   "id": "74d4cb50",
   "metadata": {},
   "outputs": [
    {
     "name": "stdout",
     "output_type": "stream",
     "text": [
      "+---------+---------+--------------------+--------------------+-------+---------+-------+--------------+--------------------+\n",
      "|   tconst|titleType|        primaryTitle|       originalTitle|isAdult|startYear|endYear|runtimeMinutes|              genres|\n",
      "+---------+---------+--------------------+--------------------+-------+---------+-------+--------------+--------------------+\n",
      "|tt0000574|    movie|The Story of the ...|The Story of the ...|      0|     1906|     \\N|            70|Action,Adventure,...|\n",
      "|tt0000591|    movie|    The Prodigal Son|   L'enfant prodigue|      0|     1907|     \\N|            90|               Drama|\n",
      "|tt0001184|    movie|Don Juan de Serra...|Don Juan de Serra...|      0|     1910|     \\N|            58|     Adventure,Drama|\n",
      "|tt0001258|    movie|The White Slave T...|Den hvide slaveha...|      0|     1910|     \\N|            45|               Drama|\n",
      "|tt0001285|    movie|   The Life of Moses|   The Life of Moses|      0|     1909|     \\N|            50|Biography,Drama,F...|\n",
      "+---------+---------+--------------------+--------------------+-------+---------+-------+--------------+--------------------+\n",
      "only showing top 5 rows\n",
      "\n"
     ]
    }
   ],
   "source": [
    "(\n",
    "    df_titles\n",
    "    .filter(col('titleType').isin('movie','tvSeries'))\n",
    "    .filter(col('runtimeMinutes') <= 90)\n",
    "    .show(5)\n",
    ")"
   ]
  },
  {
   "cell_type": "markdown",
   "id": "edc8eaa3",
   "metadata": {},
   "source": [
    "## Filtro com Expressões"
   ]
  },
  {
   "cell_type": "code",
   "execution_count": 41,
   "id": "d61f07e5",
   "metadata": {},
   "outputs": [
    {
     "name": "stdout",
     "output_type": "stream",
     "text": [
      "+---------+---------+--------------------+--------------------+-------+---------+-------+--------------+--------------------+\n",
      "|   tconst|titleType|        primaryTitle|       originalTitle|isAdult|startYear|endYear|runtimeMinutes|              genres|\n",
      "+---------+---------+--------------------+--------------------+-------+---------+-------+--------------+--------------------+\n",
      "|tt0000502|    movie|            Bohemios|            Bohemios|      0|     1905|     \\N|           100|                  \\N|\n",
      "|tt0000574|    movie|The Story of the ...|The Story of the ...|      0|     1906|     \\N|            70|Action,Adventure,...|\n",
      "|tt0000591|    movie|    The Prodigal Son|   L'enfant prodigue|      0|     1907|     \\N|            90|               Drama|\n",
      "|tt0000615|    movie|  Robbery Under Arms|  Robbery Under Arms|      0|     1907|     \\N|            \\N|               Drama|\n",
      "|tt0000630|    movie|              Hamlet|              Amleto|      0|     1908|     \\N|            \\N|               Drama|\n",
      "+---------+---------+--------------------+--------------------+-------+---------+-------+--------------+--------------------+\n",
      "only showing top 5 rows\n",
      "\n"
     ]
    }
   ],
   "source": [
    "(\n",
    "    df_titles\n",
    "    .filter('titleType = \"movie\"')\n",
    "    .show(5)\n",
    ")"
   ]
  },
  {
   "cell_type": "code",
   "execution_count": 43,
   "id": "2f62870f",
   "metadata": {},
   "outputs": [
    {
     "name": "stdout",
     "output_type": "stream",
     "text": [
      "+---------+---------+--------------------+--------------------+-------+---------+-------+--------------+--------------------+\n",
      "|   tconst|titleType|        primaryTitle|       originalTitle|isAdult|startYear|endYear|runtimeMinutes|              genres|\n",
      "+---------+---------+--------------------+--------------------+-------+---------+-------+--------------+--------------------+\n",
      "|tt0000574|    movie|The Story of the ...|The Story of the ...|      0|     1906|     \\N|            70|Action,Adventure,...|\n",
      "|tt0000591|    movie|    The Prodigal Son|   L'enfant prodigue|      0|     1907|     \\N|            90|               Drama|\n",
      "|tt0001184|    movie|Don Juan de Serra...|Don Juan de Serra...|      0|     1910|     \\N|            58|     Adventure,Drama|\n",
      "|tt0001258|    movie|The White Slave T...|Den hvide slaveha...|      0|     1910|     \\N|            45|               Drama|\n",
      "|tt0001285|    movie|   The Life of Moses|   The Life of Moses|      0|     1909|     \\N|            50|Biography,Drama,F...|\n",
      "+---------+---------+--------------------+--------------------+-------+---------+-------+--------------+--------------------+\n",
      "only showing top 5 rows\n",
      "\n"
     ]
    }
   ],
   "source": [
    "(\n",
    "    df_titles\n",
    "    .filter('titleType in (\"movie\", \"tvSeries\") and runtimeMinutes <= 90')\n",
    "    .show(5)\n",
    ")"
   ]
  },
  {
   "cell_type": "code",
   "execution_count": 45,
   "id": "2c7f058d",
   "metadata": {},
   "outputs": [
    {
     "name": "stderr",
     "output_type": "stream",
     "text": [
      "[Stage 39:>                                                         (0 + 3) / 3]\r"
     ]
    },
    {
     "name": "stdout",
     "output_type": "stream",
     "text": [
      "+----------+---------+--------------------+--------------------+-------+---------+-------+--------------+--------------------+\n",
      "|    tconst|titleType|        primaryTitle|       originalTitle|isAdult|startYear|endYear|runtimeMinutes|              genres|\n",
      "+----------+---------+--------------------+--------------------+-------+---------+-------+--------------+--------------------+\n",
      "| tt0069746|    movie|Avengers of the Reef|Avengers of the Reef|      0|     1973|     \\N|            84|    Adventure,Family|\n",
      "|tt11590024|    movie|          Avengers 5|  Avengers: Blue Sky|      0|     2024|     \\N|            \\N|                  \\N|\n",
      "|tt13925114|    movie|Avengers: Infinit...|Avengers: Infinit...|      0|     2019|     \\N|           135|Action,Adventure,...|\n",
      "| tt2395427|    movie|Avengers: Age of ...|Avengers: Age of ...|      0|     2015|     \\N|           141|Action,Adventure,...|\n",
      "| tt4154756|    movie|Avengers: Infinit...|Avengers: Infinit...|      0|     2018|     \\N|           149|Action,Adventure,...|\n",
      "| tt4154796|    movie|   Avengers: Endgame|   Avengers: Endgame|      0|     2019|     \\N|           181|Action,Adventure,...|\n",
      "| tt6172666|    movie|Avengers of Justi...|Avengers of Justi...|      0|     2018|     \\N|            87|Action,Comedy,Family|\n",
      "| tt8875872|    movie|Avengers: Reassem...|Avengers: Reassem...|      0|     2018|     \\N|            52|              Sci-Fi|\n",
      "| tt9303032|    movie|    Avengers: Legacy|    Avengers: Legacy|      0|     2020|     \\N|            87|              Sci-Fi|\n",
      "+----------+---------+--------------------+--------------------+-------+---------+-------+--------------+--------------------+\n",
      "\n"
     ]
    },
    {
     "name": "stderr",
     "output_type": "stream",
     "text": [
      "\r",
      "                                                                                \r"
     ]
    }
   ],
   "source": [
    "(\n",
    "    df_titles\n",
    "    .filter(col('primaryTitle').like('Avengers%'))\n",
    "    .filter(col('titleType') == 'movie')\n",
    "    .show()\n",
    ")"
   ]
  },
  {
   "cell_type": "code",
   "execution_count": 46,
   "id": "58b10362",
   "metadata": {},
   "outputs": [
    {
     "name": "stdout",
     "output_type": "stream",
     "text": [
      "+---------+------------+--------------------+--------------------+-------+---------+-------+--------------+----------------+\n",
      "|   tconst|   titleType|        primaryTitle|       originalTitle|isAdult|startYear|endYear|runtimeMinutes|          genres|\n",
      "+---------+------------+--------------------+--------------------+-------+---------+-------+--------------+----------------+\n",
      "|tt0067098|   tvEpisode|         Willi Forst|         Willi Forst|      0|     null|     \\N|            55|              \\N|\n",
      "|tt0071158|   tvEpisode|  The Arcata Promise|  The Arcata Promise|      0|     null|     \\N|            \\N|           Drama|\n",
      "|tt0073399|       movie|Atlantic City Jac...|           The Money|      0|     null|     \\N|            88|    Action,Drama|\n",
      "|tt0085677|   tvEpisode|        High Country|        High Country|      0|     null|     \\N|            \\N|           Sport|\n",
      "|tt0086784|tvMiniSeries|  Predel vozmozhnogo|  Predel vozmozhnogo|      0|     null|     \\N|           380|           Drama|\n",
      "|tt0090238|       movie|Unternehmen Geige...|Unternehmen Geige...|      0|     null|     \\N|            82|    Crime,Family|\n",
      "|tt0092975|   tvEpisode|Erste Liebe und H...|Erste Liebe und H...|      0|     null|     \\N|            \\N|     Documentary|\n",
      "|tt0094409|   tvEpisode|...und drausst bi...|...und drausst bi...|      0|     null|     \\N|            \\N|     Documentary|\n",
      "|tt0094640|   tvEpisode|Am Stammtisch - E...|Am Stammtisch - E...|      0|     null|     \\N|            \\N|     Documentary|\n",
      "|tt0098828|    tvSeries|Idol Angel Yohkos...|Idol Angel Yohkos...|      0|     null|     \\N|            23|Animation,Comedy|\n",
      "|tt0102143|   tvEpisode|Der bedrohte Kont...|Der bedrohte Kont...|      0|     null|     \\N|            \\N|     Documentary|\n",
      "|tt0102144|   tvEpisode|Die kalte weiße W...|Die kalte weiße W...|      0|     null|     \\N|            \\N|     Documentary|\n",
      "|tt0102145|   tvEpisode|    Leben ohne Sonne|    Leben ohne Sonne|      0|     null|     \\N|            \\N|     Documentary|\n",
      "|tt0102172|   tvEpisode|        Episode #1.2|        Episode #1.2|      0|     null|     \\N|            81|   Drama,History|\n",
      "|tt0102605|   tvEpisode|          L'ostaggio|          L'ostaggio|      0|     null|     \\N|            \\N|              \\N|\n",
      "|tt0104625|   tvEpisode|Kleiner Grenzverkehr|Kleiner Grenzverkehr|      0|     null|     \\N|            \\N|     Documentary|\n",
      "|tt0104698|   tvEpisode|Das Leben hinter ...|Das Leben hinter ...|      0|     null|     \\N|            \\N|     Documentary|\n",
      "|tt0105357|   tvEpisode|         Senza prove|         Senza prove|      0|     null|     \\N|            \\N|              \\N|\n",
      "|tt0105677|   tvEpisode|    L'ultima partita|    L'ultima partita|      0|     null|     \\N|            \\N|              \\N|\n",
      "|tt0105743|   tvEpisode|       La via lattea|       La via lattea|      0|     null|     \\N|            \\N|              \\N|\n",
      "+---------+------------+--------------------+--------------------+-------+---------+-------+--------------+----------------+\n",
      "only showing top 20 rows\n",
      "\n"
     ]
    }
   ],
   "source": [
    "(\n",
    "    df_titles\n",
    "    .withColumn('startYear', col('startYear').cast('int'))\n",
    "    .filter(col('startYear').isNull())\n",
    "    .show()\n",
    ")"
   ]
  },
  {
   "cell_type": "code",
   "execution_count": 48,
   "id": "5af51118",
   "metadata": {},
   "outputs": [
    {
     "name": "stdout",
     "output_type": "stream",
     "text": [
      "+---------+------------+--------------------+--------------------+-------+---------+-------+--------------+----------------+\n",
      "|   tconst|   titleType|        primaryTitle|       originalTitle|isAdult|startYear|endYear|runtimeMinutes|          genres|\n",
      "+---------+------------+--------------------+--------------------+-------+---------+-------+--------------+----------------+\n",
      "|tt0067098|   tvEpisode|         Willi Forst|         Willi Forst|      0|     null|     \\N|            55|              \\N|\n",
      "|tt0071158|   tvEpisode|  The Arcata Promise|  The Arcata Promise|      0|     null|     \\N|            \\N|           Drama|\n",
      "|tt0073399|       movie|Atlantic City Jac...|           The Money|      0|     null|     \\N|            88|    Action,Drama|\n",
      "|tt0085677|   tvEpisode|        High Country|        High Country|      0|     null|     \\N|            \\N|           Sport|\n",
      "|tt0086784|tvMiniSeries|  Predel vozmozhnogo|  Predel vozmozhnogo|      0|     null|     \\N|           380|           Drama|\n",
      "|tt0090238|       movie|Unternehmen Geige...|Unternehmen Geige...|      0|     null|     \\N|            82|    Crime,Family|\n",
      "|tt0092975|   tvEpisode|Erste Liebe und H...|Erste Liebe und H...|      0|     null|     \\N|            \\N|     Documentary|\n",
      "|tt0094409|   tvEpisode|...und drausst bi...|...und drausst bi...|      0|     null|     \\N|            \\N|     Documentary|\n",
      "|tt0094640|   tvEpisode|Am Stammtisch - E...|Am Stammtisch - E...|      0|     null|     \\N|            \\N|     Documentary|\n",
      "|tt0098828|    tvSeries|Idol Angel Yohkos...|Idol Angel Yohkos...|      0|     null|     \\N|            23|Animation,Comedy|\n",
      "|tt0102143|   tvEpisode|Der bedrohte Kont...|Der bedrohte Kont...|      0|     null|     \\N|            \\N|     Documentary|\n",
      "|tt0102144|   tvEpisode|Die kalte weiße W...|Die kalte weiße W...|      0|     null|     \\N|            \\N|     Documentary|\n",
      "|tt0102145|   tvEpisode|    Leben ohne Sonne|    Leben ohne Sonne|      0|     null|     \\N|            \\N|     Documentary|\n",
      "|tt0102172|   tvEpisode|        Episode #1.2|        Episode #1.2|      0|     null|     \\N|            81|   Drama,History|\n",
      "|tt0102605|   tvEpisode|          L'ostaggio|          L'ostaggio|      0|     null|     \\N|            \\N|              \\N|\n",
      "|tt0104625|   tvEpisode|Kleiner Grenzverkehr|Kleiner Grenzverkehr|      0|     null|     \\N|            \\N|     Documentary|\n",
      "|tt0104698|   tvEpisode|Das Leben hinter ...|Das Leben hinter ...|      0|     null|     \\N|            \\N|     Documentary|\n",
      "|tt0105357|   tvEpisode|         Senza prove|         Senza prove|      0|     null|     \\N|            \\N|              \\N|\n",
      "|tt0105677|   tvEpisode|    L'ultima partita|    L'ultima partita|      0|     null|     \\N|            \\N|              \\N|\n",
      "|tt0105743|   tvEpisode|       La via lattea|       La via lattea|      0|     null|     \\N|            \\N|              \\N|\n",
      "+---------+------------+--------------------+--------------------+-------+---------+-------+--------------+----------------+\n",
      "only showing top 20 rows\n",
      "\n"
     ]
    }
   ],
   "source": [
    "(\n",
    "    df_titles\n",
    "    .withColumn('startYear', col('startYear').cast('int'))\n",
    "    .filter('startYear is null')\n",
    "    .show()\n",
    ")"
   ]
  },
  {
   "cell_type": "markdown",
   "id": "2aa1472f",
   "metadata": {},
   "source": [
    "## Ordenação"
   ]
  },
  {
   "cell_type": "code",
   "execution_count": 55,
   "id": "83ce0713",
   "metadata": {},
   "outputs": [
    {
     "name": "stderr",
     "output_type": "stream",
     "text": [
      "[Stage 46:====================================>                     (5 + 3) / 8]\r"
     ]
    },
    {
     "name": "stdout",
     "output_type": "stream",
     "text": [
      "+---------+---------+--------------------+--------------------+-------+---------+-------+--------------+--------------------+\n",
      "|   tconst|titleType|        primaryTitle|       originalTitle|isAdult|startYear|endYear|runtimeMinutes|              genres|\n",
      "+---------+---------+--------------------+--------------------+-------+---------+-------+--------------+--------------------+\n",
      "|tt2210499|    movie|          Birmingham|          Birmingham|      0|     1896|     \\N|            61|         Documentary|\n",
      "|tt0229676|    movie|Reproduction of t...|Reproduction of t...|      0|     1897|     \\N|            \\N|Documentary,News,...|\n",
      "|tt0138349|    movie|O Carnaval em Lisboa|O Carnaval em Lisboa|      0|     1898|     \\N|            \\N|         Documentary|\n",
      "|tt0138759|    movie|A Rua Augusta em ...|A Rua Augusta em ...|      0|     1898|     \\N|            \\N|         Documentary|\n",
      "|tt0138342|    movie|      O Campo Grande|      O Campo Grande|      0|     1898|     \\N|            \\N|         Documentary|\n",
      "+---------+---------+--------------------+--------------------+-------+---------+-------+--------------+--------------------+\n",
      "only showing top 5 rows\n",
      "\n"
     ]
    },
    {
     "name": "stderr",
     "output_type": "stream",
     "text": [
      "\r",
      "[Stage 46:==================================================>       (7 + 1) / 8]\r",
      "\r",
      "                                                                                \r"
     ]
    }
   ],
   "source": [
    "df_titles.orderBy(col('startYear')).filter('titleType = \"movie\"').show(5)"
   ]
  },
  {
   "cell_type": "code",
   "execution_count": 56,
   "id": "9eaf8c00",
   "metadata": {},
   "outputs": [
    {
     "name": "stderr",
     "output_type": "stream",
     "text": [
      "[Stage 47:==================================================>       (7 + 1) / 8]\r"
     ]
    },
    {
     "name": "stdout",
     "output_type": "stream",
     "text": [
      "+---------+---------+--------------------+--------------------+-------+---------+-------+--------------+--------------------+\n",
      "|   tconst|titleType|        primaryTitle|       originalTitle|isAdult|startYear|endYear|runtimeMinutes|              genres|\n",
      "+---------+---------+--------------------+--------------------+-------+---------+-------+--------------+--------------------+\n",
      "|tt2210499|    movie|          Birmingham|          Birmingham|      0|     1896|     \\N|            61|         Documentary|\n",
      "|tt0229676|    movie|Reproduction of t...|Reproduction of t...|      0|     1897|     \\N|            \\N|Documentary,News,...|\n",
      "|tt0138349|    movie|O Carnaval em Lisboa|O Carnaval em Lisboa|      0|     1898|     \\N|            \\N|         Documentary|\n",
      "|tt0138342|    movie|      O Campo Grande|      O Campo Grande|      0|     1898|     \\N|            \\N|         Documentary|\n",
      "|tt0138759|    movie|A Rua Augusta em ...|A Rua Augusta em ...|      0|     1898|     \\N|            \\N|         Documentary|\n",
      "+---------+---------+--------------------+--------------------+-------+---------+-------+--------------+--------------------+\n",
      "only showing top 5 rows\n",
      "\n"
     ]
    },
    {
     "name": "stderr",
     "output_type": "stream",
     "text": [
      "\r",
      "                                                                                \r"
     ]
    }
   ],
   "source": [
    "df_titles.orderBy('startYear', desc('runtimeMinutes')).filter('titleType = \"movie\"').show(5)"
   ]
  },
  {
   "cell_type": "code",
   "execution_count": 57,
   "id": "d128c1e8",
   "metadata": {},
   "outputs": [
    {
     "name": "stderr",
     "output_type": "stream",
     "text": [
      "\r",
      "[Stage 48:>                                                         (0 + 8) / 8]\r"
     ]
    },
    {
     "name": "stdout",
     "output_type": "stream",
     "text": [
      "+---------+---------+-------------+-------------+-------+---------+-------+--------------+-------------+\n",
      "|   tconst|titleType| primaryTitle|originalTitle|isAdult|startYear|endYear|runtimeMinutes|       genres|\n",
      "+---------+---------+-------------+-------------+-------+---------+-------+--------------+-------------+\n",
      "|tt1699743|    movie|   Blind Rage|   Blind Rage|      0|       \\N|     \\N|            \\N|       Action|\n",
      "|tt1699751|    movie|Old St. Louis|Old St. Louis|      0|       \\N|     \\N|            \\N| Comedy,Drama|\n",
      "|tt1699744|    movie|  Boilerplate|  Boilerplate|      0|       \\N|     \\N|            \\N|Action,Sci-Fi|\n",
      "|tt1699749|  tvMovie|  K Blows Top|  K Blows Top|      0|       \\N|     \\N|            \\N|    Biography|\n",
      "|tt1699750|    movie|      Miranda|      Miranda|      0|       \\N|     \\N|            \\N|        Drama|\n",
      "+---------+---------+-------------+-------------+-------+---------+-------+--------------+-------------+\n",
      "only showing top 5 rows\n",
      "\n"
     ]
    },
    {
     "name": "stderr",
     "output_type": "stream",
     "text": [
      "\r",
      "[Stage 48:===========================================>              (6 + 2) / 8]\r",
      "\r",
      "                                                                                \r"
     ]
    }
   ],
   "source": [
    "df_titles.orderBy(col('startYear').cast('int')).show(5)"
   ]
  },
  {
   "cell_type": "code",
   "execution_count": 60,
   "id": "9a464afe",
   "metadata": {},
   "outputs": [
    {
     "name": "stderr",
     "output_type": "stream",
     "text": [
      "\r",
      "[Stage 51:>                                                         (0 + 8) / 8]\r"
     ]
    },
    {
     "name": "stdout",
     "output_type": "stream",
     "text": [
      "+----------+---------+--------------------+--------------------+-------+---------+-------+--------------+-----------------+\n",
      "|    tconst|titleType|        primaryTitle|       originalTitle|isAdult|startYear|endYear|runtimeMinutes|           genres|\n",
      "+----------+---------+--------------------+--------------------+-------+---------+-------+--------------+-----------------+\n",
      "| tt3155794|    short|    Passage de Venus|    Passage de Venus|      0|     1874|     \\N|             1|Documentary,Short|\n",
      "|tt14495706|    short|   La Rosace Magique|   La Rosace Magique|      0|     1877|     \\N|             1|  Animation,Short|\n",
      "| tt2221420|    short|Sallie Gardner at...|Sallie Gardner at...|      0|     1878|     \\N|             1|Documentary,Short|\n",
      "|tt12592084|    short|   Le singe musicien|   Le singe musicien|      0|     1878|     \\N|             1|  Animation,Short|\n",
      "| tt7816420|    short|Athlete Swinging ...|Athlete Swinging ...|      0|     1881|     \\N|             1|Documentary,Short|\n",
      "+----------+---------+--------------------+--------------------+-------+---------+-------+--------------+-----------------+\n",
      "only showing top 5 rows\n",
      "\n"
     ]
    },
    {
     "name": "stderr",
     "output_type": "stream",
     "text": [
      "\r",
      "[Stage 51:=============================>                            (4 + 4) / 8]\r",
      "\r",
      "                                                                                \r"
     ]
    }
   ],
   "source": [
    "(\n",
    "    df_titles\n",
    "    .withColumn('startYear', col('startYear').cast('int'))\n",
    "    .orderBy(asc_nulls_last('startYear'))\n",
    "    .show(5)\n",
    ")"
   ]
  },
  {
   "cell_type": "markdown",
   "id": "d299bc94",
   "metadata": {},
   "source": [
    "## Renomeando Colunas"
   ]
  },
  {
   "cell_type": "code",
   "execution_count": 62,
   "id": "e5195d5a",
   "metadata": {},
   "outputs": [
    {
     "name": "stdout",
     "output_type": "stream",
     "text": [
      "+---------+---------+--------------------+--------------------+-------+---------+-------+--------------+--------------------+\n",
      "|   tconst|titleType|          nome_filme|       originalTitle|isAdult|startYear|endYear|runtimeMinutes|              genres|\n",
      "+---------+---------+--------------------+--------------------+-------+---------+-------+--------------+--------------------+\n",
      "|tt0000001|    short|          Carmencita|          Carmencita|      0|     1894|     \\N|             1|   Documentary,Short|\n",
      "|tt0000002|    short|Le clown et ses c...|Le clown et ses c...|      0|     1892|     \\N|             5|     Animation,Short|\n",
      "|tt0000003|    short|      Pauvre Pierrot|      Pauvre Pierrot|      0|     1892|     \\N|             4|Animation,Comedy,...|\n",
      "|tt0000004|    short|         Un bon bock|         Un bon bock|      0|     1892|     \\N|            12|     Animation,Short|\n",
      "|tt0000005|    short|    Blacksmith Scene|    Blacksmith Scene|      0|     1893|     \\N|             1|        Comedy,Short|\n",
      "+---------+---------+--------------------+--------------------+-------+---------+-------+--------------+--------------------+\n",
      "only showing top 5 rows\n",
      "\n"
     ]
    }
   ],
   "source": [
    "(\n",
    "    df_titles\n",
    "    .withColumnRenamed('primaryTitle', 'nome_filme')\n",
    "    .show(5)\n",
    ")"
   ]
  },
  {
   "cell_type": "code",
   "execution_count": 65,
   "id": "1b3b6e81",
   "metadata": {},
   "outputs": [
    {
     "name": "stdout",
     "output_type": "stream",
     "text": [
      "+--------------------+---------+---------+--------------+\n",
      "|          nome_filme|titleType|startYear|runtimeMinutes|\n",
      "+--------------------+---------+---------+--------------+\n",
      "|          Carmencita|    short|     1894|             1|\n",
      "|Le clown et ses c...|    short|     1892|             5|\n",
      "|      Pauvre Pierrot|    short|     1892|             4|\n",
      "|         Un bon bock|    short|     1892|            12|\n",
      "|    Blacksmith Scene|    short|     1893|             1|\n",
      "+--------------------+---------+---------+--------------+\n",
      "only showing top 5 rows\n",
      "\n"
     ]
    }
   ],
   "source": [
    "(\n",
    "    df_titles\n",
    "    .select(col('primaryTitle').alias('nome_filme'), 'titleType', 'startYear', 'runtimeMinutes')\n",
    "    .show(5)\n",
    ")"
   ]
  },
  {
   "cell_type": "code",
   "execution_count": 66,
   "id": "13c4cd09",
   "metadata": {},
   "outputs": [
    {
     "name": "stdout",
     "output_type": "stream",
     "text": [
      "+--------------------+---------+---------+--------------+\n",
      "|          nome_filme|titleType|startYear|runtimeMinutes|\n",
      "+--------------------+---------+---------+--------------+\n",
      "|          Carmencita|    short|     1894|             1|\n",
      "|Le clown et ses c...|    short|     1892|             5|\n",
      "|      Pauvre Pierrot|    short|     1892|             4|\n",
      "|         Un bon bock|    short|     1892|            12|\n",
      "|    Blacksmith Scene|    short|     1893|             1|\n",
      "+--------------------+---------+---------+--------------+\n",
      "only showing top 5 rows\n",
      "\n"
     ]
    }
   ],
   "source": [
    "(\n",
    "    df_titles\n",
    "    .selectExpr('primaryTitle as nome_filme', 'titleType', 'startYear', 'runtimeMinutes')\n",
    "    .show(5)\n",
    ")"
   ]
  },
  {
   "cell_type": "markdown",
   "id": "5b96468c",
   "metadata": {},
   "source": [
    "## Criando e Alaterando Colunas"
   ]
  },
  {
   "cell_type": "code",
   "execution_count": 67,
   "id": "0f8da4e5",
   "metadata": {},
   "outputs": [
    {
     "name": "stdout",
     "output_type": "stream",
     "text": [
      "+---------+--------------------+--------------+------------+\n",
      "|   tconst|        primaryTitle|runtimeMinutes|runtimeHours|\n",
      "+---------+--------------------+--------------+------------+\n",
      "|tt0000001|          Carmencita|             1|       0.017|\n",
      "|tt0000002|Le clown et ses c...|             5|       0.083|\n",
      "|tt0000003|      Pauvre Pierrot|             4|       0.067|\n",
      "|tt0000004|         Un bon bock|            12|         0.2|\n",
      "|tt0000005|    Blacksmith Scene|             1|       0.017|\n",
      "+---------+--------------------+--------------+------------+\n",
      "only showing top 5 rows\n",
      "\n"
     ]
    }
   ],
   "source": [
    "(\n",
    "    df_titles.select('tconst', 'primaryTitle', 'runtimeMinutes', )\n",
    "    .withColumn('runtimeHours', round(col('runTimeMinutes').cast('int') / 60, 3))\n",
    "    .show(5)\n",
    ")"
   ]
  },
  {
   "cell_type": "markdown",
   "id": "2526fe87",
   "metadata": {},
   "source": [
    "## Criando colunas a partir de constantes"
   ]
  },
  {
   "cell_type": "code",
   "execution_count": 70,
   "id": "b8d703fb",
   "metadata": {},
   "outputs": [
    {
     "name": "stdout",
     "output_type": "stream",
     "text": [
      "+---------+--------------------+--------------+------+\n",
      "|   tconst|        primaryTitle|runtimeMinutes|  pais|\n",
      "+---------+--------------------+--------------+------+\n",
      "|tt0000001|          Carmencita|             1|Brasil|\n",
      "|tt0000002|Le clown et ses c...|             5|Brasil|\n",
      "|tt0000003|      Pauvre Pierrot|             4|Brasil|\n",
      "|tt0000004|         Un bon bock|            12|Brasil|\n",
      "|tt0000005|    Blacksmith Scene|             1|Brasil|\n",
      "+---------+--------------------+--------------+------+\n",
      "only showing top 5 rows\n",
      "\n"
     ]
    }
   ],
   "source": [
    "(\n",
    "    df_titles\n",
    "    .select('tconst', 'primaryTitle', 'runtimeMinutes')\n",
    "    .withColumn('pais', lit('Brasil'))\n",
    "    .show(5)\n",
    ")"
   ]
  },
  {
   "cell_type": "code",
   "execution_count": 75,
   "id": "b609693e",
   "metadata": {},
   "outputs": [
    {
     "name": "stdout",
     "output_type": "stream",
     "text": [
      "+---------+--------------------+--------------+-----------------+\n",
      "|   tconst|        primaryTitle|runtimeMinutes|categoria_runtime|\n",
      "+---------+--------------------+--------------+-----------------+\n",
      "|tt0000502|            Bohemios|           100|           normal|\n",
      "|tt0000574|The Story of the ...|            70|           normal|\n",
      "|tt0000591|    The Prodigal Son|            90|           normal|\n",
      "|tt0000679|The Fairylogue an...|           120|            longo|\n",
      "|tt0001756|Lucha por la here...|            92|           normal|\n",
      "|tt0002026|Anny - Story of a...|            68|           normal|\n",
      "|tt0002101|           Cleopatra|           100|           normal|\n",
      "|tt0002130|     Dante's Inferno|            71|           normal|\n",
      "|tt0002315|El lobo de la sierra|            76|           normal|\n",
      "|tt0002423|             Passion|            85|           normal|\n",
      "|tt0002445|          Quo Vadis?|           120|            longo|\n",
      "|tt0002452|The Independence ...|           120|            longo|\n",
      "|tt0002625|          Ana Kadova|            92|           normal|\n",
      "|tt0002646|            Atlantis|           121|            longo|\n",
      "|tt0002685|        Blodets röst|            89|           normal|\n",
      "|tt0002767|The Count of Mont...|            69|           normal|\n",
      "|tt0002820|          East Lynne|            69|           normal|\n",
      "|tt0002885|   From Dusk to Dawn|            90|           normal|\n",
      "|tt0002898|Germinal; or, The...|           150|            longo|\n",
      "|tt0002922|              Hamlet|            64|           normal|\n",
      "|tt0002973|Dr. Mawson in the...|            68|           normal|\n",
      "|tt0003014|       Ingeborg Holm|            96|           normal|\n",
      "|tt0003037|Fantomas: The Man...|            61|           normal|\n",
      "|tt0003076|   Livets konflikter|            64|           normal|\n",
      "|tt0003102|    Love Everlasting|            90|           normal|\n",
      "+---------+--------------------+--------------+-----------------+\n",
      "only showing top 25 rows\n",
      "\n"
     ]
    }
   ],
   "source": [
    "(\n",
    "    df_titles\n",
    "    .select('tconst', 'primaryTitle', 'runtimeMinutes')\n",
    "    .withColumn('runtimeMinutes', col('runtimeMinutes').cast('int'))\n",
    "    .withColumn('categoria_runtime', when(col('runtimeMinutes') <= 60, 'curto')\n",
    "                                     .when((col('runtimeMinutes') > 60) & (col('runtimeMinutes') < 120), 'normal')\n",
    "                                     .when(col('runtimeMinutes') >= 120, 'longo')\n",
    "                                     .when(col('runtimeMinutes') .isNull(), 'nulo')\n",
    "                                     .otherwise('Erro'))\n",
    "    .filter('runtimeMinutes > 60')\n",
    "    .show(25)\n",
    ")"
   ]
  },
  {
   "cell_type": "code",
   "execution_count": 77,
   "id": "b1f56c1f",
   "metadata": {},
   "outputs": [
    {
     "name": "stdout",
     "output_type": "stream",
     "text": [
      "+---------+--------------------+--------------+-----------------+\n",
      "|   tconst|        primaryTitle|runtimeMinutes|categoria_runtime|\n",
      "+---------+--------------------+--------------+-----------------+\n",
      "|tt0000502|            Bohemios|           100|           normal|\n",
      "|tt0000574|The Story of the ...|            70|           normal|\n",
      "|tt0000591|    The Prodigal Son|            90|           normal|\n",
      "|tt0000679|The Fairylogue an...|           120|            longo|\n",
      "|tt0001756|Lucha por la here...|            92|           normal|\n",
      "|tt0002026|Anny - Story of a...|            68|           normal|\n",
      "|tt0002101|           Cleopatra|           100|           normal|\n",
      "|tt0002130|     Dante's Inferno|            71|           normal|\n",
      "|tt0002315|El lobo de la sierra|            76|           normal|\n",
      "|tt0002423|             Passion|            85|           normal|\n",
      "|tt0002445|          Quo Vadis?|           120|            longo|\n",
      "|tt0002452|The Independence ...|           120|            longo|\n",
      "|tt0002625|          Ana Kadova|            92|           normal|\n",
      "|tt0002646|            Atlantis|           121|            longo|\n",
      "|tt0002685|        Blodets röst|            89|           normal|\n",
      "|tt0002767|The Count of Mont...|            69|           normal|\n",
      "|tt0002820|          East Lynne|            69|           normal|\n",
      "|tt0002885|   From Dusk to Dawn|            90|           normal|\n",
      "|tt0002898|Germinal; or, The...|           150|            longo|\n",
      "|tt0002922|              Hamlet|            64|           normal|\n",
      "|tt0002973|Dr. Mawson in the...|            68|           normal|\n",
      "|tt0003014|       Ingeborg Holm|            96|           normal|\n",
      "|tt0003037|Fantomas: The Man...|            61|           normal|\n",
      "|tt0003076|   Livets konflikter|            64|           normal|\n",
      "|tt0003102|    Love Everlasting|            90|           normal|\n",
      "+---------+--------------------+--------------+-----------------+\n",
      "only showing top 25 rows\n",
      "\n"
     ]
    }
   ],
   "source": [
    "predicado = \"\"\"\n",
    "CASE WHEN runtimeMinutes <= 60 THEN 'curto'\n",
    "     WHEN runtimeMinutes > 60 AND runtimeMinutes < 120 THEN 'normal'\n",
    "     WHEN runtimeMinutes >= 120 THEN 'longo'\n",
    "     WHEN runtimeMinutes IS NUll THEN 'nulo'\n",
    "ELSE 'erro'\n",
    "END\n",
    "\"\"\"\n",
    "\n",
    "(\n",
    "    df_titles\n",
    "    .select('tconst', 'primaryTitle', 'runtimeMinutes')\n",
    "    .withColumn('runtimeMinutes', col('runtimeMinutes').cast('int'))\n",
    "    .withColumn('categoria_runtime', expr(predicado))\n",
    "    .filter('runtimeMinutes > 60')\n",
    "    .show(25)\n",
    ")"
   ]
  },
  {
   "cell_type": "markdown",
   "id": "00294255",
   "metadata": {},
   "source": [
    "## Agragação e Agrupamento"
   ]
  },
  {
   "cell_type": "code",
   "execution_count": 6,
   "id": "6f048916",
   "metadata": {},
   "outputs": [],
   "source": [
    "df_title_subset = (\n",
    "    df_titles\n",
    "    .filter(\"cast(startYear as int) >= 2000\")\n",
    "    .sample(fraction = 0.5)\n",
    "    .withColumn('genre', f.split('genres', ',').getItem(0))\n",
    ")"
   ]
  },
  {
   "cell_type": "code",
   "execution_count": 7,
   "id": "850ee3b0",
   "metadata": {},
   "outputs": [
    {
     "name": "stderr",
     "output_type": "stream",
     "text": [
      "[Stage 3:==================================================>    (184 + 8) / 200]\r"
     ]
    },
    {
     "name": "stdout",
     "output_type": "stream",
     "text": [
      "+--------------+\n",
      "|distinct_genre|\n",
      "+--------------+\n",
      "|            28|\n",
      "+--------------+\n",
      "\n"
     ]
    },
    {
     "name": "stderr",
     "output_type": "stream",
     "text": [
      "\r",
      "                                                                                \r"
     ]
    }
   ],
   "source": [
    "(\n",
    "    df_title_subset\n",
    "    .agg(f.expr('count(distinct genre) as distinct_genre'))\n",
    "    .show(5)\n",
    ")"
   ]
  },
  {
   "cell_type": "code",
   "execution_count": 110,
   "id": "e52826fd",
   "metadata": {},
   "outputs": [
    {
     "name": "stderr",
     "output_type": "stream",
     "text": [
      "                                                                                \r"
     ]
    },
    {
     "data": {
      "text/html": [
       "<div>\n",
       "<style scoped>\n",
       "    .dataframe tbody tr th:only-of-type {\n",
       "        vertical-align: middle;\n",
       "    }\n",
       "\n",
       "    .dataframe tbody tr th {\n",
       "        vertical-align: top;\n",
       "    }\n",
       "\n",
       "    .dataframe thead th {\n",
       "        text-align: right;\n",
       "    }\n",
       "</style>\n",
       "<table border=\"1\" class=\"dataframe\">\n",
       "  <thead>\n",
       "    <tr style=\"text-align: right;\">\n",
       "      <th></th>\n",
       "      <th>total_runtimeMinutes</th>\n",
       "      <th>mean_runtimeMinutes</th>\n",
       "      <th>min_runtimeMinutes</th>\n",
       "      <th>max_runtimeMinutes</th>\n",
       "      <th>median_runtimeMinutes</th>\n",
       "      <th>std_runtimeMinutes</th>\n",
       "    </tr>\n",
       "  </thead>\n",
       "  <tbody>\n",
       "    <tr>\n",
       "      <th>0</th>\n",
       "      <td>33611661</td>\n",
       "      <td>40.800754</td>\n",
       "      <td>0</td>\n",
       "      <td>51420</td>\n",
       "      <td>26</td>\n",
       "      <td>88.770505</td>\n",
       "    </tr>\n",
       "  </tbody>\n",
       "</table>\n",
       "</div>"
      ],
      "text/plain": [
       "   total_runtimeMinutes  mean_runtimeMinutes  min_runtimeMinutes  \\\n",
       "0              33611661            40.800754                   0   \n",
       "\n",
       "   max_runtimeMinutes  median_runtimeMinutes  std_runtimeMinutes  \n",
       "0               51420                     26           88.770505  "
      ]
     },
     "execution_count": 110,
     "metadata": {},
     "output_type": "execute_result"
    }
   ],
   "source": [
    "(\n",
    "    df_title_subset\n",
    "    .withColumn('runtimeMinutes', f.col('runtimeMinutes').cast('int'))\n",
    "    .agg(f.sum('runtimeMinutes').alias('total_runtimeMinutes'),\n",
    "         f.mean('runtimeMinutes').alias('mean_runtimeMinutes'),\n",
    "         f.min('runtimeMinutes').alias('min_runtimeMinutes'),\n",
    "         f.max('runtimeMinutes').alias('max_runtimeMinutes'),\n",
    "         f.percentile_approx('runtimeMinutes', 0.5, f.lit(10000000)).alias('median_runtimeMinutes'),\n",
    "         f.stddev('runtimeMinutes').alias('std_runtimeMinutes'),)\n",
    "    .toPandas()\n",
    ")"
   ]
  },
  {
   "cell_type": "code",
   "execution_count": 113,
   "id": "a98732d7",
   "metadata": {},
   "outputs": [
    {
     "name": "stderr",
     "output_type": "stream",
     "text": [
      "                                                                                \r"
     ]
    },
    {
     "data": {
      "text/html": [
       "<div>\n",
       "<style scoped>\n",
       "    .dataframe tbody tr th:only-of-type {\n",
       "        vertical-align: middle;\n",
       "    }\n",
       "\n",
       "    .dataframe tbody tr th {\n",
       "        vertical-align: top;\n",
       "    }\n",
       "\n",
       "    .dataframe thead th {\n",
       "        text-align: right;\n",
       "    }\n",
       "</style>\n",
       "<table border=\"1\" class=\"dataframe\">\n",
       "  <thead>\n",
       "    <tr style=\"text-align: right;\">\n",
       "      <th></th>\n",
       "      <th>summary</th>\n",
       "      <th>runtimeMinutes</th>\n",
       "    </tr>\n",
       "  </thead>\n",
       "  <tbody>\n",
       "    <tr>\n",
       "      <th>0</th>\n",
       "      <td>count</td>\n",
       "      <td>2703972</td>\n",
       "    </tr>\n",
       "    <tr>\n",
       "      <th>1</th>\n",
       "      <td>mean</td>\n",
       "      <td>40.80075382374363</td>\n",
       "    </tr>\n",
       "    <tr>\n",
       "      <th>2</th>\n",
       "      <td>stddev</td>\n",
       "      <td>88.77050453432403</td>\n",
       "    </tr>\n",
       "    <tr>\n",
       "      <th>3</th>\n",
       "      <td>min</td>\n",
       "      <td>0</td>\n",
       "    </tr>\n",
       "    <tr>\n",
       "      <th>4</th>\n",
       "      <td>max</td>\n",
       "      <td>\\N</td>\n",
       "    </tr>\n",
       "  </tbody>\n",
       "</table>\n",
       "</div>"
      ],
      "text/plain": [
       "  summary     runtimeMinutes\n",
       "0   count            2703972\n",
       "1    mean  40.80075382374363\n",
       "2  stddev  88.77050453432403\n",
       "3     min                  0\n",
       "4     max                 \\N"
      ]
     },
     "execution_count": 113,
     "metadata": {},
     "output_type": "execute_result"
    }
   ],
   "source": [
    "df_title_subset.select('runtimeMinutes').describe().toPandas()"
   ]
  },
  {
   "cell_type": "markdown",
   "id": "a2a305bf",
   "metadata": {},
   "source": [
    "## Agrupamento"
   ]
  },
  {
   "cell_type": "code",
   "execution_count": 115,
   "id": "8d4ce7f6",
   "metadata": {},
   "outputs": [
    {
     "name": "stderr",
     "output_type": "stream",
     "text": [
      "                                                                                \r"
     ]
    },
    {
     "data": {
      "text/html": [
       "<div>\n",
       "<style scoped>\n",
       "    .dataframe tbody tr th:only-of-type {\n",
       "        vertical-align: middle;\n",
       "    }\n",
       "\n",
       "    .dataframe tbody tr th {\n",
       "        vertical-align: top;\n",
       "    }\n",
       "\n",
       "    .dataframe thead th {\n",
       "        text-align: right;\n",
       "    }\n",
       "</style>\n",
       "<table border=\"1\" class=\"dataframe\">\n",
       "  <thead>\n",
       "    <tr style=\"text-align: right;\">\n",
       "      <th></th>\n",
       "      <th>genre</th>\n",
       "      <th>count</th>\n",
       "    </tr>\n",
       "  </thead>\n",
       "  <tbody>\n",
       "    <tr>\n",
       "      <th>0</th>\n",
       "      <td>Comedy</td>\n",
       "      <td>478498</td>\n",
       "    </tr>\n",
       "    <tr>\n",
       "      <th>1</th>\n",
       "      <td>Drama</td>\n",
       "      <td>449019</td>\n",
       "    </tr>\n",
       "    <tr>\n",
       "      <th>2</th>\n",
       "      <td>Documentary</td>\n",
       "      <td>238025</td>\n",
       "    </tr>\n",
       "    <tr>\n",
       "      <th>3</th>\n",
       "      <td>\\N</td>\n",
       "      <td>184158</td>\n",
       "    </tr>\n",
       "    <tr>\n",
       "      <th>4</th>\n",
       "      <td>Talk-Show</td>\n",
       "      <td>181948</td>\n",
       "    </tr>\n",
       "    <tr>\n",
       "      <th>5</th>\n",
       "      <td>News</td>\n",
       "      <td>161666</td>\n",
       "    </tr>\n",
       "    <tr>\n",
       "      <th>6</th>\n",
       "      <td>Reality-TV</td>\n",
       "      <td>119977</td>\n",
       "    </tr>\n",
       "    <tr>\n",
       "      <th>7</th>\n",
       "      <td>Action</td>\n",
       "      <td>112245</td>\n",
       "    </tr>\n",
       "    <tr>\n",
       "      <th>8</th>\n",
       "      <td>Adult</td>\n",
       "      <td>107854</td>\n",
       "    </tr>\n",
       "    <tr>\n",
       "      <th>9</th>\n",
       "      <td>Animation</td>\n",
       "      <td>85221</td>\n",
       "    </tr>\n",
       "    <tr>\n",
       "      <th>10</th>\n",
       "      <td>Crime</td>\n",
       "      <td>78496</td>\n",
       "    </tr>\n",
       "    <tr>\n",
       "      <th>11</th>\n",
       "      <td>Music</td>\n",
       "      <td>74511</td>\n",
       "    </tr>\n",
       "    <tr>\n",
       "      <th>12</th>\n",
       "      <td>Short</td>\n",
       "      <td>70995</td>\n",
       "    </tr>\n",
       "    <tr>\n",
       "      <th>13</th>\n",
       "      <td>Adventure</td>\n",
       "      <td>59767</td>\n",
       "    </tr>\n",
       "    <tr>\n",
       "      <th>14</th>\n",
       "      <td>Family</td>\n",
       "      <td>58665</td>\n",
       "    </tr>\n",
       "    <tr>\n",
       "      <th>15</th>\n",
       "      <td>Game-Show</td>\n",
       "      <td>57185</td>\n",
       "    </tr>\n",
       "    <tr>\n",
       "      <th>16</th>\n",
       "      <td>Sport</td>\n",
       "      <td>39042</td>\n",
       "    </tr>\n",
       "    <tr>\n",
       "      <th>17</th>\n",
       "      <td>Horror</td>\n",
       "      <td>30322</td>\n",
       "    </tr>\n",
       "    <tr>\n",
       "      <th>18</th>\n",
       "      <td>Biography</td>\n",
       "      <td>30182</td>\n",
       "    </tr>\n",
       "    <tr>\n",
       "      <th>19</th>\n",
       "      <td>Romance</td>\n",
       "      <td>27573</td>\n",
       "    </tr>\n",
       "    <tr>\n",
       "      <th>20</th>\n",
       "      <td>Fantasy</td>\n",
       "      <td>13890</td>\n",
       "    </tr>\n",
       "    <tr>\n",
       "      <th>21</th>\n",
       "      <td>Sci-Fi</td>\n",
       "      <td>12002</td>\n",
       "    </tr>\n",
       "    <tr>\n",
       "      <th>22</th>\n",
       "      <td>History</td>\n",
       "      <td>9639</td>\n",
       "    </tr>\n",
       "    <tr>\n",
       "      <th>23</th>\n",
       "      <td>Mystery</td>\n",
       "      <td>8609</td>\n",
       "    </tr>\n",
       "    <tr>\n",
       "      <th>24</th>\n",
       "      <td>Thriller</td>\n",
       "      <td>8380</td>\n",
       "    </tr>\n",
       "    <tr>\n",
       "      <th>25</th>\n",
       "      <td>Musical</td>\n",
       "      <td>5070</td>\n",
       "    </tr>\n",
       "    <tr>\n",
       "      <th>26</th>\n",
       "      <td>War</td>\n",
       "      <td>544</td>\n",
       "    </tr>\n",
       "    <tr>\n",
       "      <th>27</th>\n",
       "      <td>Western</td>\n",
       "      <td>489</td>\n",
       "    </tr>\n",
       "  </tbody>\n",
       "</table>\n",
       "</div>"
      ],
      "text/plain": [
       "          genre   count\n",
       "0        Comedy  478498\n",
       "1         Drama  449019\n",
       "2   Documentary  238025\n",
       "3            \\N  184158\n",
       "4     Talk-Show  181948\n",
       "5          News  161666\n",
       "6    Reality-TV  119977\n",
       "7        Action  112245\n",
       "8         Adult  107854\n",
       "9     Animation   85221\n",
       "10        Crime   78496\n",
       "11        Music   74511\n",
       "12        Short   70995\n",
       "13    Adventure   59767\n",
       "14       Family   58665\n",
       "15    Game-Show   57185\n",
       "16        Sport   39042\n",
       "17       Horror   30322\n",
       "18    Biography   30182\n",
       "19      Romance   27573\n",
       "20      Fantasy   13890\n",
       "21       Sci-Fi   12002\n",
       "22      History    9639\n",
       "23      Mystery    8609\n",
       "24     Thriller    8380\n",
       "25      Musical    5070\n",
       "26          War     544\n",
       "27      Western     489"
      ]
     },
     "execution_count": 115,
     "metadata": {},
     "output_type": "execute_result"
    }
   ],
   "source": [
    "(\n",
    "    df_title_subset\n",
    "    .groupBy('genre')\n",
    "    .count()\n",
    "    .orderBy(f.col('count').desc())\n",
    "    .toPandas()\n",
    ")"
   ]
  },
  {
   "cell_type": "code",
   "execution_count": 118,
   "id": "d892a358",
   "metadata": {},
   "outputs": [
    {
     "name": "stderr",
     "output_type": "stream",
     "text": [
      "                                                                                \r"
     ]
    },
    {
     "data": {
      "text/html": [
       "<div>\n",
       "<style scoped>\n",
       "    .dataframe tbody tr th:only-of-type {\n",
       "        vertical-align: middle;\n",
       "    }\n",
       "\n",
       "    .dataframe tbody tr th {\n",
       "        vertical-align: top;\n",
       "    }\n",
       "\n",
       "    .dataframe thead th {\n",
       "        text-align: right;\n",
       "    }\n",
       "</style>\n",
       "<table border=\"1\" class=\"dataframe\">\n",
       "  <thead>\n",
       "    <tr style=\"text-align: right;\">\n",
       "      <th></th>\n",
       "      <th>genre</th>\n",
       "      <th>startYear</th>\n",
       "      <th>mean_runtimeMinutes</th>\n",
       "    </tr>\n",
       "  </thead>\n",
       "  <tbody>\n",
       "    <tr>\n",
       "      <th>0</th>\n",
       "      <td>Sport</td>\n",
       "      <td>2021</td>\n",
       "      <td>113.408889</td>\n",
       "    </tr>\n",
       "    <tr>\n",
       "      <th>1</th>\n",
       "      <td>War</td>\n",
       "      <td>2021</td>\n",
       "      <td>91.750000</td>\n",
       "    </tr>\n",
       "    <tr>\n",
       "      <th>2</th>\n",
       "      <td>Western</td>\n",
       "      <td>2021</td>\n",
       "      <td>90.800000</td>\n",
       "    </tr>\n",
       "    <tr>\n",
       "      <th>3</th>\n",
       "      <td>Thriller</td>\n",
       "      <td>2021</td>\n",
       "      <td>88.278107</td>\n",
       "    </tr>\n",
       "    <tr>\n",
       "      <th>4</th>\n",
       "      <td>Adventure</td>\n",
       "      <td>2021</td>\n",
       "      <td>74.026258</td>\n",
       "    </tr>\n",
       "    <tr>\n",
       "      <th>5</th>\n",
       "      <td>Biography</td>\n",
       "      <td>2021</td>\n",
       "      <td>70.874494</td>\n",
       "    </tr>\n",
       "    <tr>\n",
       "      <th>6</th>\n",
       "      <td>\\N</td>\n",
       "      <td>2021</td>\n",
       "      <td>70.789216</td>\n",
       "    </tr>\n",
       "    <tr>\n",
       "      <th>7</th>\n",
       "      <td>News</td>\n",
       "      <td>2021</td>\n",
       "      <td>61.903976</td>\n",
       "    </tr>\n",
       "    <tr>\n",
       "      <th>8</th>\n",
       "      <td>Adult</td>\n",
       "      <td>2021</td>\n",
       "      <td>61.288747</td>\n",
       "    </tr>\n",
       "    <tr>\n",
       "      <th>9</th>\n",
       "      <td>Game-Show</td>\n",
       "      <td>2021</td>\n",
       "      <td>55.158009</td>\n",
       "    </tr>\n",
       "    <tr>\n",
       "      <th>10</th>\n",
       "      <td>Action</td>\n",
       "      <td>2021</td>\n",
       "      <td>52.011696</td>\n",
       "    </tr>\n",
       "    <tr>\n",
       "      <th>11</th>\n",
       "      <td>Crime</td>\n",
       "      <td>2021</td>\n",
       "      <td>49.285836</td>\n",
       "    </tr>\n",
       "    <tr>\n",
       "      <th>12</th>\n",
       "      <td>Reality-TV</td>\n",
       "      <td>2021</td>\n",
       "      <td>47.640921</td>\n",
       "    </tr>\n",
       "    <tr>\n",
       "      <th>13</th>\n",
       "      <td>Romance</td>\n",
       "      <td>2021</td>\n",
       "      <td>45.946429</td>\n",
       "    </tr>\n",
       "    <tr>\n",
       "      <th>14</th>\n",
       "      <td>Documentary</td>\n",
       "      <td>2021</td>\n",
       "      <td>45.020799</td>\n",
       "    </tr>\n",
       "    <tr>\n",
       "      <th>15</th>\n",
       "      <td>Mystery</td>\n",
       "      <td>2021</td>\n",
       "      <td>42.955556</td>\n",
       "    </tr>\n",
       "    <tr>\n",
       "      <th>16</th>\n",
       "      <td>Talk-Show</td>\n",
       "      <td>2021</td>\n",
       "      <td>42.550611</td>\n",
       "    </tr>\n",
       "    <tr>\n",
       "      <th>17</th>\n",
       "      <td>Family</td>\n",
       "      <td>2021</td>\n",
       "      <td>41.871951</td>\n",
       "    </tr>\n",
       "    <tr>\n",
       "      <th>18</th>\n",
       "      <td>Drama</td>\n",
       "      <td>2021</td>\n",
       "      <td>41.323144</td>\n",
       "    </tr>\n",
       "    <tr>\n",
       "      <th>19</th>\n",
       "      <td>History</td>\n",
       "      <td>2021</td>\n",
       "      <td>38.859375</td>\n",
       "    </tr>\n",
       "    <tr>\n",
       "      <th>20</th>\n",
       "      <td>Comedy</td>\n",
       "      <td>2021</td>\n",
       "      <td>38.513098</td>\n",
       "    </tr>\n",
       "    <tr>\n",
       "      <th>21</th>\n",
       "      <td>Horror</td>\n",
       "      <td>2021</td>\n",
       "      <td>37.430195</td>\n",
       "    </tr>\n",
       "    <tr>\n",
       "      <th>22</th>\n",
       "      <td>Musical</td>\n",
       "      <td>2021</td>\n",
       "      <td>37.397436</td>\n",
       "    </tr>\n",
       "    <tr>\n",
       "      <th>23</th>\n",
       "      <td>Sci-Fi</td>\n",
       "      <td>2021</td>\n",
       "      <td>33.362245</td>\n",
       "    </tr>\n",
       "    <tr>\n",
       "      <th>24</th>\n",
       "      <td>Fantasy</td>\n",
       "      <td>2021</td>\n",
       "      <td>33.089172</td>\n",
       "    </tr>\n",
       "    <tr>\n",
       "      <th>25</th>\n",
       "      <td>Animation</td>\n",
       "      <td>2021</td>\n",
       "      <td>17.835351</td>\n",
       "    </tr>\n",
       "    <tr>\n",
       "      <th>26</th>\n",
       "      <td>Music</td>\n",
       "      <td>2021</td>\n",
       "      <td>12.044576</td>\n",
       "    </tr>\n",
       "    <tr>\n",
       "      <th>27</th>\n",
       "      <td>Short</td>\n",
       "      <td>2021</td>\n",
       "      <td>11.214689</td>\n",
       "    </tr>\n",
       "  </tbody>\n",
       "</table>\n",
       "</div>"
      ],
      "text/plain": [
       "          genre startYear  mean_runtimeMinutes\n",
       "0         Sport      2021           113.408889\n",
       "1           War      2021            91.750000\n",
       "2       Western      2021            90.800000\n",
       "3      Thriller      2021            88.278107\n",
       "4     Adventure      2021            74.026258\n",
       "5     Biography      2021            70.874494\n",
       "6            \\N      2021            70.789216\n",
       "7          News      2021            61.903976\n",
       "8         Adult      2021            61.288747\n",
       "9     Game-Show      2021            55.158009\n",
       "10       Action      2021            52.011696\n",
       "11        Crime      2021            49.285836\n",
       "12   Reality-TV      2021            47.640921\n",
       "13      Romance      2021            45.946429\n",
       "14  Documentary      2021            45.020799\n",
       "15      Mystery      2021            42.955556\n",
       "16    Talk-Show      2021            42.550611\n",
       "17       Family      2021            41.871951\n",
       "18        Drama      2021            41.323144\n",
       "19      History      2021            38.859375\n",
       "20       Comedy      2021            38.513098\n",
       "21       Horror      2021            37.430195\n",
       "22      Musical      2021            37.397436\n",
       "23       Sci-Fi      2021            33.362245\n",
       "24      Fantasy      2021            33.089172\n",
       "25    Animation      2021            17.835351\n",
       "26        Music      2021            12.044576\n",
       "27        Short      2021            11.214689"
      ]
     },
     "execution_count": 118,
     "metadata": {},
     "output_type": "execute_result"
    }
   ],
   "source": [
    "(\n",
    "    df_title_subset\n",
    "    .groupBy('genre', 'startYear')\n",
    "    .agg(f.mean('runtimeMinutes').alias('mean_runtimeMinutes'))\n",
    "    .orderBy('startYear', f.col('mean_runtimeMinutes').desc())\n",
    "    .filter('startYear = 2021')\n",
    "    .toPandas()\n",
    ")"
   ]
  },
  {
   "cell_type": "code",
   "execution_count": 120,
   "id": "38150411",
   "metadata": {},
   "outputs": [
    {
     "name": "stderr",
     "output_type": "stream",
     "text": [
      "                                                                                \r"
     ]
    },
    {
     "data": {
      "text/html": [
       "<div>\n",
       "<style scoped>\n",
       "    .dataframe tbody tr th:only-of-type {\n",
       "        vertical-align: middle;\n",
       "    }\n",
       "\n",
       "    .dataframe tbody tr th {\n",
       "        vertical-align: top;\n",
       "    }\n",
       "\n",
       "    .dataframe thead th {\n",
       "        text-align: right;\n",
       "    }\n",
       "</style>\n",
       "<table border=\"1\" class=\"dataframe\">\n",
       "  <thead>\n",
       "    <tr style=\"text-align: right;\">\n",
       "      <th></th>\n",
       "      <th>genre</th>\n",
       "      <th>lista_tipos_titulo</th>\n",
       "      <th>count</th>\n",
       "      <th>n</th>\n",
       "    </tr>\n",
       "  </thead>\n",
       "  <tbody>\n",
       "    <tr>\n",
       "      <th>0</th>\n",
       "      <td>Action</td>\n",
       "      <td>[movie, movie, movie, movie, video, movie, mov...</td>\n",
       "      <td>112245</td>\n",
       "      <td>112245</td>\n",
       "    </tr>\n",
       "    <tr>\n",
       "      <th>1</th>\n",
       "      <td>Adult</td>\n",
       "      <td>[video, video, video, video, video, video, vid...</td>\n",
       "      <td>107854</td>\n",
       "      <td>107854</td>\n",
       "    </tr>\n",
       "    <tr>\n",
       "      <th>2</th>\n",
       "      <td>Adventure</td>\n",
       "      <td>[tvMovie, movie, movie, movie, movie, movie, t...</td>\n",
       "      <td>59767</td>\n",
       "      <td>59767</td>\n",
       "    </tr>\n",
       "    <tr>\n",
       "      <th>3</th>\n",
       "      <td>Animation</td>\n",
       "      <td>[short, short, movie, movie, short, movie, mov...</td>\n",
       "      <td>85221</td>\n",
       "      <td>85221</td>\n",
       "    </tr>\n",
       "    <tr>\n",
       "      <th>4</th>\n",
       "      <td>Biography</td>\n",
       "      <td>[tvMovie, movie, movie, movie, movie, tvEpisod...</td>\n",
       "      <td>30182</td>\n",
       "      <td>30182</td>\n",
       "    </tr>\n",
       "    <tr>\n",
       "      <th>5</th>\n",
       "      <td>Comedy</td>\n",
       "      <td>[movie, short, tvMovie, movie, movie, movie, m...</td>\n",
       "      <td>478498</td>\n",
       "      <td>478498</td>\n",
       "    </tr>\n",
       "    <tr>\n",
       "      <th>6</th>\n",
       "      <td>Crime</td>\n",
       "      <td>[tvEpisode, movie, movie, movie, movie, movie,...</td>\n",
       "      <td>78496</td>\n",
       "      <td>78496</td>\n",
       "    </tr>\n",
       "    <tr>\n",
       "      <th>7</th>\n",
       "      <td>Documentary</td>\n",
       "      <td>[short, movie, movie, short, movie, movie, mov...</td>\n",
       "      <td>238025</td>\n",
       "      <td>238025</td>\n",
       "    </tr>\n",
       "    <tr>\n",
       "      <th>8</th>\n",
       "      <td>Drama</td>\n",
       "      <td>[movie, movie, movie, movie, short, movie, mov...</td>\n",
       "      <td>449019</td>\n",
       "      <td>449019</td>\n",
       "    </tr>\n",
       "    <tr>\n",
       "      <th>9</th>\n",
       "      <td>Family</td>\n",
       "      <td>[movie, tvMovie, tvSeries, movie, short, tvMov...</td>\n",
       "      <td>58665</td>\n",
       "      <td>58665</td>\n",
       "    </tr>\n",
       "    <tr>\n",
       "      <th>10</th>\n",
       "      <td>Fantasy</td>\n",
       "      <td>[movie, video, movie, movie, video, movie, sho...</td>\n",
       "      <td>13890</td>\n",
       "      <td>13890</td>\n",
       "    </tr>\n",
       "    <tr>\n",
       "      <th>11</th>\n",
       "      <td>Game-Show</td>\n",
       "      <td>[tvSeries, tvSeries, tvSeries, tvSeries, tvSer...</td>\n",
       "      <td>57185</td>\n",
       "      <td>57185</td>\n",
       "    </tr>\n",
       "    <tr>\n",
       "      <th>12</th>\n",
       "      <td>History</td>\n",
       "      <td>[tvSeries, movie, tvSeries, tvMiniSeries, tvSe...</td>\n",
       "      <td>9639</td>\n",
       "      <td>9639</td>\n",
       "    </tr>\n",
       "    <tr>\n",
       "      <th>13</th>\n",
       "      <td>Horror</td>\n",
       "      <td>[movie, movie, movie, movie, movie, movie, mov...</td>\n",
       "      <td>30322</td>\n",
       "      <td>30322</td>\n",
       "    </tr>\n",
       "    <tr>\n",
       "      <th>14</th>\n",
       "      <td>Music</td>\n",
       "      <td>[tvSeries, tvSeries, tvEpisode, tvSeries, tvSe...</td>\n",
       "      <td>74511</td>\n",
       "      <td>74511</td>\n",
       "    </tr>\n",
       "    <tr>\n",
       "      <th>15</th>\n",
       "      <td>Musical</td>\n",
       "      <td>[movie, movie, video, video, movie, movie, sho...</td>\n",
       "      <td>5070</td>\n",
       "      <td>5070</td>\n",
       "    </tr>\n",
       "    <tr>\n",
       "      <th>16</th>\n",
       "      <td>Mystery</td>\n",
       "      <td>[movie, short, movie, movie, movie, movie, mov...</td>\n",
       "      <td>8609</td>\n",
       "      <td>8609</td>\n",
       "    </tr>\n",
       "    <tr>\n",
       "      <th>17</th>\n",
       "      <td>News</td>\n",
       "      <td>[tvSeries, tvSeries, tvSeries, tvSeries, tvSer...</td>\n",
       "      <td>161666</td>\n",
       "      <td>161666</td>\n",
       "    </tr>\n",
       "    <tr>\n",
       "      <th>18</th>\n",
       "      <td>Reality-TV</td>\n",
       "      <td>[tvSeries, tvSpecial, tvSeries, tvSeries, tvSe...</td>\n",
       "      <td>119977</td>\n",
       "      <td>119977</td>\n",
       "    </tr>\n",
       "    <tr>\n",
       "      <th>19</th>\n",
       "      <td>Romance</td>\n",
       "      <td>[movie, tvMovie, movie, movie, movie, tvMovie,...</td>\n",
       "      <td>27573</td>\n",
       "      <td>27573</td>\n",
       "    </tr>\n",
       "    <tr>\n",
       "      <th>20</th>\n",
       "      <td>Sci-Fi</td>\n",
       "      <td>[short, video, short, short, movie, movie, mov...</td>\n",
       "      <td>12002</td>\n",
       "      <td>12002</td>\n",
       "    </tr>\n",
       "    <tr>\n",
       "      <th>21</th>\n",
       "      <td>Short</td>\n",
       "      <td>[short, short, short, short, short, short, sho...</td>\n",
       "      <td>70995</td>\n",
       "      <td>70995</td>\n",
       "    </tr>\n",
       "    <tr>\n",
       "      <th>22</th>\n",
       "      <td>Sport</td>\n",
       "      <td>[tvSpecial, tvSeries, tvSpecial, videoGame, tv...</td>\n",
       "      <td>39042</td>\n",
       "      <td>39042</td>\n",
       "    </tr>\n",
       "    <tr>\n",
       "      <th>23</th>\n",
       "      <td>Talk-Show</td>\n",
       "      <td>[tvSeries, tvSeries, tvSeries, tvSeries, tvSpe...</td>\n",
       "      <td>181948</td>\n",
       "      <td>181948</td>\n",
       "    </tr>\n",
       "    <tr>\n",
       "      <th>24</th>\n",
       "      <td>Thriller</td>\n",
       "      <td>[movie, movie, tvMovie, movie, movie, movie, m...</td>\n",
       "      <td>8380</td>\n",
       "      <td>8380</td>\n",
       "    </tr>\n",
       "    <tr>\n",
       "      <th>25</th>\n",
       "      <td>War</td>\n",
       "      <td>[videoGame, tvMovie, movie, movie, tvMiniSerie...</td>\n",
       "      <td>544</td>\n",
       "      <td>544</td>\n",
       "    </tr>\n",
       "    <tr>\n",
       "      <th>26</th>\n",
       "      <td>Western</td>\n",
       "      <td>[tvMovie, tvMovie, tvMovie, movie, movie, movi...</td>\n",
       "      <td>489</td>\n",
       "      <td>489</td>\n",
       "    </tr>\n",
       "    <tr>\n",
       "      <th>27</th>\n",
       "      <td>\\N</td>\n",
       "      <td>[movie, movie, tvMovie, movie, movie, movie, m...</td>\n",
       "      <td>184158</td>\n",
       "      <td>184158</td>\n",
       "    </tr>\n",
       "  </tbody>\n",
       "</table>\n",
       "</div>"
      ],
      "text/plain": [
       "          genre                                 lista_tipos_titulo   count  \\\n",
       "0        Action  [movie, movie, movie, movie, video, movie, mov...  112245   \n",
       "1         Adult  [video, video, video, video, video, video, vid...  107854   \n",
       "2     Adventure  [tvMovie, movie, movie, movie, movie, movie, t...   59767   \n",
       "3     Animation  [short, short, movie, movie, short, movie, mov...   85221   \n",
       "4     Biography  [tvMovie, movie, movie, movie, movie, tvEpisod...   30182   \n",
       "5        Comedy  [movie, short, tvMovie, movie, movie, movie, m...  478498   \n",
       "6         Crime  [tvEpisode, movie, movie, movie, movie, movie,...   78496   \n",
       "7   Documentary  [short, movie, movie, short, movie, movie, mov...  238025   \n",
       "8         Drama  [movie, movie, movie, movie, short, movie, mov...  449019   \n",
       "9        Family  [movie, tvMovie, tvSeries, movie, short, tvMov...   58665   \n",
       "10      Fantasy  [movie, video, movie, movie, video, movie, sho...   13890   \n",
       "11    Game-Show  [tvSeries, tvSeries, tvSeries, tvSeries, tvSer...   57185   \n",
       "12      History  [tvSeries, movie, tvSeries, tvMiniSeries, tvSe...    9639   \n",
       "13       Horror  [movie, movie, movie, movie, movie, movie, mov...   30322   \n",
       "14        Music  [tvSeries, tvSeries, tvEpisode, tvSeries, tvSe...   74511   \n",
       "15      Musical  [movie, movie, video, video, movie, movie, sho...    5070   \n",
       "16      Mystery  [movie, short, movie, movie, movie, movie, mov...    8609   \n",
       "17         News  [tvSeries, tvSeries, tvSeries, tvSeries, tvSer...  161666   \n",
       "18   Reality-TV  [tvSeries, tvSpecial, tvSeries, tvSeries, tvSe...  119977   \n",
       "19      Romance  [movie, tvMovie, movie, movie, movie, tvMovie,...   27573   \n",
       "20       Sci-Fi  [short, video, short, short, movie, movie, mov...   12002   \n",
       "21        Short  [short, short, short, short, short, short, sho...   70995   \n",
       "22        Sport  [tvSpecial, tvSeries, tvSpecial, videoGame, tv...   39042   \n",
       "23    Talk-Show  [tvSeries, tvSeries, tvSeries, tvSeries, tvSpe...  181948   \n",
       "24     Thriller  [movie, movie, tvMovie, movie, movie, movie, m...    8380   \n",
       "25          War  [videoGame, tvMovie, movie, movie, tvMiniSerie...     544   \n",
       "26      Western  [tvMovie, tvMovie, tvMovie, movie, movie, movi...     489   \n",
       "27           \\N  [movie, movie, tvMovie, movie, movie, movie, m...  184158   \n",
       "\n",
       "         n  \n",
       "0   112245  \n",
       "1   107854  \n",
       "2    59767  \n",
       "3    85221  \n",
       "4    30182  \n",
       "5   478498  \n",
       "6    78496  \n",
       "7   238025  \n",
       "8   449019  \n",
       "9    58665  \n",
       "10   13890  \n",
       "11   57185  \n",
       "12    9639  \n",
       "13   30322  \n",
       "14   74511  \n",
       "15    5070  \n",
       "16    8609  \n",
       "17  161666  \n",
       "18  119977  \n",
       "19   27573  \n",
       "20   12002  \n",
       "21   70995  \n",
       "22   39042  \n",
       "23  181948  \n",
       "24    8380  \n",
       "25     544  \n",
       "26     489  \n",
       "27  184158  "
      ]
     },
     "execution_count": 120,
     "metadata": {},
     "output_type": "execute_result"
    }
   ],
   "source": [
    "(\n",
    "    df_title_subset\n",
    "    .groupBy('genre')\n",
    "    .agg(f.collect_list(f.col('titleType')).alias('lista_tipos_titulo'),\n",
    "         f.count(f.lit(1)).alias('count'))\n",
    "    .withColumn('n', f.size(f.col('lista_tipos_titulo')))\n",
    "    .orderBy('genre')\n",
    "    .toPandas()\n",
    ")"
   ]
  },
  {
   "cell_type": "code",
   "execution_count": null,
   "id": "746f6221",
   "metadata": {},
   "outputs": [
    {
     "name": "stderr",
     "output_type": "stream",
     "text": [
      "[Stage 137:===================================================>   (15 + 1) / 16]\r"
     ]
    }
   ],
   "source": [
    "(\n",
    "    df_title_subset\n",
    "    .groupBy('genre')\n",
    "    .agg(f.collect_list(f.col('titleType')).alias('lista_tipos_titulo'),\n",
    "         f.expr('count(distinct titleType) as n_distinct'))\n",
    "    .withColumn('tipo_filme', f.explode(f.col('lista_tipos_titulo')))\n",
    "    .orderBy('genre')\n",
    "    .toPandas()\n",
    ")"
   ]
  },
  {
   "cell_type": "markdown",
   "id": "896e7c54",
   "metadata": {},
   "source": [
    "## Pivot"
   ]
  },
  {
   "cell_type": "code",
   "execution_count": 10,
   "id": "122be623",
   "metadata": {},
   "outputs": [
    {
     "name": "stderr",
     "output_type": "stream",
     "text": [
      "21/11/02 23:01:30 WARN RowBasedKeyValueBatch: Calling spill() on RowBasedKeyValueBatch. Will not spill but return 0.\n",
      "21/11/02 23:01:30 WARN RowBasedKeyValueBatch: Calling spill() on RowBasedKeyValueBatch. Will not spill but return 0.\n",
      "21/11/02 23:01:31 WARN RowBasedKeyValueBatch: Calling spill() on RowBasedKeyValueBatch. Will not spill but return 0.\n",
      "21/11/02 23:01:31 WARN RowBasedKeyValueBatch: Calling spill() on RowBasedKeyValueBatch. Will not spill but return 0.\n",
      "21/11/02 23:01:31 WARN RowBasedKeyValueBatch: Calling spill() on RowBasedKeyValueBatch. Will not spill but return 0.\n",
      "21/11/02 23:01:32 WARN RowBasedKeyValueBatch: Calling spill() on RowBasedKeyValueBatch. Will not spill but return 0.\n",
      "21/11/02 23:01:32 WARN RowBasedKeyValueBatch: Calling spill() on RowBasedKeyValueBatch. Will not spill but return 0.\n",
      "21/11/02 23:01:33 WARN RowBasedKeyValueBatch: Calling spill() on RowBasedKeyValueBatch. Will not spill but return 0.\n",
      "21/11/02 23:01:34 WARN RowBasedKeyValueBatch: Calling spill() on RowBasedKeyValueBatch. Will not spill but return 0.\n",
      "                                                                                \r"
     ]
    },
    {
     "data": {
      "text/html": [
       "<div>\n",
       "<style scoped>\n",
       "    .dataframe tbody tr th:only-of-type {\n",
       "        vertical-align: middle;\n",
       "    }\n",
       "\n",
       "    .dataframe tbody tr th {\n",
       "        vertical-align: top;\n",
       "    }\n",
       "\n",
       "    .dataframe thead th {\n",
       "        text-align: right;\n",
       "    }\n",
       "</style>\n",
       "<table border=\"1\" class=\"dataframe\">\n",
       "  <thead>\n",
       "    <tr style=\"text-align: right;\">\n",
       "      <th></th>\n",
       "      <th>tconst</th>\n",
       "      <th>primaryTitle</th>\n",
       "      <th>Action</th>\n",
       "      <th>Adult</th>\n",
       "      <th>Adventure</th>\n",
       "      <th>Animation</th>\n",
       "      <th>Biography</th>\n",
       "      <th>Comedy</th>\n",
       "      <th>Crime</th>\n",
       "      <th>Documentary</th>\n",
       "      <th>...</th>\n",
       "      <th>Reality-TV</th>\n",
       "      <th>Romance</th>\n",
       "      <th>Sci-Fi</th>\n",
       "      <th>Short</th>\n",
       "      <th>Sport</th>\n",
       "      <th>Talk-Show</th>\n",
       "      <th>Thriller</th>\n",
       "      <th>War</th>\n",
       "      <th>Western</th>\n",
       "      <th>\\N</th>\n",
       "    </tr>\n",
       "  </thead>\n",
       "  <tbody>\n",
       "    <tr>\n",
       "      <th>0</th>\n",
       "      <td>tt0011216</td>\n",
       "      <td>Spanish Fiesta</td>\n",
       "      <td>0</td>\n",
       "      <td>0</td>\n",
       "      <td>0</td>\n",
       "      <td>0</td>\n",
       "      <td>0</td>\n",
       "      <td>0</td>\n",
       "      <td>0</td>\n",
       "      <td>0</td>\n",
       "      <td>...</td>\n",
       "      <td>0</td>\n",
       "      <td>0</td>\n",
       "      <td>0</td>\n",
       "      <td>0</td>\n",
       "      <td>0</td>\n",
       "      <td>0</td>\n",
       "      <td>0</td>\n",
       "      <td>0</td>\n",
       "      <td>0</td>\n",
       "      <td>0</td>\n",
       "    </tr>\n",
       "    <tr>\n",
       "      <th>1</th>\n",
       "      <td>tt0015414</td>\n",
       "      <td>La tierra de los toros</td>\n",
       "      <td>0</td>\n",
       "      <td>0</td>\n",
       "      <td>0</td>\n",
       "      <td>0</td>\n",
       "      <td>0</td>\n",
       "      <td>0</td>\n",
       "      <td>0</td>\n",
       "      <td>0</td>\n",
       "      <td>...</td>\n",
       "      <td>0</td>\n",
       "      <td>0</td>\n",
       "      <td>0</td>\n",
       "      <td>0</td>\n",
       "      <td>0</td>\n",
       "      <td>0</td>\n",
       "      <td>0</td>\n",
       "      <td>0</td>\n",
       "      <td>0</td>\n",
       "      <td>1</td>\n",
       "    </tr>\n",
       "    <tr>\n",
       "      <th>2</th>\n",
       "      <td>tt0018295</td>\n",
       "      <td>El puño de hierro</td>\n",
       "      <td>1</td>\n",
       "      <td>0</td>\n",
       "      <td>0</td>\n",
       "      <td>0</td>\n",
       "      <td>0</td>\n",
       "      <td>0</td>\n",
       "      <td>0</td>\n",
       "      <td>0</td>\n",
       "      <td>...</td>\n",
       "      <td>0</td>\n",
       "      <td>0</td>\n",
       "      <td>0</td>\n",
       "      <td>0</td>\n",
       "      <td>0</td>\n",
       "      <td>0</td>\n",
       "      <td>0</td>\n",
       "      <td>0</td>\n",
       "      <td>0</td>\n",
       "      <td>0</td>\n",
       "    </tr>\n",
       "    <tr>\n",
       "      <th>3</th>\n",
       "      <td>tt0034413</td>\n",
       "      <td>Youth Gets a Break</td>\n",
       "      <td>0</td>\n",
       "      <td>0</td>\n",
       "      <td>0</td>\n",
       "      <td>0</td>\n",
       "      <td>0</td>\n",
       "      <td>0</td>\n",
       "      <td>0</td>\n",
       "      <td>0</td>\n",
       "      <td>...</td>\n",
       "      <td>0</td>\n",
       "      <td>0</td>\n",
       "      <td>0</td>\n",
       "      <td>1</td>\n",
       "      <td>0</td>\n",
       "      <td>0</td>\n",
       "      <td>0</td>\n",
       "      <td>0</td>\n",
       "      <td>0</td>\n",
       "      <td>0</td>\n",
       "    </tr>\n",
       "    <tr>\n",
       "      <th>4</th>\n",
       "      <td>tt0035423</td>\n",
       "      <td>Kate &amp; Leopold</td>\n",
       "      <td>0</td>\n",
       "      <td>0</td>\n",
       "      <td>0</td>\n",
       "      <td>0</td>\n",
       "      <td>0</td>\n",
       "      <td>1</td>\n",
       "      <td>0</td>\n",
       "      <td>0</td>\n",
       "      <td>...</td>\n",
       "      <td>0</td>\n",
       "      <td>1</td>\n",
       "      <td>0</td>\n",
       "      <td>0</td>\n",
       "      <td>0</td>\n",
       "      <td>0</td>\n",
       "      <td>0</td>\n",
       "      <td>0</td>\n",
       "      <td>0</td>\n",
       "      <td>0</td>\n",
       "    </tr>\n",
       "  </tbody>\n",
       "</table>\n",
       "<p>5 rows × 30 columns</p>\n",
       "</div>"
      ],
      "text/plain": [
       "      tconst            primaryTitle  Action  Adult  Adventure  Animation  \\\n",
       "0  tt0011216          Spanish Fiesta       0      0          0          0   \n",
       "1  tt0015414  La tierra de los toros       0      0          0          0   \n",
       "2  tt0018295       El puño de hierro       1      0          0          0   \n",
       "3  tt0034413      Youth Gets a Break       0      0          0          0   \n",
       "4  tt0035423          Kate & Leopold       0      0          0          0   \n",
       "\n",
       "   Biography  Comedy  Crime  Documentary  ...  Reality-TV  Romance  Sci-Fi  \\\n",
       "0          0       0      0            0  ...           0        0       0   \n",
       "1          0       0      0            0  ...           0        0       0   \n",
       "2          0       0      0            0  ...           0        0       0   \n",
       "3          0       0      0            0  ...           0        0       0   \n",
       "4          0       1      0            0  ...           0        1       0   \n",
       "\n",
       "   Short  Sport  Talk-Show  Thriller  War  Western  \\N  \n",
       "0      0      0          0         0    0        0   0  \n",
       "1      0      0          0         0    0        0   1  \n",
       "2      0      0          0         0    0        0   0  \n",
       "3      1      0          0         0    0        0   0  \n",
       "4      0      0          0         0    0        0   0  \n",
       "\n",
       "[5 rows x 30 columns]"
      ]
     },
     "execution_count": 10,
     "metadata": {},
     "output_type": "execute_result"
    }
   ],
   "source": [
    "(\n",
    "    df_title_subset\n",
    "    .drop('genre')\n",
    "    .withColumn('genres', f.explode(f.split(f.col('genres'), ',')))\n",
    "    .groupBy('tconst', 'primaryTitle')\n",
    "    .pivot('genres')\n",
    "    .count()\n",
    "    .na.fill(0)\n",
    "    .orderBy('tconst')\n",
    "    .limit(5)\n",
    "    .toPandas()\n",
    ")"
   ]
  },
  {
   "cell_type": "markdown",
   "id": "01a82e28",
   "metadata": {},
   "source": [
    "## Window Functions"
   ]
  },
  {
   "cell_type": "code",
   "execution_count": 13,
   "id": "d09c9b6d",
   "metadata": {},
   "outputs": [
    {
     "name": "stderr",
     "output_type": "stream",
     "text": [
      "                                                                                \r"
     ]
    },
    {
     "data": {
      "text/html": [
       "<div>\n",
       "<style scoped>\n",
       "    .dataframe tbody tr th:only-of-type {\n",
       "        vertical-align: middle;\n",
       "    }\n",
       "\n",
       "    .dataframe tbody tr th {\n",
       "        vertical-align: top;\n",
       "    }\n",
       "\n",
       "    .dataframe thead th {\n",
       "        text-align: right;\n",
       "    }\n",
       "</style>\n",
       "<table border=\"1\" class=\"dataframe\">\n",
       "  <thead>\n",
       "    <tr style=\"text-align: right;\">\n",
       "      <th></th>\n",
       "      <th>tconst</th>\n",
       "      <th>titleType</th>\n",
       "      <th>primaryTitle</th>\n",
       "      <th>originalTitle</th>\n",
       "      <th>isAdult</th>\n",
       "      <th>startYear</th>\n",
       "      <th>endYear</th>\n",
       "      <th>runtimeMinutes</th>\n",
       "      <th>genres</th>\n",
       "      <th>genre</th>\n",
       "      <th>rn</th>\n",
       "    </tr>\n",
       "  </thead>\n",
       "  <tbody>\n",
       "    <tr>\n",
       "      <th>0</th>\n",
       "      <td>tt10827306</td>\n",
       "      <td>movie</td>\n",
       "      <td>Ghost Swim</td>\n",
       "      <td>Ghost Swim</td>\n",
       "      <td>0</td>\n",
       "      <td>2023</td>\n",
       "      <td>\\N</td>\n",
       "      <td>\\N</td>\n",
       "      <td>Crime,Horror,Mystery</td>\n",
       "      <td>Crime</td>\n",
       "      <td>1</td>\n",
       "    </tr>\n",
       "    <tr>\n",
       "      <th>1</th>\n",
       "      <td>tt12238522</td>\n",
       "      <td>tvEpisode</td>\n",
       "      <td>The Interviews</td>\n",
       "      <td>The Interviews</td>\n",
       "      <td>0</td>\n",
       "      <td>2023</td>\n",
       "      <td>\\N</td>\n",
       "      <td>\\N</td>\n",
       "      <td>Crime</td>\n",
       "      <td>Crime</td>\n",
       "      <td>2</td>\n",
       "    </tr>\n",
       "    <tr>\n",
       "      <th>2</th>\n",
       "      <td>tt12275106</td>\n",
       "      <td>tvEpisode</td>\n",
       "      <td>The Websters Division</td>\n",
       "      <td>The Websters Division</td>\n",
       "      <td>0</td>\n",
       "      <td>2023</td>\n",
       "      <td>\\N</td>\n",
       "      <td>\\N</td>\n",
       "      <td>Crime</td>\n",
       "      <td>Crime</td>\n",
       "      <td>3</td>\n",
       "    </tr>\n",
       "    <tr>\n",
       "      <th>3</th>\n",
       "      <td>tt13391780</td>\n",
       "      <td>movie</td>\n",
       "      <td>Spiralled</td>\n",
       "      <td>Spiralled</td>\n",
       "      <td>0</td>\n",
       "      <td>2023</td>\n",
       "      <td>\\N</td>\n",
       "      <td>\\N</td>\n",
       "      <td>Crime,Drama</td>\n",
       "      <td>Crime</td>\n",
       "      <td>4</td>\n",
       "    </tr>\n",
       "    <tr>\n",
       "      <th>4</th>\n",
       "      <td>tt13703326</td>\n",
       "      <td>tvEpisode</td>\n",
       "      <td>The Demon Walker</td>\n",
       "      <td>The Demon Walker</td>\n",
       "      <td>0</td>\n",
       "      <td>2023</td>\n",
       "      <td>\\N</td>\n",
       "      <td>\\N</td>\n",
       "      <td>Crime</td>\n",
       "      <td>Crime</td>\n",
       "      <td>5</td>\n",
       "    </tr>\n",
       "  </tbody>\n",
       "</table>\n",
       "</div>"
      ],
      "text/plain": [
       "       tconst  titleType           primaryTitle          originalTitle  \\\n",
       "0  tt10827306      movie             Ghost Swim             Ghost Swim   \n",
       "1  tt12238522  tvEpisode         The Interviews         The Interviews   \n",
       "2  tt12275106  tvEpisode  The Websters Division  The Websters Division   \n",
       "3  tt13391780      movie              Spiralled              Spiralled   \n",
       "4  tt13703326  tvEpisode       The Demon Walker       The Demon Walker   \n",
       "\n",
       "  isAdult  startYear endYear runtimeMinutes                genres  genre  rn  \n",
       "0       0       2023      \\N             \\N  Crime,Horror,Mystery  Crime   1  \n",
       "1       0       2023      \\N             \\N                 Crime  Crime   2  \n",
       "2       0       2023      \\N             \\N                 Crime  Crime   3  \n",
       "3       0       2023      \\N             \\N           Crime,Drama  Crime   4  \n",
       "4       0       2023      \\N             \\N                 Crime  Crime   5  "
      ]
     },
     "execution_count": 13,
     "metadata": {},
     "output_type": "execute_result"
    }
   ],
   "source": [
    "w = Window.partitionBy('genre').orderBy(f.desc('startYear'))\n",
    "(\n",
    "    df_title_subset\n",
    "    .withColumn('genre', f.split('genres', ',').getItem(0))\n",
    "    .withColumn('startYear', f.col('startYear').cast('int'))\n",
    "    .withColumn('rn', f.row_number().over(w))\n",
    "    .limit(5)\n",
    "    .toPandas()\n",
    ")"
   ]
  },
  {
   "cell_type": "code",
   "execution_count": 15,
   "id": "7da07f6e",
   "metadata": {},
   "outputs": [
    {
     "name": "stderr",
     "output_type": "stream",
     "text": [
      "                                                                                \r"
     ]
    },
    {
     "data": {
      "text/html": [
       "<div>\n",
       "<style scoped>\n",
       "    .dataframe tbody tr th:only-of-type {\n",
       "        vertical-align: middle;\n",
       "    }\n",
       "\n",
       "    .dataframe tbody tr th {\n",
       "        vertical-align: top;\n",
       "    }\n",
       "\n",
       "    .dataframe thead th {\n",
       "        text-align: right;\n",
       "    }\n",
       "</style>\n",
       "<table border=\"1\" class=\"dataframe\">\n",
       "  <thead>\n",
       "    <tr style=\"text-align: right;\">\n",
       "      <th></th>\n",
       "      <th>tconst</th>\n",
       "      <th>titleType</th>\n",
       "      <th>primaryTitle</th>\n",
       "      <th>originalTitle</th>\n",
       "      <th>isAdult</th>\n",
       "      <th>startYear</th>\n",
       "      <th>endYear</th>\n",
       "      <th>runtimeMinutes</th>\n",
       "      <th>genres</th>\n",
       "      <th>genre</th>\n",
       "      <th>lag_runtime</th>\n",
       "    </tr>\n",
       "  </thead>\n",
       "  <tbody>\n",
       "    <tr>\n",
       "      <th>0</th>\n",
       "      <td>tt10005776</td>\n",
       "      <td>tvMovie</td>\n",
       "      <td>Nasjonalparken - fra soloppgang til solnedgang</td>\n",
       "      <td>Nasjonalparken - fra soloppgang til solnedgang</td>\n",
       "      <td>0</td>\n",
       "      <td>2014</td>\n",
       "      <td>\\N</td>\n",
       "      <td>124</td>\n",
       "      <td>Documentary</td>\n",
       "      <td>Documentary</td>\n",
       "      <td>NaN</td>\n",
       "    </tr>\n",
       "    <tr>\n",
       "      <th>1</th>\n",
       "      <td>tt10016288</td>\n",
       "      <td>tvMovie</td>\n",
       "      <td>Eidsvollsbygningen tilbake til 1814</td>\n",
       "      <td>Eidsvollsbygningen tilbake til 1814</td>\n",
       "      <td>0</td>\n",
       "      <td>2014</td>\n",
       "      <td>\\N</td>\n",
       "      <td>29</td>\n",
       "      <td>Documentary</td>\n",
       "      <td>Documentary</td>\n",
       "      <td>124.0</td>\n",
       "    </tr>\n",
       "    <tr>\n",
       "      <th>2</th>\n",
       "      <td>tt10023298</td>\n",
       "      <td>tvMovie</td>\n",
       "      <td>Gjenerobringen av norske hav</td>\n",
       "      <td>Gjenerobringen av norske hav</td>\n",
       "      <td>0</td>\n",
       "      <td>2014</td>\n",
       "      <td>\\N</td>\n",
       "      <td>48</td>\n",
       "      <td>Documentary</td>\n",
       "      <td>Documentary</td>\n",
       "      <td>29.0</td>\n",
       "    </tr>\n",
       "    <tr>\n",
       "      <th>3</th>\n",
       "      <td>tt10039018</td>\n",
       "      <td>tvMovie</td>\n",
       "      <td>Pam til Paris</td>\n",
       "      <td>Pam til Paris</td>\n",
       "      <td>0</td>\n",
       "      <td>2014</td>\n",
       "      <td>\\N</td>\n",
       "      <td>29</td>\n",
       "      <td>Documentary</td>\n",
       "      <td>Documentary</td>\n",
       "      <td>48.0</td>\n",
       "    </tr>\n",
       "    <tr>\n",
       "      <th>4</th>\n",
       "      <td>tt10080018</td>\n",
       "      <td>tvMovie</td>\n",
       "      <td>Hindsight</td>\n",
       "      <td>Hindsight</td>\n",
       "      <td>0</td>\n",
       "      <td>2014</td>\n",
       "      <td>\\N</td>\n",
       "      <td>24</td>\n",
       "      <td>Comedy</td>\n",
       "      <td>Comedy</td>\n",
       "      <td>29.0</td>\n",
       "    </tr>\n",
       "  </tbody>\n",
       "</table>\n",
       "</div>"
      ],
      "text/plain": [
       "       tconst titleType                                    primaryTitle  \\\n",
       "0  tt10005776   tvMovie  Nasjonalparken - fra soloppgang til solnedgang   \n",
       "1  tt10016288   tvMovie             Eidsvollsbygningen tilbake til 1814   \n",
       "2  tt10023298   tvMovie                    Gjenerobringen av norske hav   \n",
       "3  tt10039018   tvMovie                                   Pam til Paris   \n",
       "4  tt10080018   tvMovie                                       Hindsight   \n",
       "\n",
       "                                    originalTitle isAdult startYear endYear  \\\n",
       "0  Nasjonalparken - fra soloppgang til solnedgang       0      2014      \\N   \n",
       "1             Eidsvollsbygningen tilbake til 1814       0      2014      \\N   \n",
       "2                    Gjenerobringen av norske hav       0      2014      \\N   \n",
       "3                                   Pam til Paris       0      2014      \\N   \n",
       "4                                       Hindsight       0      2014      \\N   \n",
       "\n",
       "   runtimeMinutes       genres        genre  lag_runtime  \n",
       "0             124  Documentary  Documentary          NaN  \n",
       "1              29  Documentary  Documentary        124.0  \n",
       "2              48  Documentary  Documentary         29.0  \n",
       "3              29  Documentary  Documentary         48.0  \n",
       "4              24       Comedy       Comedy         29.0  "
      ]
     },
     "execution_count": 15,
     "metadata": {},
     "output_type": "execute_result"
    }
   ],
   "source": [
    "w = Window.partitionBy('titleType','startYear').orderBy('titleType','startYear')\n",
    "(\n",
    "    df_title_subset\n",
    "    .withColumn('genre', f.split('genres', ',').getItem(0))\n",
    "    .withColumn('runtimeMinutes', f.col('runtimeMinutes').cast('int'))\n",
    "    .withColumn('lag_runtime', f.lag('runtimeMinutes').over(w))\n",
    "    .limit(5)\n",
    "    .toPandas()\n",
    ")"
   ]
  },
  {
   "cell_type": "code",
   "execution_count": 14,
   "id": "46806318",
   "metadata": {},
   "outputs": [
    {
     "name": "stderr",
     "output_type": "stream",
     "text": [
      "                                                                                \r"
     ]
    },
    {
     "data": {
      "text/html": [
       "<div>\n",
       "<style scoped>\n",
       "    .dataframe tbody tr th:only-of-type {\n",
       "        vertical-align: middle;\n",
       "    }\n",
       "\n",
       "    .dataframe tbody tr th {\n",
       "        vertical-align: top;\n",
       "    }\n",
       "\n",
       "    .dataframe thead th {\n",
       "        text-align: right;\n",
       "    }\n",
       "</style>\n",
       "<table border=\"1\" class=\"dataframe\">\n",
       "  <thead>\n",
       "    <tr style=\"text-align: right;\">\n",
       "      <th></th>\n",
       "      <th>tconst</th>\n",
       "      <th>titleType</th>\n",
       "      <th>primaryTitle</th>\n",
       "      <th>originalTitle</th>\n",
       "      <th>isAdult</th>\n",
       "      <th>startYear</th>\n",
       "      <th>endYear</th>\n",
       "      <th>runtimeMinutes</th>\n",
       "      <th>genres</th>\n",
       "      <th>genre</th>\n",
       "      <th>total_minutes</th>\n",
       "      <th>mean_minutes</th>\n",
       "      <th>relative_minutes</th>\n",
       "    </tr>\n",
       "  </thead>\n",
       "  <tbody>\n",
       "    <tr>\n",
       "      <th>0</th>\n",
       "      <td>tt10005776</td>\n",
       "      <td>tvMovie</td>\n",
       "      <td>Nasjonalparken - fra soloppgang til solnedgang</td>\n",
       "      <td>Nasjonalparken - fra soloppgang til solnedgang</td>\n",
       "      <td>0</td>\n",
       "      <td>2014</td>\n",
       "      <td>\\N</td>\n",
       "      <td>124</td>\n",
       "      <td>Documentary</td>\n",
       "      <td>Documentary</td>\n",
       "      <td>67659</td>\n",
       "      <td>69.679712</td>\n",
       "      <td>0.001833</td>\n",
       "    </tr>\n",
       "    <tr>\n",
       "      <th>1</th>\n",
       "      <td>tt10016288</td>\n",
       "      <td>tvMovie</td>\n",
       "      <td>Eidsvollsbygningen tilbake til 1814</td>\n",
       "      <td>Eidsvollsbygningen tilbake til 1814</td>\n",
       "      <td>0</td>\n",
       "      <td>2014</td>\n",
       "      <td>\\N</td>\n",
       "      <td>29</td>\n",
       "      <td>Documentary</td>\n",
       "      <td>Documentary</td>\n",
       "      <td>67659</td>\n",
       "      <td>69.679712</td>\n",
       "      <td>0.000429</td>\n",
       "    </tr>\n",
       "    <tr>\n",
       "      <th>2</th>\n",
       "      <td>tt10023298</td>\n",
       "      <td>tvMovie</td>\n",
       "      <td>Gjenerobringen av norske hav</td>\n",
       "      <td>Gjenerobringen av norske hav</td>\n",
       "      <td>0</td>\n",
       "      <td>2014</td>\n",
       "      <td>\\N</td>\n",
       "      <td>48</td>\n",
       "      <td>Documentary</td>\n",
       "      <td>Documentary</td>\n",
       "      <td>67659</td>\n",
       "      <td>69.679712</td>\n",
       "      <td>0.000709</td>\n",
       "    </tr>\n",
       "    <tr>\n",
       "      <th>3</th>\n",
       "      <td>tt10039018</td>\n",
       "      <td>tvMovie</td>\n",
       "      <td>Pam til Paris</td>\n",
       "      <td>Pam til Paris</td>\n",
       "      <td>0</td>\n",
       "      <td>2014</td>\n",
       "      <td>\\N</td>\n",
       "      <td>29</td>\n",
       "      <td>Documentary</td>\n",
       "      <td>Documentary</td>\n",
       "      <td>67659</td>\n",
       "      <td>69.679712</td>\n",
       "      <td>0.000429</td>\n",
       "    </tr>\n",
       "    <tr>\n",
       "      <th>4</th>\n",
       "      <td>tt10080018</td>\n",
       "      <td>tvMovie</td>\n",
       "      <td>Hindsight</td>\n",
       "      <td>Hindsight</td>\n",
       "      <td>0</td>\n",
       "      <td>2014</td>\n",
       "      <td>\\N</td>\n",
       "      <td>24</td>\n",
       "      <td>Comedy</td>\n",
       "      <td>Comedy</td>\n",
       "      <td>67659</td>\n",
       "      <td>69.679712</td>\n",
       "      <td>0.000355</td>\n",
       "    </tr>\n",
       "  </tbody>\n",
       "</table>\n",
       "</div>"
      ],
      "text/plain": [
       "       tconst titleType                                    primaryTitle  \\\n",
       "0  tt10005776   tvMovie  Nasjonalparken - fra soloppgang til solnedgang   \n",
       "1  tt10016288   tvMovie             Eidsvollsbygningen tilbake til 1814   \n",
       "2  tt10023298   tvMovie                    Gjenerobringen av norske hav   \n",
       "3  tt10039018   tvMovie                                   Pam til Paris   \n",
       "4  tt10080018   tvMovie                                       Hindsight   \n",
       "\n",
       "                                    originalTitle isAdult startYear endYear  \\\n",
       "0  Nasjonalparken - fra soloppgang til solnedgang       0      2014      \\N   \n",
       "1             Eidsvollsbygningen tilbake til 1814       0      2014      \\N   \n",
       "2                    Gjenerobringen av norske hav       0      2014      \\N   \n",
       "3                                   Pam til Paris       0      2014      \\N   \n",
       "4                                       Hindsight       0      2014      \\N   \n",
       "\n",
       "   runtimeMinutes       genres        genre  total_minutes  mean_minutes  \\\n",
       "0             124  Documentary  Documentary          67659     69.679712   \n",
       "1              29  Documentary  Documentary          67659     69.679712   \n",
       "2              48  Documentary  Documentary          67659     69.679712   \n",
       "3              29  Documentary  Documentary          67659     69.679712   \n",
       "4              24       Comedy       Comedy          67659     69.679712   \n",
       "\n",
       "   relative_minutes  \n",
       "0          0.001833  \n",
       "1          0.000429  \n",
       "2          0.000709  \n",
       "3          0.000429  \n",
       "4          0.000355  "
      ]
     },
     "execution_count": 14,
     "metadata": {},
     "output_type": "execute_result"
    }
   ],
   "source": [
    "w = Window.partitionBy('titleType','startYear')\n",
    "(\n",
    "    df_title_subset\n",
    "    .withColumn('genre', f.split('genres', ',').getItem(0))\n",
    "    .withColumn('runtimeMinutes', f.col('runtimeMinutes').cast('int'))\n",
    "    .withColumn('total_minutes', f.sum(f.col('runtimeMinutes')).over(w))\n",
    "    .withColumn('mean_minutes', f.mean(f.col('runtimeMinutes')).over(w))\n",
    "    .withColumn('relative_minutes', f.col('runtimeMinutes') / f.col('total_minutes'))\n",
    "    .limit(5)\n",
    "    .toPandas()\n",
    ")"
   ]
  },
  {
   "cell_type": "code",
   "execution_count": 16,
   "id": "20dedde6",
   "metadata": {},
   "outputs": [
    {
     "name": "stderr",
     "output_type": "stream",
     "text": [
      "                                                                                \r"
     ]
    },
    {
     "data": {
      "text/html": [
       "<div>\n",
       "<style scoped>\n",
       "    .dataframe tbody tr th:only-of-type {\n",
       "        vertical-align: middle;\n",
       "    }\n",
       "\n",
       "    .dataframe tbody tr th {\n",
       "        vertical-align: top;\n",
       "    }\n",
       "\n",
       "    .dataframe thead th {\n",
       "        text-align: right;\n",
       "    }\n",
       "</style>\n",
       "<table border=\"1\" class=\"dataframe\">\n",
       "  <thead>\n",
       "    <tr style=\"text-align: right;\">\n",
       "      <th></th>\n",
       "      <th>tconst</th>\n",
       "      <th>titleType</th>\n",
       "      <th>primaryTitle</th>\n",
       "      <th>originalTitle</th>\n",
       "      <th>isAdult</th>\n",
       "      <th>startYear</th>\n",
       "      <th>endYear</th>\n",
       "      <th>runtimeMinutes</th>\n",
       "      <th>genres</th>\n",
       "      <th>genre</th>\n",
       "      <th>max_data</th>\n",
       "    </tr>\n",
       "  </thead>\n",
       "  <tbody>\n",
       "    <tr>\n",
       "      <th>0</th>\n",
       "      <td>tt10827306</td>\n",
       "      <td>movie</td>\n",
       "      <td>Ghost Swim</td>\n",
       "      <td>Ghost Swim</td>\n",
       "      <td>0</td>\n",
       "      <td>2023</td>\n",
       "      <td>\\N</td>\n",
       "      <td>\\N</td>\n",
       "      <td>Crime,Horror,Mystery</td>\n",
       "      <td>Crime</td>\n",
       "      <td>2023</td>\n",
       "    </tr>\n",
       "    <tr>\n",
       "      <th>1</th>\n",
       "      <td>tt12238522</td>\n",
       "      <td>tvEpisode</td>\n",
       "      <td>The Interviews</td>\n",
       "      <td>The Interviews</td>\n",
       "      <td>0</td>\n",
       "      <td>2023</td>\n",
       "      <td>\\N</td>\n",
       "      <td>\\N</td>\n",
       "      <td>Crime</td>\n",
       "      <td>Crime</td>\n",
       "      <td>2023</td>\n",
       "    </tr>\n",
       "    <tr>\n",
       "      <th>2</th>\n",
       "      <td>tt12275106</td>\n",
       "      <td>tvEpisode</td>\n",
       "      <td>The Websters Division</td>\n",
       "      <td>The Websters Division</td>\n",
       "      <td>0</td>\n",
       "      <td>2023</td>\n",
       "      <td>\\N</td>\n",
       "      <td>\\N</td>\n",
       "      <td>Crime</td>\n",
       "      <td>Crime</td>\n",
       "      <td>2023</td>\n",
       "    </tr>\n",
       "    <tr>\n",
       "      <th>3</th>\n",
       "      <td>tt13391780</td>\n",
       "      <td>movie</td>\n",
       "      <td>Spiralled</td>\n",
       "      <td>Spiralled</td>\n",
       "      <td>0</td>\n",
       "      <td>2023</td>\n",
       "      <td>\\N</td>\n",
       "      <td>\\N</td>\n",
       "      <td>Crime,Drama</td>\n",
       "      <td>Crime</td>\n",
       "      <td>2023</td>\n",
       "    </tr>\n",
       "    <tr>\n",
       "      <th>4</th>\n",
       "      <td>tt13703326</td>\n",
       "      <td>tvEpisode</td>\n",
       "      <td>The Demon Walker</td>\n",
       "      <td>The Demon Walker</td>\n",
       "      <td>0</td>\n",
       "      <td>2023</td>\n",
       "      <td>\\N</td>\n",
       "      <td>\\N</td>\n",
       "      <td>Crime</td>\n",
       "      <td>Crime</td>\n",
       "      <td>2023</td>\n",
       "    </tr>\n",
       "  </tbody>\n",
       "</table>\n",
       "</div>"
      ],
      "text/plain": [
       "       tconst  titleType           primaryTitle          originalTitle  \\\n",
       "0  tt10827306      movie             Ghost Swim             Ghost Swim   \n",
       "1  tt12238522  tvEpisode         The Interviews         The Interviews   \n",
       "2  tt12275106  tvEpisode  The Websters Division  The Websters Division   \n",
       "3  tt13391780      movie              Spiralled              Spiralled   \n",
       "4  tt13703326  tvEpisode       The Demon Walker       The Demon Walker   \n",
       "\n",
       "  isAdult startYear endYear runtimeMinutes                genres  genre  \\\n",
       "0       0      2023      \\N             \\N  Crime,Horror,Mystery  Crime   \n",
       "1       0      2023      \\N             \\N                 Crime  Crime   \n",
       "2       0      2023      \\N             \\N                 Crime  Crime   \n",
       "3       0      2023      \\N             \\N           Crime,Drama  Crime   \n",
       "4       0      2023      \\N             \\N                 Crime  Crime   \n",
       "\n",
       "  max_data  \n",
       "0     2023  \n",
       "1     2023  \n",
       "2     2023  \n",
       "3     2023  \n",
       "4     2023  "
      ]
     },
     "execution_count": 16,
     "metadata": {},
     "output_type": "execute_result"
    }
   ],
   "source": [
    "w = Window.partitionBy('genre')\n",
    "(\n",
    "    df_title_subset\n",
    "    .withColumn('max_data', f.max(f.col('startYear')).over(w))\n",
    "    .filter('startYear = max_data')\n",
    "    .limit(5)\n",
    "    .toPandas()\n",
    ")"
   ]
  },
  {
   "cell_type": "markdown",
   "id": "f3b595cd",
   "metadata": {},
   "source": [
    "## Joins"
   ]
  },
  {
   "cell_type": "code",
   "execution_count": 5,
   "id": "01672ced",
   "metadata": {},
   "outputs": [],
   "source": [
    "df_ratings = spark.read.format('csv').load('base/title_ratings.tsv', header=True, sep='\\t')"
   ]
  },
  {
   "cell_type": "code",
   "execution_count": 19,
   "id": "37e77e24",
   "metadata": {},
   "outputs": [
    {
     "data": {
      "text/html": [
       "<div>\n",
       "<style scoped>\n",
       "    .dataframe tbody tr th:only-of-type {\n",
       "        vertical-align: middle;\n",
       "    }\n",
       "\n",
       "    .dataframe tbody tr th {\n",
       "        vertical-align: top;\n",
       "    }\n",
       "\n",
       "    .dataframe thead th {\n",
       "        text-align: right;\n",
       "    }\n",
       "</style>\n",
       "<table border=\"1\" class=\"dataframe\">\n",
       "  <thead>\n",
       "    <tr style=\"text-align: right;\">\n",
       "      <th></th>\n",
       "      <th>tconst</th>\n",
       "      <th>averageRating</th>\n",
       "      <th>numVotes</th>\n",
       "    </tr>\n",
       "  </thead>\n",
       "  <tbody>\n",
       "    <tr>\n",
       "      <th>0</th>\n",
       "      <td>tt0000001</td>\n",
       "      <td>5.7</td>\n",
       "      <td>1809</td>\n",
       "    </tr>\n",
       "    <tr>\n",
       "      <th>1</th>\n",
       "      <td>tt0000002</td>\n",
       "      <td>6.0</td>\n",
       "      <td>233</td>\n",
       "    </tr>\n",
       "    <tr>\n",
       "      <th>2</th>\n",
       "      <td>tt0000003</td>\n",
       "      <td>6.5</td>\n",
       "      <td>1560</td>\n",
       "    </tr>\n",
       "    <tr>\n",
       "      <th>3</th>\n",
       "      <td>tt0000004</td>\n",
       "      <td>6.1</td>\n",
       "      <td>152</td>\n",
       "    </tr>\n",
       "    <tr>\n",
       "      <th>4</th>\n",
       "      <td>tt0000005</td>\n",
       "      <td>6.2</td>\n",
       "      <td>2383</td>\n",
       "    </tr>\n",
       "  </tbody>\n",
       "</table>\n",
       "</div>"
      ],
      "text/plain": [
       "      tconst averageRating numVotes\n",
       "0  tt0000001           5.7     1809\n",
       "1  tt0000002           6.0      233\n",
       "2  tt0000003           6.5     1560\n",
       "3  tt0000004           6.1      152\n",
       "4  tt0000005           6.2     2383"
      ]
     },
     "execution_count": 19,
     "metadata": {},
     "output_type": "execute_result"
    }
   ],
   "source": [
    "df_ratings.limit(5).toPandas()"
   ]
  },
  {
   "cell_type": "code",
   "execution_count": 21,
   "id": "08f20fb1",
   "metadata": {},
   "outputs": [
    {
     "name": "stderr",
     "output_type": "stream",
     "text": [
      "                                                                                \r"
     ]
    },
    {
     "data": {
      "text/html": [
       "<div>\n",
       "<style scoped>\n",
       "    .dataframe tbody tr th:only-of-type {\n",
       "        vertical-align: middle;\n",
       "    }\n",
       "\n",
       "    .dataframe tbody tr th {\n",
       "        vertical-align: top;\n",
       "    }\n",
       "\n",
       "    .dataframe thead th {\n",
       "        text-align: right;\n",
       "    }\n",
       "</style>\n",
       "<table border=\"1\" class=\"dataframe\">\n",
       "  <thead>\n",
       "    <tr style=\"text-align: right;\">\n",
       "      <th></th>\n",
       "      <th>tconst</th>\n",
       "      <th>titleType</th>\n",
       "      <th>primaryTitle</th>\n",
       "      <th>originalTitle</th>\n",
       "      <th>isAdult</th>\n",
       "      <th>startYear</th>\n",
       "      <th>endYear</th>\n",
       "      <th>runtimeMinutes</th>\n",
       "      <th>genres</th>\n",
       "      <th>averageRating</th>\n",
       "      <th>numVotes</th>\n",
       "    </tr>\n",
       "  </thead>\n",
       "  <tbody>\n",
       "    <tr>\n",
       "      <th>0</th>\n",
       "      <td>tt0000658</td>\n",
       "      <td>short</td>\n",
       "      <td>The Puppet's Nightmare</td>\n",
       "      <td>Le cauchemar de Fantoche</td>\n",
       "      <td>0</td>\n",
       "      <td>1908</td>\n",
       "      <td>\\N</td>\n",
       "      <td>2</td>\n",
       "      <td>Animation,Short</td>\n",
       "      <td>6.5</td>\n",
       "      <td>212</td>\n",
       "    </tr>\n",
       "    <tr>\n",
       "      <th>1</th>\n",
       "      <td>tt0001732</td>\n",
       "      <td>short</td>\n",
       "      <td>The Lighthouse Keeper</td>\n",
       "      <td>The Lighthouse Keeper</td>\n",
       "      <td>0</td>\n",
       "      <td>1911</td>\n",
       "      <td>\\N</td>\n",
       "      <td>\\N</td>\n",
       "      <td>Drama,Short</td>\n",
       "      <td>7.1</td>\n",
       "      <td>15</td>\n",
       "    </tr>\n",
       "    <tr>\n",
       "      <th>2</th>\n",
       "      <td>tt0002253</td>\n",
       "      <td>short</td>\n",
       "      <td>Home Folks</td>\n",
       "      <td>Home Folks</td>\n",
       "      <td>0</td>\n",
       "      <td>1912</td>\n",
       "      <td>\\N</td>\n",
       "      <td>17</td>\n",
       "      <td>Drama,Short</td>\n",
       "      <td>4.0</td>\n",
       "      <td>13</td>\n",
       "    </tr>\n",
       "    <tr>\n",
       "      <th>3</th>\n",
       "      <td>tt0002473</td>\n",
       "      <td>short</td>\n",
       "      <td>The Sands of Dee</td>\n",
       "      <td>The Sands of Dee</td>\n",
       "      <td>0</td>\n",
       "      <td>1912</td>\n",
       "      <td>\\N</td>\n",
       "      <td>17</td>\n",
       "      <td>Romance,Short</td>\n",
       "      <td>6.5</td>\n",
       "      <td>77</td>\n",
       "    </tr>\n",
       "    <tr>\n",
       "      <th>4</th>\n",
       "      <td>tt0002588</td>\n",
       "      <td>movie</td>\n",
       "      <td>Zigomar contre Nick Carter</td>\n",
       "      <td>Zigomar contre Nick Carter</td>\n",
       "      <td>0</td>\n",
       "      <td>1912</td>\n",
       "      <td>\\N</td>\n",
       "      <td>48</td>\n",
       "      <td>Crime,Thriller</td>\n",
       "      <td>6.0</td>\n",
       "      <td>32</td>\n",
       "    </tr>\n",
       "  </tbody>\n",
       "</table>\n",
       "</div>"
      ],
      "text/plain": [
       "      tconst titleType                primaryTitle  \\\n",
       "0  tt0000658     short      The Puppet's Nightmare   \n",
       "1  tt0001732     short       The Lighthouse Keeper   \n",
       "2  tt0002253     short                  Home Folks   \n",
       "3  tt0002473     short            The Sands of Dee   \n",
       "4  tt0002588     movie  Zigomar contre Nick Carter   \n",
       "\n",
       "                originalTitle isAdult startYear endYear runtimeMinutes  \\\n",
       "0    Le cauchemar de Fantoche       0      1908      \\N              2   \n",
       "1       The Lighthouse Keeper       0      1911      \\N             \\N   \n",
       "2                  Home Folks       0      1912      \\N             17   \n",
       "3            The Sands of Dee       0      1912      \\N             17   \n",
       "4  Zigomar contre Nick Carter       0      1912      \\N             48   \n",
       "\n",
       "            genres averageRating numVotes  \n",
       "0  Animation,Short           6.5      212  \n",
       "1      Drama,Short           7.1       15  \n",
       "2      Drama,Short           4.0       13  \n",
       "3    Romance,Short           6.5       77  \n",
       "4   Crime,Thriller           6.0       32  "
      ]
     },
     "execution_count": 21,
     "metadata": {},
     "output_type": "execute_result"
    }
   ],
   "source": [
    "(\n",
    "    df_titles\n",
    "    .join(df_ratings, 'tconst')\n",
    "    .limit(5)\n",
    "    .toPandas()\n",
    ")"
   ]
  },
  {
   "cell_type": "markdown",
   "id": "c22f9c22",
   "metadata": {},
   "source": [
    "## Semi join e anti join"
   ]
  },
  {
   "cell_type": "code",
   "execution_count": 22,
   "id": "b4bbdd52",
   "metadata": {},
   "outputs": [
    {
     "name": "stderr",
     "output_type": "stream",
     "text": [
      "                                                                                \r"
     ]
    },
    {
     "data": {
      "text/plain": [
       "1182639"
      ]
     },
     "execution_count": 22,
     "metadata": {},
     "output_type": "execute_result"
    }
   ],
   "source": [
    "(\n",
    "    df_titles\n",
    "    .join(df_ratings, 'tconst', 'semi')\n",
    "    .count()\n",
    ")"
   ]
  },
  {
   "cell_type": "code",
   "execution_count": 23,
   "id": "94f7a9b9",
   "metadata": {},
   "outputs": [
    {
     "name": "stderr",
     "output_type": "stream",
     "text": [
      "                                                                                \r"
     ]
    },
    {
     "data": {
      "text/plain": [
       "7021051"
      ]
     },
     "execution_count": 23,
     "metadata": {},
     "output_type": "execute_result"
    }
   ],
   "source": [
    "(\n",
    "    df_titles\n",
    "    .join(df_ratings, 'tconst', 'anti')\n",
    "    .count()\n",
    ")"
   ]
  },
  {
   "cell_type": "markdown",
   "id": "4249c3f1",
   "metadata": {},
   "source": [
    "## UNION"
   ]
  },
  {
   "cell_type": "code",
   "execution_count": 24,
   "id": "5d1234a2",
   "metadata": {},
   "outputs": [],
   "source": [
    "df1 = df_titles.sample(fraction=0.5)\n",
    "df2 = df_titles.join(df1, 'tconst', 'anti')"
   ]
  },
  {
   "cell_type": "code",
   "execution_count": 29,
   "id": "4120cfd2",
   "metadata": {},
   "outputs": [
    {
     "name": "stderr",
     "output_type": "stream",
     "text": [
      "                                                                                \r"
     ]
    },
    {
     "data": {
      "text/plain": [
       "8203690"
      ]
     },
     "execution_count": 29,
     "metadata": {},
     "output_type": "execute_result"
    }
   ],
   "source": [
    "df_titles.count()"
   ]
  },
  {
   "cell_type": "code",
   "execution_count": 26,
   "id": "0fbb0a60",
   "metadata": {},
   "outputs": [
    {
     "name": "stderr",
     "output_type": "stream",
     "text": [
      "                                                                                \r"
     ]
    },
    {
     "data": {
      "text/plain": [
       "4101774"
      ]
     },
     "execution_count": 26,
     "metadata": {},
     "output_type": "execute_result"
    }
   ],
   "source": [
    "df1.count()"
   ]
  },
  {
   "cell_type": "code",
   "execution_count": 27,
   "id": "dec484e0",
   "metadata": {},
   "outputs": [
    {
     "name": "stderr",
     "output_type": "stream",
     "text": [
      "                                                                                \r"
     ]
    },
    {
     "data": {
      "text/plain": [
       "4101916"
      ]
     },
     "execution_count": 27,
     "metadata": {},
     "output_type": "execute_result"
    }
   ],
   "source": [
    "df2.count()"
   ]
  },
  {
   "cell_type": "code",
   "execution_count": 28,
   "id": "11fddf09",
   "metadata": {},
   "outputs": [
    {
     "name": "stderr",
     "output_type": "stream",
     "text": [
      "                                                                                \r"
     ]
    },
    {
     "data": {
      "text/plain": [
       "8203690"
      ]
     },
     "execution_count": 28,
     "metadata": {},
     "output_type": "execute_result"
    }
   ],
   "source": [
    "df1.union(df2).count()"
   ]
  },
  {
   "cell_type": "code",
   "execution_count": 30,
   "id": "15d1c98c",
   "metadata": {},
   "outputs": [],
   "source": [
    "df3 = df_titles.sample(fraction=0.05)"
   ]
  },
  {
   "cell_type": "code",
   "execution_count": 31,
   "id": "e94002c6",
   "metadata": {},
   "outputs": [
    {
     "name": "stderr",
     "output_type": "stream",
     "text": [
      "                                                                                \r"
     ]
    },
    {
     "data": {
      "text/plain": [
       "409356"
      ]
     },
     "execution_count": 31,
     "metadata": {},
     "output_type": "execute_result"
    }
   ],
   "source": [
    "df3.count()"
   ]
  },
  {
   "cell_type": "code",
   "execution_count": 32,
   "id": "423f7c01",
   "metadata": {},
   "outputs": [
    {
     "name": "stderr",
     "output_type": "stream",
     "text": [
      "                                                                                \r"
     ]
    },
    {
     "data": {
      "text/plain": [
       "409356"
      ]
     },
     "execution_count": 32,
     "metadata": {},
     "output_type": "execute_result"
    }
   ],
   "source": [
    "df3.union(df3).distinct().count()"
   ]
  },
  {
   "cell_type": "code",
   "execution_count": 33,
   "id": "43c2e7f9",
   "metadata": {},
   "outputs": [],
   "source": [
    "df4 = df2.select(df2.columns[::-1])"
   ]
  },
  {
   "cell_type": "code",
   "execution_count": 34,
   "id": "f38dfc76",
   "metadata": {},
   "outputs": [
    {
     "name": "stderr",
     "output_type": "stream",
     "text": [
      "[Stage 77:====================================>                     (5 + 3) / 8]\r"
     ]
    },
    {
     "name": "stdout",
     "output_type": "stream",
     "text": [
      "+-------------------+--------------+-------+---------+-------+--------------------+--------------------+---------+---------+\n",
      "|             genres|runtimeMinutes|endYear|startYear|isAdult|       originalTitle|        primaryTitle|titleType|   tconst|\n",
      "+-------------------+--------------+-------+---------+-------+--------------------+--------------------+---------+---------+\n",
      "|        Drama,Short|            \\N|     \\N|     1909|      0|  The Curse of Money|  The Curse of Money|    short|tt0000839|\n",
      "|      Short,Western|            \\N|     \\N|     1910|      0|A Cowboy's Vindic...|A Cowboy's Vindic...|    short|tt0001170|\n",
      "|Drama,Romance,Short|            \\N|     \\N|     1911|      0|        Her Two Sons|        Her Two Sons|    short|tt0001664|\n",
      "|        Drama,Short|            \\N|     \\N|     1911|      0|The Lighthouse Ke...|The Lighthouse Ke...|    short|tt0001732|\n",
      "|       Comedy,Short|            \\N|     \\N|     1911|      0|     The Skating Bug|     The Skating Bug|    short|tt0001887|\n",
      "+-------------------+--------------+-------+---------+-------+--------------------+--------------------+---------+---------+\n",
      "only showing top 5 rows\n",
      "\n"
     ]
    },
    {
     "name": "stderr",
     "output_type": "stream",
     "text": [
      "\r",
      "                                                                                \r"
     ]
    }
   ],
   "source": [
    "df4.show(5)"
   ]
  },
  {
   "cell_type": "code",
   "execution_count": 35,
   "id": "587df410",
   "metadata": {},
   "outputs": [
    {
     "name": "stderr",
     "output_type": "stream",
     "text": [
      "                                                                                \r"
     ]
    },
    {
     "data": {
      "text/html": [
       "<div>\n",
       "<style scoped>\n",
       "    .dataframe tbody tr th:only-of-type {\n",
       "        vertical-align: middle;\n",
       "    }\n",
       "\n",
       "    .dataframe tbody tr th {\n",
       "        vertical-align: top;\n",
       "    }\n",
       "\n",
       "    .dataframe thead th {\n",
       "        text-align: right;\n",
       "    }\n",
       "</style>\n",
       "<table border=\"1\" class=\"dataframe\">\n",
       "  <thead>\n",
       "    <tr style=\"text-align: right;\">\n",
       "      <th></th>\n",
       "      <th>tconst</th>\n",
       "      <th>titleType</th>\n",
       "      <th>primaryTitle</th>\n",
       "      <th>originalTitle</th>\n",
       "      <th>isAdult</th>\n",
       "      <th>startYear</th>\n",
       "      <th>endYear</th>\n",
       "      <th>runtimeMinutes</th>\n",
       "      <th>genres</th>\n",
       "    </tr>\n",
       "  </thead>\n",
       "  <tbody>\n",
       "    <tr>\n",
       "      <th>0</th>\n",
       "      <td>tt0000002</td>\n",
       "      <td>short</td>\n",
       "      <td>Le clown et ses chiens</td>\n",
       "      <td>Le clown et ses chiens</td>\n",
       "      <td>0</td>\n",
       "      <td>1892</td>\n",
       "      <td>\\N</td>\n",
       "      <td>5</td>\n",
       "      <td>Animation,Short</td>\n",
       "    </tr>\n",
       "    <tr>\n",
       "      <th>1</th>\n",
       "      <td>tt0000003</td>\n",
       "      <td>short</td>\n",
       "      <td>Pauvre Pierrot</td>\n",
       "      <td>Pauvre Pierrot</td>\n",
       "      <td>0</td>\n",
       "      <td>1892</td>\n",
       "      <td>\\N</td>\n",
       "      <td>4</td>\n",
       "      <td>Animation,Comedy,Romance</td>\n",
       "    </tr>\n",
       "    <tr>\n",
       "      <th>2</th>\n",
       "      <td>tt0000005</td>\n",
       "      <td>short</td>\n",
       "      <td>Blacksmith Scene</td>\n",
       "      <td>Blacksmith Scene</td>\n",
       "      <td>0</td>\n",
       "      <td>1893</td>\n",
       "      <td>\\N</td>\n",
       "      <td>1</td>\n",
       "      <td>Comedy,Short</td>\n",
       "    </tr>\n",
       "    <tr>\n",
       "      <th>3</th>\n",
       "      <td>tt0000006</td>\n",
       "      <td>short</td>\n",
       "      <td>Chinese Opium Den</td>\n",
       "      <td>Chinese Opium Den</td>\n",
       "      <td>0</td>\n",
       "      <td>1894</td>\n",
       "      <td>\\N</td>\n",
       "      <td>1</td>\n",
       "      <td>Short</td>\n",
       "    </tr>\n",
       "    <tr>\n",
       "      <th>4</th>\n",
       "      <td>tt0000011</td>\n",
       "      <td>short</td>\n",
       "      <td>Akrobatisches Potpourri</td>\n",
       "      <td>Akrobatisches Potpourri</td>\n",
       "      <td>0</td>\n",
       "      <td>1895</td>\n",
       "      <td>\\N</td>\n",
       "      <td>1</td>\n",
       "      <td>Documentary,Short</td>\n",
       "    </tr>\n",
       "  </tbody>\n",
       "</table>\n",
       "</div>"
      ],
      "text/plain": [
       "      tconst titleType             primaryTitle            originalTitle  \\\n",
       "0  tt0000002     short   Le clown et ses chiens   Le clown et ses chiens   \n",
       "1  tt0000003     short           Pauvre Pierrot           Pauvre Pierrot   \n",
       "2  tt0000005     short         Blacksmith Scene         Blacksmith Scene   \n",
       "3  tt0000006     short        Chinese Opium Den        Chinese Opium Den   \n",
       "4  tt0000011     short  Akrobatisches Potpourri  Akrobatisches Potpourri   \n",
       "\n",
       "  isAdult startYear endYear runtimeMinutes                    genres  \n",
       "0       0      1892      \\N              5           Animation,Short  \n",
       "1       0      1892      \\N              4  Animation,Comedy,Romance  \n",
       "2       0      1893      \\N              1              Comedy,Short  \n",
       "3       0      1894      \\N              1                     Short  \n",
       "4       0      1895      \\N              1         Documentary,Short  "
      ]
     },
     "execution_count": 35,
     "metadata": {},
     "output_type": "execute_result"
    }
   ],
   "source": [
    "df1.unionByName(df4).limit(5).toPandas()"
   ]
  },
  {
   "cell_type": "markdown",
   "id": "add66dd2",
   "metadata": {},
   "source": [
    "## UDFs"
   ]
  },
  {
   "cell_type": "code",
   "execution_count": 42,
   "id": "6cf582f6",
   "metadata": {},
   "outputs": [
    {
     "data": {
      "text/plain": [
       "'aaaceou'"
      ]
     },
     "execution_count": 42,
     "metadata": {},
     "output_type": "execute_result"
    }
   ],
   "source": [
    "unidecode('àáâçéõü')"
   ]
  },
  {
   "cell_type": "code",
   "execution_count": 44,
   "id": "e0b8eed9",
   "metadata": {},
   "outputs": [],
   "source": [
    "def unicode_function(string):\n",
    "    if not string:\n",
    "        return None\n",
    "    else:\n",
    "        return unidecode(string)\n",
    "    \n",
    "unicode_udf = f.udf(unicode_function, returnType=StringType())"
   ]
  },
  {
   "cell_type": "code",
   "execution_count": 45,
   "id": "aecfcdef",
   "metadata": {},
   "outputs": [
    {
     "name": "stderr",
     "output_type": "stream",
     "text": [
      "                                                                                \r"
     ]
    },
    {
     "data": {
      "text/html": [
       "<div>\n",
       "<style scoped>\n",
       "    .dataframe tbody tr th:only-of-type {\n",
       "        vertical-align: middle;\n",
       "    }\n",
       "\n",
       "    .dataframe tbody tr th {\n",
       "        vertical-align: top;\n",
       "    }\n",
       "\n",
       "    .dataframe thead th {\n",
       "        text-align: right;\n",
       "    }\n",
       "</style>\n",
       "<table border=\"1\" class=\"dataframe\">\n",
       "  <thead>\n",
       "    <tr style=\"text-align: right;\">\n",
       "      <th></th>\n",
       "      <th>primaryTitle</th>\n",
       "      <th>cleaned_string</th>\n",
       "    </tr>\n",
       "  </thead>\n",
       "  <tbody>\n",
       "    <tr>\n",
       "      <th>0</th>\n",
       "      <td>Arrivée d'un train gare de Vincennes</td>\n",
       "      <td>Arrivee d'un train gare de Vincennes</td>\n",
       "    </tr>\n",
       "    <tr>\n",
       "      <th>1</th>\n",
       "      <td>Batteuse à vapeur</td>\n",
       "      <td>Batteuse a vapeur</td>\n",
       "    </tr>\n",
       "    <tr>\n",
       "      <th>2</th>\n",
       "      <td>Bébé et fillettes</td>\n",
       "      <td>Bebe et fillettes</td>\n",
       "    </tr>\n",
       "    <tr>\n",
       "      <th>3</th>\n",
       "      <td>A Chegada do Comboio Inaugural à Estação Centr...</td>\n",
       "      <td>A Chegada do Comboio Inaugural a Estacao Centr...</td>\n",
       "    </tr>\n",
       "    <tr>\n",
       "      <th>4</th>\n",
       "      <td>Cortège de tzar allant à Versailles</td>\n",
       "      <td>Cortege de tzar allant a Versailles</td>\n",
       "    </tr>\n",
       "  </tbody>\n",
       "</table>\n",
       "</div>"
      ],
      "text/plain": [
       "                                        primaryTitle  \\\n",
       "0               Arrivée d'un train gare de Vincennes   \n",
       "1                                  Batteuse à vapeur   \n",
       "2                                  Bébé et fillettes   \n",
       "3  A Chegada do Comboio Inaugural à Estação Centr...   \n",
       "4                Cortège de tzar allant à Versailles   \n",
       "\n",
       "                                      cleaned_string  \n",
       "0               Arrivee d'un train gare de Vincennes  \n",
       "1                                  Batteuse a vapeur  \n",
       "2                                  Bebe et fillettes  \n",
       "3  A Chegada do Comboio Inaugural a Estacao Centr...  \n",
       "4                Cortege de tzar allant a Versailles  "
      ]
     },
     "execution_count": 45,
     "metadata": {},
     "output_type": "execute_result"
    },
    {
     "name": "stderr",
     "output_type": "stream",
     "text": [
      "Traceback (most recent call last):\n",
      "  File \"/opt/apache-spark/python/lib/pyspark.zip/pyspark/daemon.py\", line 186, in manager\n",
      "  File \"/opt/apache-spark/python/lib/pyspark.zip/pyspark/daemon.py\", line 74, in worker\n",
      "  File \"/opt/apache-spark/python/lib/pyspark.zip/pyspark/worker.py\", line 643, in main\n",
      "    if read_int(infile) == SpecialLengths.END_OF_STREAM:\n",
      "  File \"/opt/apache-spark/python/lib/pyspark.zip/pyspark/serializers.py\", line 564, in read_int\n",
      "    raise EOFError\n",
      "EOFError\n"
     ]
    }
   ],
   "source": [
    "(\n",
    "    df_titles\n",
    "    .filter(f.col('primaryTitle').rlike('à|á|â|ç|é|õ|ü'))\n",
    "    .withColumn('cleaned_string', unicode_udf(f.col('primaryTitle')))\n",
    "    .select('primaryTitle', 'cleaned_string')\n",
    "    .limit(5)\n",
    "    .toPandas()\n",
    ")"
   ]
  },
  {
   "cell_type": "code",
   "execution_count": 46,
   "id": "5fe36a83",
   "metadata": {},
   "outputs": [],
   "source": [
    "del unicode_udf"
   ]
  },
  {
   "cell_type": "code",
   "execution_count": 48,
   "id": "a01ae31a",
   "metadata": {},
   "outputs": [],
   "source": [
    "@f.udf(returnType=StringType())\n",
    "def unicode_udf(string):\n",
    "    if not string:\n",
    "        return None\n",
    "    else:\n",
    "        return unidecode(string)"
   ]
  },
  {
   "cell_type": "code",
   "execution_count": 49,
   "id": "898d194f",
   "metadata": {},
   "outputs": [
    {
     "data": {
      "text/html": [
       "<div>\n",
       "<style scoped>\n",
       "    .dataframe tbody tr th:only-of-type {\n",
       "        vertical-align: middle;\n",
       "    }\n",
       "\n",
       "    .dataframe tbody tr th {\n",
       "        vertical-align: top;\n",
       "    }\n",
       "\n",
       "    .dataframe thead th {\n",
       "        text-align: right;\n",
       "    }\n",
       "</style>\n",
       "<table border=\"1\" class=\"dataframe\">\n",
       "  <thead>\n",
       "    <tr style=\"text-align: right;\">\n",
       "      <th></th>\n",
       "      <th>primaryTitle</th>\n",
       "      <th>cleaned_string</th>\n",
       "    </tr>\n",
       "  </thead>\n",
       "  <tbody>\n",
       "    <tr>\n",
       "      <th>0</th>\n",
       "      <td>Arrivée d'un train gare de Vincennes</td>\n",
       "      <td>Arrivee d'un train gare de Vincennes</td>\n",
       "    </tr>\n",
       "    <tr>\n",
       "      <th>1</th>\n",
       "      <td>Batteuse à vapeur</td>\n",
       "      <td>Batteuse a vapeur</td>\n",
       "    </tr>\n",
       "    <tr>\n",
       "      <th>2</th>\n",
       "      <td>Bébé et fillettes</td>\n",
       "      <td>Bebe et fillettes</td>\n",
       "    </tr>\n",
       "    <tr>\n",
       "      <th>3</th>\n",
       "      <td>A Chegada do Comboio Inaugural à Estação Centr...</td>\n",
       "      <td>A Chegada do Comboio Inaugural a Estacao Centr...</td>\n",
       "    </tr>\n",
       "    <tr>\n",
       "      <th>4</th>\n",
       "      <td>Cortège de tzar allant à Versailles</td>\n",
       "      <td>Cortege de tzar allant a Versailles</td>\n",
       "    </tr>\n",
       "  </tbody>\n",
       "</table>\n",
       "</div>"
      ],
      "text/plain": [
       "                                        primaryTitle  \\\n",
       "0               Arrivée d'un train gare de Vincennes   \n",
       "1                                  Batteuse à vapeur   \n",
       "2                                  Bébé et fillettes   \n",
       "3  A Chegada do Comboio Inaugural à Estação Centr...   \n",
       "4                Cortège de tzar allant à Versailles   \n",
       "\n",
       "                                      cleaned_string  \n",
       "0               Arrivee d'un train gare de Vincennes  \n",
       "1                                  Batteuse a vapeur  \n",
       "2                                  Bebe et fillettes  \n",
       "3  A Chegada do Comboio Inaugural a Estacao Centr...  \n",
       "4                Cortege de tzar allant a Versailles  "
      ]
     },
     "execution_count": 49,
     "metadata": {},
     "output_type": "execute_result"
    },
    {
     "name": "stderr",
     "output_type": "stream",
     "text": [
      "Traceback (most recent call last):\n",
      "  File \"/opt/apache-spark/python/lib/pyspark.zip/pyspark/daemon.py\", line 186, in manager\n",
      "  File \"/opt/apache-spark/python/lib/pyspark.zip/pyspark/daemon.py\", line 74, in worker\n",
      "  File \"/opt/apache-spark/python/lib/pyspark.zip/pyspark/worker.py\", line 643, in main\n",
      "    if read_int(infile) == SpecialLengths.END_OF_STREAM:\n",
      "  File \"/opt/apache-spark/python/lib/pyspark.zip/pyspark/serializers.py\", line 564, in read_int\n",
      "    raise EOFError\n",
      "EOFError\n"
     ]
    }
   ],
   "source": [
    "(\n",
    "    df_titles\n",
    "    .filter(f.col('primaryTitle').rlike('à|á|â|ç|é|õ|ü'))\n",
    "    .withColumn('cleaned_string', unicode_udf(f.col('primaryTitle')))\n",
    "    .select('primaryTitle', 'cleaned_string')\n",
    "    .limit(5)\n",
    "    .toPandas()\n",
    ")"
   ]
  },
  {
   "cell_type": "markdown",
   "id": "e18fc9cf",
   "metadata": {},
   "source": [
    "## criando metodos customizados"
   ]
  },
  {
   "cell_type": "code",
   "execution_count": 50,
   "id": "0c79f9c8",
   "metadata": {},
   "outputs": [],
   "source": [
    "def renamer(dict):\n",
    "    def _(df):\n",
    "        for c, n in dict.items():\n",
    "            df = df.withColumnRenamed(c, n)\n",
    "        return df\n",
    "    return _"
   ]
  },
  {
   "cell_type": "code",
   "execution_count": 51,
   "id": "ae2e2446",
   "metadata": {},
   "outputs": [
    {
     "data": {
      "text/html": [
       "<div>\n",
       "<style scoped>\n",
       "    .dataframe tbody tr th:only-of-type {\n",
       "        vertical-align: middle;\n",
       "    }\n",
       "\n",
       "    .dataframe tbody tr th {\n",
       "        vertical-align: top;\n",
       "    }\n",
       "\n",
       "    .dataframe thead th {\n",
       "        text-align: right;\n",
       "    }\n",
       "</style>\n",
       "<table border=\"1\" class=\"dataframe\">\n",
       "  <thead>\n",
       "    <tr style=\"text-align: right;\">\n",
       "      <th></th>\n",
       "      <th>tconst</th>\n",
       "      <th>titleType</th>\n",
       "      <th>primaryTitle</th>\n",
       "      <th>originalTitle</th>\n",
       "      <th>isAdult</th>\n",
       "      <th>startYear</th>\n",
       "      <th>endYear</th>\n",
       "      <th>runtimeMinutes</th>\n",
       "      <th>genres</th>\n",
       "    </tr>\n",
       "  </thead>\n",
       "  <tbody>\n",
       "    <tr>\n",
       "      <th>0</th>\n",
       "      <td>tt0000001</td>\n",
       "      <td>short</td>\n",
       "      <td>Carmencita</td>\n",
       "      <td>Carmencita</td>\n",
       "      <td>0</td>\n",
       "      <td>1894</td>\n",
       "      <td>\\N</td>\n",
       "      <td>1</td>\n",
       "      <td>Documentary,Short</td>\n",
       "    </tr>\n",
       "    <tr>\n",
       "      <th>1</th>\n",
       "      <td>tt0000002</td>\n",
       "      <td>short</td>\n",
       "      <td>Le clown et ses chiens</td>\n",
       "      <td>Le clown et ses chiens</td>\n",
       "      <td>0</td>\n",
       "      <td>1892</td>\n",
       "      <td>\\N</td>\n",
       "      <td>5</td>\n",
       "      <td>Animation,Short</td>\n",
       "    </tr>\n",
       "    <tr>\n",
       "      <th>2</th>\n",
       "      <td>tt0000003</td>\n",
       "      <td>short</td>\n",
       "      <td>Pauvre Pierrot</td>\n",
       "      <td>Pauvre Pierrot</td>\n",
       "      <td>0</td>\n",
       "      <td>1892</td>\n",
       "      <td>\\N</td>\n",
       "      <td>4</td>\n",
       "      <td>Animation,Comedy,Romance</td>\n",
       "    </tr>\n",
       "    <tr>\n",
       "      <th>3</th>\n",
       "      <td>tt0000004</td>\n",
       "      <td>short</td>\n",
       "      <td>Un bon bock</td>\n",
       "      <td>Un bon bock</td>\n",
       "      <td>0</td>\n",
       "      <td>1892</td>\n",
       "      <td>\\N</td>\n",
       "      <td>12</td>\n",
       "      <td>Animation,Short</td>\n",
       "    </tr>\n",
       "    <tr>\n",
       "      <th>4</th>\n",
       "      <td>tt0000005</td>\n",
       "      <td>short</td>\n",
       "      <td>Blacksmith Scene</td>\n",
       "      <td>Blacksmith Scene</td>\n",
       "      <td>0</td>\n",
       "      <td>1893</td>\n",
       "      <td>\\N</td>\n",
       "      <td>1</td>\n",
       "      <td>Comedy,Short</td>\n",
       "    </tr>\n",
       "  </tbody>\n",
       "</table>\n",
       "</div>"
      ],
      "text/plain": [
       "      tconst titleType            primaryTitle           originalTitle  \\\n",
       "0  tt0000001     short              Carmencita              Carmencita   \n",
       "1  tt0000002     short  Le clown et ses chiens  Le clown et ses chiens   \n",
       "2  tt0000003     short          Pauvre Pierrot          Pauvre Pierrot   \n",
       "3  tt0000004     short             Un bon bock             Un bon bock   \n",
       "4  tt0000005     short        Blacksmith Scene        Blacksmith Scene   \n",
       "\n",
       "  isAdult startYear endYear runtimeMinutes                    genres  \n",
       "0       0      1894      \\N              1         Documentary,Short  \n",
       "1       0      1892      \\N              5           Animation,Short  \n",
       "2       0      1892      \\N              4  Animation,Comedy,Romance  \n",
       "3       0      1892      \\N             12           Animation,Short  \n",
       "4       0      1893      \\N              1              Comedy,Short  "
      ]
     },
     "execution_count": 51,
     "metadata": {},
     "output_type": "execute_result"
    }
   ],
   "source": [
    "df_titles.limit(5).toPandas()"
   ]
  },
  {
   "cell_type": "code",
   "execution_count": 52,
   "id": "31115568",
   "metadata": {},
   "outputs": [],
   "source": [
    "rename_dict = {\n",
    "    'tconst' : 'id_title',\n",
    "    'titleType' : 'tipo_title',\n",
    "    'primaryTitle': 'nome_primario',\n",
    "    'originalTitle': 'nome_original',\n",
    "    'isAdult': 'idc_adult_title',\n",
    "    'startYear': 'ano_lancamento',\n",
    "    'endYear': 'ano_encerramento',\n",
    "    'runtimeMinutes': 'duracao_minutos',\n",
    "    'genres': 'genero'\n",
    "}"
   ]
  },
  {
   "cell_type": "code",
   "execution_count": 53,
   "id": "d6e7c458",
   "metadata": {},
   "outputs": [
    {
     "data": {
      "text/html": [
       "<div>\n",
       "<style scoped>\n",
       "    .dataframe tbody tr th:only-of-type {\n",
       "        vertical-align: middle;\n",
       "    }\n",
       "\n",
       "    .dataframe tbody tr th {\n",
       "        vertical-align: top;\n",
       "    }\n",
       "\n",
       "    .dataframe thead th {\n",
       "        text-align: right;\n",
       "    }\n",
       "</style>\n",
       "<table border=\"1\" class=\"dataframe\">\n",
       "  <thead>\n",
       "    <tr style=\"text-align: right;\">\n",
       "      <th></th>\n",
       "      <th>id_title</th>\n",
       "      <th>tipo_title</th>\n",
       "      <th>nome_primario</th>\n",
       "      <th>nome_original</th>\n",
       "      <th>idc_adult_title</th>\n",
       "      <th>ano_lancamento</th>\n",
       "      <th>ano_encerramento</th>\n",
       "      <th>duracao_minutos</th>\n",
       "      <th>genero</th>\n",
       "    </tr>\n",
       "  </thead>\n",
       "  <tbody>\n",
       "    <tr>\n",
       "      <th>0</th>\n",
       "      <td>tt0000001</td>\n",
       "      <td>short</td>\n",
       "      <td>Carmencita</td>\n",
       "      <td>Carmencita</td>\n",
       "      <td>0</td>\n",
       "      <td>1894</td>\n",
       "      <td>\\N</td>\n",
       "      <td>1</td>\n",
       "      <td>Documentary,Short</td>\n",
       "    </tr>\n",
       "    <tr>\n",
       "      <th>1</th>\n",
       "      <td>tt0000002</td>\n",
       "      <td>short</td>\n",
       "      <td>Le clown et ses chiens</td>\n",
       "      <td>Le clown et ses chiens</td>\n",
       "      <td>0</td>\n",
       "      <td>1892</td>\n",
       "      <td>\\N</td>\n",
       "      <td>5</td>\n",
       "      <td>Animation,Short</td>\n",
       "    </tr>\n",
       "    <tr>\n",
       "      <th>2</th>\n",
       "      <td>tt0000003</td>\n",
       "      <td>short</td>\n",
       "      <td>Pauvre Pierrot</td>\n",
       "      <td>Pauvre Pierrot</td>\n",
       "      <td>0</td>\n",
       "      <td>1892</td>\n",
       "      <td>\\N</td>\n",
       "      <td>4</td>\n",
       "      <td>Animation,Comedy,Romance</td>\n",
       "    </tr>\n",
       "    <tr>\n",
       "      <th>3</th>\n",
       "      <td>tt0000004</td>\n",
       "      <td>short</td>\n",
       "      <td>Un bon bock</td>\n",
       "      <td>Un bon bock</td>\n",
       "      <td>0</td>\n",
       "      <td>1892</td>\n",
       "      <td>\\N</td>\n",
       "      <td>12</td>\n",
       "      <td>Animation,Short</td>\n",
       "    </tr>\n",
       "    <tr>\n",
       "      <th>4</th>\n",
       "      <td>tt0000005</td>\n",
       "      <td>short</td>\n",
       "      <td>Blacksmith Scene</td>\n",
       "      <td>Blacksmith Scene</td>\n",
       "      <td>0</td>\n",
       "      <td>1893</td>\n",
       "      <td>\\N</td>\n",
       "      <td>1</td>\n",
       "      <td>Comedy,Short</td>\n",
       "    </tr>\n",
       "  </tbody>\n",
       "</table>\n",
       "</div>"
      ],
      "text/plain": [
       "    id_title tipo_title           nome_primario           nome_original  \\\n",
       "0  tt0000001      short              Carmencita              Carmencita   \n",
       "1  tt0000002      short  Le clown et ses chiens  Le clown et ses chiens   \n",
       "2  tt0000003      short          Pauvre Pierrot          Pauvre Pierrot   \n",
       "3  tt0000004      short             Un bon bock             Un bon bock   \n",
       "4  tt0000005      short        Blacksmith Scene        Blacksmith Scene   \n",
       "\n",
       "  idc_adult_title ano_lancamento ano_encerramento duracao_minutos  \\\n",
       "0               0           1894               \\N               1   \n",
       "1               0           1892               \\N               5   \n",
       "2               0           1892               \\N               4   \n",
       "3               0           1892               \\N              12   \n",
       "4               0           1893               \\N               1   \n",
       "\n",
       "                     genero  \n",
       "0         Documentary,Short  \n",
       "1           Animation,Short  \n",
       "2  Animation,Comedy,Romance  \n",
       "3           Animation,Short  \n",
       "4              Comedy,Short  "
      ]
     },
     "execution_count": 53,
     "metadata": {},
     "output_type": "execute_result"
    }
   ],
   "source": [
    "(\n",
    "    df_titles\n",
    "    .transform(renamer(rename_dict))\n",
    "    .limit(5)\n",
    "    .toPandas()\n",
    ")"
   ]
  },
  {
   "cell_type": "markdown",
   "id": "df4c1f56",
   "metadata": {},
   "source": [
    "## Trabalho "
   ]
  },
  {
   "cell_type": "code",
   "execution_count": 6,
   "id": "f432ad17",
   "metadata": {},
   "outputs": [],
   "source": [
    "df_filmes = (\n",
    "    df_titles\n",
    "    .join(df_ratings, 'tconst')\n",
    ")"
   ]
  },
  {
   "cell_type": "code",
   "execution_count": 57,
   "id": "6864c384",
   "metadata": {},
   "outputs": [
    {
     "name": "stderr",
     "output_type": "stream",
     "text": [
      "                                                                                \r"
     ]
    },
    {
     "data": {
      "text/html": [
       "<div>\n",
       "<style scoped>\n",
       "    .dataframe tbody tr th:only-of-type {\n",
       "        vertical-align: middle;\n",
       "    }\n",
       "\n",
       "    .dataframe tbody tr th {\n",
       "        vertical-align: top;\n",
       "    }\n",
       "\n",
       "    .dataframe thead th {\n",
       "        text-align: right;\n",
       "    }\n",
       "</style>\n",
       "<table border=\"1\" class=\"dataframe\">\n",
       "  <thead>\n",
       "    <tr style=\"text-align: right;\">\n",
       "      <th></th>\n",
       "      <th>tconst</th>\n",
       "      <th>titleType</th>\n",
       "      <th>primaryTitle</th>\n",
       "      <th>originalTitle</th>\n",
       "      <th>isAdult</th>\n",
       "      <th>startYear</th>\n",
       "      <th>endYear</th>\n",
       "      <th>runtimeMinutes</th>\n",
       "      <th>genres</th>\n",
       "      <th>averageRating</th>\n",
       "      <th>numVotes</th>\n",
       "    </tr>\n",
       "  </thead>\n",
       "  <tbody>\n",
       "    <tr>\n",
       "      <th>0</th>\n",
       "      <td>tt0000658</td>\n",
       "      <td>short</td>\n",
       "      <td>The Puppet's Nightmare</td>\n",
       "      <td>Le cauchemar de Fantoche</td>\n",
       "      <td>0</td>\n",
       "      <td>1908</td>\n",
       "      <td>\\N</td>\n",
       "      <td>2</td>\n",
       "      <td>Animation,Short</td>\n",
       "      <td>6.5</td>\n",
       "      <td>212</td>\n",
       "    </tr>\n",
       "    <tr>\n",
       "      <th>1</th>\n",
       "      <td>tt0001732</td>\n",
       "      <td>short</td>\n",
       "      <td>The Lighthouse Keeper</td>\n",
       "      <td>The Lighthouse Keeper</td>\n",
       "      <td>0</td>\n",
       "      <td>1911</td>\n",
       "      <td>\\N</td>\n",
       "      <td>\\N</td>\n",
       "      <td>Drama,Short</td>\n",
       "      <td>7.1</td>\n",
       "      <td>15</td>\n",
       "    </tr>\n",
       "    <tr>\n",
       "      <th>2</th>\n",
       "      <td>tt0002253</td>\n",
       "      <td>short</td>\n",
       "      <td>Home Folks</td>\n",
       "      <td>Home Folks</td>\n",
       "      <td>0</td>\n",
       "      <td>1912</td>\n",
       "      <td>\\N</td>\n",
       "      <td>17</td>\n",
       "      <td>Drama,Short</td>\n",
       "      <td>4.0</td>\n",
       "      <td>13</td>\n",
       "    </tr>\n",
       "    <tr>\n",
       "      <th>3</th>\n",
       "      <td>tt0002473</td>\n",
       "      <td>short</td>\n",
       "      <td>The Sands of Dee</td>\n",
       "      <td>The Sands of Dee</td>\n",
       "      <td>0</td>\n",
       "      <td>1912</td>\n",
       "      <td>\\N</td>\n",
       "      <td>17</td>\n",
       "      <td>Romance,Short</td>\n",
       "      <td>6.5</td>\n",
       "      <td>77</td>\n",
       "    </tr>\n",
       "    <tr>\n",
       "      <th>4</th>\n",
       "      <td>tt0002588</td>\n",
       "      <td>movie</td>\n",
       "      <td>Zigomar contre Nick Carter</td>\n",
       "      <td>Zigomar contre Nick Carter</td>\n",
       "      <td>0</td>\n",
       "      <td>1912</td>\n",
       "      <td>\\N</td>\n",
       "      <td>48</td>\n",
       "      <td>Crime,Thriller</td>\n",
       "      <td>6.0</td>\n",
       "      <td>32</td>\n",
       "    </tr>\n",
       "  </tbody>\n",
       "</table>\n",
       "</div>"
      ],
      "text/plain": [
       "      tconst titleType                primaryTitle  \\\n",
       "0  tt0000658     short      The Puppet's Nightmare   \n",
       "1  tt0001732     short       The Lighthouse Keeper   \n",
       "2  tt0002253     short                  Home Folks   \n",
       "3  tt0002473     short            The Sands of Dee   \n",
       "4  tt0002588     movie  Zigomar contre Nick Carter   \n",
       "\n",
       "                originalTitle isAdult startYear endYear runtimeMinutes  \\\n",
       "0    Le cauchemar de Fantoche       0      1908      \\N              2   \n",
       "1       The Lighthouse Keeper       0      1911      \\N             \\N   \n",
       "2                  Home Folks       0      1912      \\N             17   \n",
       "3            The Sands of Dee       0      1912      \\N             17   \n",
       "4  Zigomar contre Nick Carter       0      1912      \\N             48   \n",
       "\n",
       "            genres averageRating numVotes  \n",
       "0  Animation,Short           6.5      212  \n",
       "1      Drama,Short           7.1       15  \n",
       "2      Drama,Short           4.0       13  \n",
       "3    Romance,Short           6.5       77  \n",
       "4   Crime,Thriller           6.0       32  "
      ]
     },
     "execution_count": 57,
     "metadata": {},
     "output_type": "execute_result"
    }
   ],
   "source": [
    "df_filmes.limit(5).toPandas()"
   ]
  },
  {
   "cell_type": "code",
   "execution_count": 58,
   "id": "0ad58a06",
   "metadata": {},
   "outputs": [
    {
     "name": "stderr",
     "output_type": "stream",
     "text": [
      "                                                                                \r"
     ]
    },
    {
     "data": {
      "text/html": [
       "<div>\n",
       "<style scoped>\n",
       "    .dataframe tbody tr th:only-of-type {\n",
       "        vertical-align: middle;\n",
       "    }\n",
       "\n",
       "    .dataframe tbody tr th {\n",
       "        vertical-align: top;\n",
       "    }\n",
       "\n",
       "    .dataframe thead th {\n",
       "        text-align: right;\n",
       "    }\n",
       "</style>\n",
       "<table border=\"1\" class=\"dataframe\">\n",
       "  <thead>\n",
       "    <tr style=\"text-align: right;\">\n",
       "      <th></th>\n",
       "      <th>titleType</th>\n",
       "    </tr>\n",
       "  </thead>\n",
       "  <tbody>\n",
       "    <tr>\n",
       "      <th>0</th>\n",
       "      <td>tvSeries</td>\n",
       "    </tr>\n",
       "    <tr>\n",
       "      <th>1</th>\n",
       "      <td>tvMiniSeries</td>\n",
       "    </tr>\n",
       "    <tr>\n",
       "      <th>2</th>\n",
       "      <td>tvMovie</td>\n",
       "    </tr>\n",
       "    <tr>\n",
       "      <th>3</th>\n",
       "      <td>tvEpisode</td>\n",
       "    </tr>\n",
       "    <tr>\n",
       "      <th>4</th>\n",
       "      <td>movie</td>\n",
       "    </tr>\n",
       "    <tr>\n",
       "      <th>5</th>\n",
       "      <td>tvSpecial</td>\n",
       "    </tr>\n",
       "    <tr>\n",
       "      <th>6</th>\n",
       "      <td>video</td>\n",
       "    </tr>\n",
       "    <tr>\n",
       "      <th>7</th>\n",
       "      <td>videoGame</td>\n",
       "    </tr>\n",
       "    <tr>\n",
       "      <th>8</th>\n",
       "      <td>tvShort</td>\n",
       "    </tr>\n",
       "    <tr>\n",
       "      <th>9</th>\n",
       "      <td>short</td>\n",
       "    </tr>\n",
       "  </tbody>\n",
       "</table>\n",
       "</div>"
      ],
      "text/plain": [
       "      titleType\n",
       "0      tvSeries\n",
       "1  tvMiniSeries\n",
       "2       tvMovie\n",
       "3     tvEpisode\n",
       "4         movie\n",
       "5     tvSpecial\n",
       "6         video\n",
       "7     videoGame\n",
       "8       tvShort\n",
       "9         short"
      ]
     },
     "execution_count": 58,
     "metadata": {},
     "output_type": "execute_result"
    }
   ],
   "source": [
    "df_filmes.select('titleType').distinct().toPandas()"
   ]
  },
  {
   "cell_type": "code",
   "execution_count": 60,
   "id": "57759d96",
   "metadata": {},
   "outputs": [
    {
     "name": "stderr",
     "output_type": "stream",
     "text": [
      "                                                                                \r"
     ]
    },
    {
     "data": {
      "text/plain": [
       "19987"
      ]
     },
     "execution_count": 60,
     "metadata": {},
     "output_type": "execute_result"
    }
   ],
   "source": [
    "(\n",
    "    df_titles\n",
    "    .filter('startYear = 2015')\n",
    "    .filter(\"titleType in ('movie', 'tvMovie')\")\n",
    "    .count()\n",
    ")"
   ]
  },
  {
   "cell_type": "code",
   "execution_count": 66,
   "id": "e9c77035",
   "metadata": {},
   "outputs": [
    {
     "name": "stderr",
     "output_type": "stream",
     "text": [
      "                                                                                \r"
     ]
    },
    {
     "data": {
      "text/html": [
       "<div>\n",
       "<style scoped>\n",
       "    .dataframe tbody tr th:only-of-type {\n",
       "        vertical-align: middle;\n",
       "    }\n",
       "\n",
       "    .dataframe tbody tr th {\n",
       "        vertical-align: top;\n",
       "    }\n",
       "\n",
       "    .dataframe thead th {\n",
       "        text-align: right;\n",
       "    }\n",
       "</style>\n",
       "<table border=\"1\" class=\"dataframe\">\n",
       "  <thead>\n",
       "    <tr style=\"text-align: right;\">\n",
       "      <th></th>\n",
       "      <th>genres</th>\n",
       "      <th>qtd</th>\n",
       "    </tr>\n",
       "  </thead>\n",
       "  <tbody>\n",
       "    <tr>\n",
       "      <th>0</th>\n",
       "      <td>Film-Noir</td>\n",
       "      <td>763</td>\n",
       "    </tr>\n",
       "    <tr>\n",
       "      <th>1</th>\n",
       "      <td>Western</td>\n",
       "      <td>27912</td>\n",
       "    </tr>\n",
       "    <tr>\n",
       "      <th>2</th>\n",
       "      <td>War</td>\n",
       "      <td>29827</td>\n",
       "    </tr>\n",
       "    <tr>\n",
       "      <th>3</th>\n",
       "      <td>Musical</td>\n",
       "      <td>63122</td>\n",
       "    </tr>\n",
       "    <tr>\n",
       "      <th>4</th>\n",
       "      <td>Biography</td>\n",
       "      <td>87738</td>\n",
       "    </tr>\n",
       "    <tr>\n",
       "      <th>5</th>\n",
       "      <td>Sci-Fi</td>\n",
       "      <td>96515</td>\n",
       "    </tr>\n",
       "    <tr>\n",
       "      <th>6</th>\n",
       "      <td>History</td>\n",
       "      <td>114975</td>\n",
       "    </tr>\n",
       "    <tr>\n",
       "      <th>7</th>\n",
       "      <td>Thriller</td>\n",
       "      <td>134054</td>\n",
       "    </tr>\n",
       "    <tr>\n",
       "      <th>8</th>\n",
       "      <td>Horror</td>\n",
       "      <td>146400</td>\n",
       "    </tr>\n",
       "    <tr>\n",
       "      <th>9</th>\n",
       "      <td>Mystery</td>\n",
       "      <td>162448</td>\n",
       "    </tr>\n",
       "    <tr>\n",
       "      <th>10</th>\n",
       "      <td>Fantasy</td>\n",
       "      <td>174119</td>\n",
       "    </tr>\n",
       "    <tr>\n",
       "      <th>11</th>\n",
       "      <td>Sport</td>\n",
       "      <td>178594</td>\n",
       "    </tr>\n",
       "    <tr>\n",
       "      <th>12</th>\n",
       "      <td>Adult</td>\n",
       "      <td>242704</td>\n",
       "    </tr>\n",
       "    <tr>\n",
       "      <th>13</th>\n",
       "      <td>Game-Show</td>\n",
       "      <td>252533</td>\n",
       "    </tr>\n",
       "    <tr>\n",
       "      <th>14</th>\n",
       "      <td>Adventure</td>\n",
       "      <td>324325</td>\n",
       "    </tr>\n",
       "    <tr>\n",
       "      <th>15</th>\n",
       "      <td>Action</td>\n",
       "      <td>334580</td>\n",
       "    </tr>\n",
       "    <tr>\n",
       "      <th>16</th>\n",
       "      <td>Crime</td>\n",
       "      <td>351447</td>\n",
       "    </tr>\n",
       "    <tr>\n",
       "      <th>17</th>\n",
       "      <td>Music</td>\n",
       "      <td>394008</td>\n",
       "    </tr>\n",
       "    <tr>\n",
       "      <th>18</th>\n",
       "      <td>Animation</td>\n",
       "      <td>406284</td>\n",
       "    </tr>\n",
       "    <tr>\n",
       "      <th>19</th>\n",
       "      <td>Reality-TV</td>\n",
       "      <td>423455</td>\n",
       "    </tr>\n",
       "    <tr>\n",
       "      <th>20</th>\n",
       "      <td>News</td>\n",
       "      <td>524662</td>\n",
       "    </tr>\n",
       "    <tr>\n",
       "      <th>21</th>\n",
       "      <td>Family</td>\n",
       "      <td>571470</td>\n",
       "    </tr>\n",
       "    <tr>\n",
       "      <th>22</th>\n",
       "      <td>\\N</td>\n",
       "      <td>643012</td>\n",
       "    </tr>\n",
       "    <tr>\n",
       "      <th>23</th>\n",
       "      <td>Romance</td>\n",
       "      <td>724729</td>\n",
       "    </tr>\n",
       "    <tr>\n",
       "      <th>24</th>\n",
       "      <td>Documentary</td>\n",
       "      <td>764885</td>\n",
       "    </tr>\n",
       "    <tr>\n",
       "      <th>25</th>\n",
       "      <td>Talk-Show</td>\n",
       "      <td>900198</td>\n",
       "    </tr>\n",
       "    <tr>\n",
       "      <th>26</th>\n",
       "      <td>Short</td>\n",
       "      <td>1021850</td>\n",
       "    </tr>\n",
       "    <tr>\n",
       "      <th>27</th>\n",
       "      <td>Comedy</td>\n",
       "      <td>1653725</td>\n",
       "    </tr>\n",
       "    <tr>\n",
       "      <th>28</th>\n",
       "      <td>Drama</td>\n",
       "      <td>2247995</td>\n",
       "    </tr>\n",
       "  </tbody>\n",
       "</table>\n",
       "</div>"
      ],
      "text/plain": [
       "         genres      qtd\n",
       "0     Film-Noir      763\n",
       "1       Western    27912\n",
       "2           War    29827\n",
       "3       Musical    63122\n",
       "4     Biography    87738\n",
       "5        Sci-Fi    96515\n",
       "6       History   114975\n",
       "7      Thriller   134054\n",
       "8        Horror   146400\n",
       "9       Mystery   162448\n",
       "10      Fantasy   174119\n",
       "11        Sport   178594\n",
       "12        Adult   242704\n",
       "13    Game-Show   252533\n",
       "14    Adventure   324325\n",
       "15       Action   334580\n",
       "16        Crime   351447\n",
       "17        Music   394008\n",
       "18    Animation   406284\n",
       "19   Reality-TV   423455\n",
       "20         News   524662\n",
       "21       Family   571470\n",
       "22           \\N   643012\n",
       "23      Romance   724729\n",
       "24  Documentary   764885\n",
       "25    Talk-Show   900198\n",
       "26        Short  1021850\n",
       "27       Comedy  1653725\n",
       "28        Drama  2247995"
      ]
     },
     "execution_count": 66,
     "metadata": {},
     "output_type": "execute_result"
    }
   ],
   "source": [
    "(\n",
    "    df_titles\n",
    "    .withColumn('genres', f.explode(f.split(f.col('genres'), ',')))\n",
    "    .groupBy('genres')\n",
    "    .agg(f.expr('count(genres) as qtd'))\n",
    "    .orderBy(f.expr('count(genres) as qtd'))\n",
    "    .toPandas()\n",
    ")"
   ]
  },
  {
   "cell_type": "code",
   "execution_count": 68,
   "id": "b310ef05",
   "metadata": {},
   "outputs": [
    {
     "name": "stderr",
     "output_type": "stream",
     "text": [
      "                                                                                \r"
     ]
    },
    {
     "data": {
      "text/html": [
       "<div>\n",
       "<style scoped>\n",
       "    .dataframe tbody tr th:only-of-type {\n",
       "        vertical-align: middle;\n",
       "    }\n",
       "\n",
       "    .dataframe tbody tr th {\n",
       "        vertical-align: top;\n",
       "    }\n",
       "\n",
       "    .dataframe thead th {\n",
       "        text-align: right;\n",
       "    }\n",
       "</style>\n",
       "<table border=\"1\" class=\"dataframe\">\n",
       "  <thead>\n",
       "    <tr style=\"text-align: right;\">\n",
       "      <th></th>\n",
       "      <th>genres</th>\n",
       "      <th>nota</th>\n",
       "    </tr>\n",
       "  </thead>\n",
       "  <tbody>\n",
       "    <tr>\n",
       "      <th>0</th>\n",
       "      <td>Horror</td>\n",
       "      <td>6.079672</td>\n",
       "    </tr>\n",
       "    <tr>\n",
       "      <th>1</th>\n",
       "      <td>Thriller</td>\n",
       "      <td>6.335533</td>\n",
       "    </tr>\n",
       "    <tr>\n",
       "      <th>2</th>\n",
       "      <td>Adult</td>\n",
       "      <td>6.349891</td>\n",
       "    </tr>\n",
       "    <tr>\n",
       "      <th>3</th>\n",
       "      <td>\\N</td>\n",
       "      <td>6.403648</td>\n",
       "    </tr>\n",
       "    <tr>\n",
       "      <th>4</th>\n",
       "      <td>Film-Noir</td>\n",
       "      <td>6.552887</td>\n",
       "    </tr>\n",
       "    <tr>\n",
       "      <th>5</th>\n",
       "      <td>News</td>\n",
       "      <td>6.591745</td>\n",
       "    </tr>\n",
       "    <tr>\n",
       "      <th>6</th>\n",
       "      <td>Musical</td>\n",
       "      <td>6.610591</td>\n",
       "    </tr>\n",
       "    <tr>\n",
       "      <th>7</th>\n",
       "      <td>Talk-Show</td>\n",
       "      <td>6.715781</td>\n",
       "    </tr>\n",
       "    <tr>\n",
       "      <th>8</th>\n",
       "      <td>Sci-Fi</td>\n",
       "      <td>6.754274</td>\n",
       "    </tr>\n",
       "    <tr>\n",
       "      <th>9</th>\n",
       "      <td>Short</td>\n",
       "      <td>6.791292</td>\n",
       "    </tr>\n",
       "    <tr>\n",
       "      <th>10</th>\n",
       "      <td>Romance</td>\n",
       "      <td>6.864016</td>\n",
       "    </tr>\n",
       "    <tr>\n",
       "      <th>11</th>\n",
       "      <td>Game-Show</td>\n",
       "      <td>6.876828</td>\n",
       "    </tr>\n",
       "    <tr>\n",
       "      <th>12</th>\n",
       "      <td>Reality-TV</td>\n",
       "      <td>6.892611</td>\n",
       "    </tr>\n",
       "    <tr>\n",
       "      <th>13</th>\n",
       "      <td>Music</td>\n",
       "      <td>6.927470</td>\n",
       "    </tr>\n",
       "    <tr>\n",
       "      <th>14</th>\n",
       "      <td>Comedy</td>\n",
       "      <td>6.960017</td>\n",
       "    </tr>\n",
       "    <tr>\n",
       "      <th>15</th>\n",
       "      <td>Sport</td>\n",
       "      <td>6.966792</td>\n",
       "    </tr>\n",
       "    <tr>\n",
       "      <th>16</th>\n",
       "      <td>Action</td>\n",
       "      <td>7.007098</td>\n",
       "    </tr>\n",
       "    <tr>\n",
       "      <th>17</th>\n",
       "      <td>War</td>\n",
       "      <td>7.009115</td>\n",
       "    </tr>\n",
       "    <tr>\n",
       "      <th>18</th>\n",
       "      <td>Drama</td>\n",
       "      <td>7.040979</td>\n",
       "    </tr>\n",
       "    <tr>\n",
       "      <th>19</th>\n",
       "      <td>Family</td>\n",
       "      <td>7.070055</td>\n",
       "    </tr>\n",
       "    <tr>\n",
       "      <th>20</th>\n",
       "      <td>Western</td>\n",
       "      <td>7.080683</td>\n",
       "    </tr>\n",
       "    <tr>\n",
       "      <th>21</th>\n",
       "      <td>Animation</td>\n",
       "      <td>7.089381</td>\n",
       "    </tr>\n",
       "    <tr>\n",
       "      <th>22</th>\n",
       "      <td>Fantasy</td>\n",
       "      <td>7.095146</td>\n",
       "    </tr>\n",
       "    <tr>\n",
       "      <th>23</th>\n",
       "      <td>Adventure</td>\n",
       "      <td>7.107630</td>\n",
       "    </tr>\n",
       "    <tr>\n",
       "      <th>24</th>\n",
       "      <td>Crime</td>\n",
       "      <td>7.159843</td>\n",
       "    </tr>\n",
       "    <tr>\n",
       "      <th>25</th>\n",
       "      <td>Mystery</td>\n",
       "      <td>7.170086</td>\n",
       "    </tr>\n",
       "    <tr>\n",
       "      <th>26</th>\n",
       "      <td>Biography</td>\n",
       "      <td>7.175532</td>\n",
       "    </tr>\n",
       "    <tr>\n",
       "      <th>27</th>\n",
       "      <td>Documentary</td>\n",
       "      <td>7.240199</td>\n",
       "    </tr>\n",
       "    <tr>\n",
       "      <th>28</th>\n",
       "      <td>History</td>\n",
       "      <td>7.353780</td>\n",
       "    </tr>\n",
       "  </tbody>\n",
       "</table>\n",
       "</div>"
      ],
      "text/plain": [
       "         genres      nota\n",
       "0        Horror  6.079672\n",
       "1      Thriller  6.335533\n",
       "2         Adult  6.349891\n",
       "3            \\N  6.403648\n",
       "4     Film-Noir  6.552887\n",
       "5          News  6.591745\n",
       "6       Musical  6.610591\n",
       "7     Talk-Show  6.715781\n",
       "8        Sci-Fi  6.754274\n",
       "9         Short  6.791292\n",
       "10      Romance  6.864016\n",
       "11    Game-Show  6.876828\n",
       "12   Reality-TV  6.892611\n",
       "13        Music  6.927470\n",
       "14       Comedy  6.960017\n",
       "15        Sport  6.966792\n",
       "16       Action  7.007098\n",
       "17          War  7.009115\n",
       "18        Drama  7.040979\n",
       "19       Family  7.070055\n",
       "20      Western  7.080683\n",
       "21    Animation  7.089381\n",
       "22      Fantasy  7.095146\n",
       "23    Adventure  7.107630\n",
       "24        Crime  7.159843\n",
       "25      Mystery  7.170086\n",
       "26    Biography  7.175532\n",
       "27  Documentary  7.240199\n",
       "28      History  7.353780"
      ]
     },
     "execution_count": 68,
     "metadata": {},
     "output_type": "execute_result"
    }
   ],
   "source": [
    "(\n",
    "    df_filmes\n",
    "    .withColumn('genres', f.explode(f.split(f.col('genres'), ',')))\n",
    "    .groupBy('genres')\n",
    "    .agg(f.expr('avg(averageRating) as nota'))\n",
    "    .orderBy(f.expr('avg(averageRating) as nota'))\n",
    "    .toPandas()\n",
    ")"
   ]
  },
  {
   "cell_type": "code",
   "execution_count": 19,
   "id": "f9a2573e",
   "metadata": {},
   "outputs": [
    {
     "name": "stderr",
     "output_type": "stream",
     "text": [
      "                                                                                \r"
     ]
    },
    {
     "data": {
      "text/html": [
       "<div>\n",
       "<style scoped>\n",
       "    .dataframe tbody tr th:only-of-type {\n",
       "        vertical-align: middle;\n",
       "    }\n",
       "\n",
       "    .dataframe tbody tr th {\n",
       "        vertical-align: top;\n",
       "    }\n",
       "\n",
       "    .dataframe thead th {\n",
       "        text-align: right;\n",
       "    }\n",
       "</style>\n",
       "<table border=\"1\" class=\"dataframe\">\n",
       "  <thead>\n",
       "    <tr style=\"text-align: right;\">\n",
       "      <th></th>\n",
       "      <th>primaryTitle</th>\n",
       "      <th>max(averageRating)</th>\n",
       "    </tr>\n",
       "  </thead>\n",
       "  <tbody>\n",
       "    <tr>\n",
       "      <th>0</th>\n",
       "      <td>Shadow the Ronin</td>\n",
       "      <td>1.9</td>\n",
       "    </tr>\n",
       "    <tr>\n",
       "      <th>1</th>\n",
       "      <td>Fast and Furious Crossroads</td>\n",
       "      <td>2.3</td>\n",
       "    </tr>\n",
       "    <tr>\n",
       "      <th>2</th>\n",
       "      <td>Road Bustle</td>\n",
       "      <td>2.4</td>\n",
       "    </tr>\n",
       "    <tr>\n",
       "      <th>3</th>\n",
       "      <td>XIII Remake</td>\n",
       "      <td>2.4</td>\n",
       "    </tr>\n",
       "    <tr>\n",
       "      <th>4</th>\n",
       "      <td>Madden NFL 21</td>\n",
       "      <td>2.7</td>\n",
       "    </tr>\n",
       "    <tr>\n",
       "      <th>...</th>\n",
       "      <td>...</td>\n",
       "      <td>...</td>\n",
       "    </tr>\n",
       "    <tr>\n",
       "      <th>245</th>\n",
       "      <td>Final Fantasy VII Remake</td>\n",
       "      <td>9.1</td>\n",
       "    </tr>\n",
       "    <tr>\n",
       "      <th>246</th>\n",
       "      <td>Ori and the Will of the Wisps</td>\n",
       "      <td>9.1</td>\n",
       "    </tr>\n",
       "    <tr>\n",
       "      <th>247</th>\n",
       "      <td>Omori</td>\n",
       "      <td>9.2</td>\n",
       "    </tr>\n",
       "    <tr>\n",
       "      <th>248</th>\n",
       "      <td>Ghost of Tsushima</td>\n",
       "      <td>9.3</td>\n",
       "    </tr>\n",
       "    <tr>\n",
       "      <th>249</th>\n",
       "      <td>Half-Life: Alyx</td>\n",
       "      <td>9.5</td>\n",
       "    </tr>\n",
       "  </tbody>\n",
       "</table>\n",
       "<p>250 rows × 2 columns</p>\n",
       "</div>"
      ],
      "text/plain": [
       "                      primaryTitle max(averageRating)\n",
       "0                 Shadow the Ronin                1.9\n",
       "1      Fast and Furious Crossroads                2.3\n",
       "2                      Road Bustle                2.4\n",
       "3                      XIII Remake                2.4\n",
       "4                    Madden NFL 21                2.7\n",
       "..                             ...                ...\n",
       "245       Final Fantasy VII Remake                9.1\n",
       "246  Ori and the Will of the Wisps                9.1\n",
       "247                          Omori                9.2\n",
       "248              Ghost of Tsushima                9.3\n",
       "249                Half-Life: Alyx                9.5\n",
       "\n",
       "[250 rows x 2 columns]"
      ]
     },
     "execution_count": 19,
     "metadata": {},
     "output_type": "execute_result"
    }
   ],
   "source": [
    "(\n",
    "    df_filmes\n",
    "    .filter(\"titleType = 'videoGame' \")\n",
    "    .filter('startYear = 2020')\n",
    "    .groupBy('primaryTitle')\n",
    "    .agg(f.expr('max(averageRating)'))\n",
    "    .orderBy(f.expr('max(averageRating)'))\n",
    "    .toPandas()\n",
    ")"
   ]
  },
  {
   "cell_type": "code",
   "execution_count": null,
   "id": "4ff75918",
   "metadata": {},
   "outputs": [],
   "source": [
    "predicado = \"\"\"\n",
    "CASE WHEN runtimeMinutes <= 60 THEN 'curto'\n",
    "     WHEN runtimeMinutes > 60 AND runtimeMinutes < 120 THEN 'normal'\n",
    "     WHEN runtimeMinutes >= 120 THEN 'longo'\n",
    "     WHEN runtimeMinutes IS NUll THEN 'nulo'\n",
    "ELSE 'erro'\n",
    "END\n",
    "\"\"\"\n",
    "\n",
    "(\n",
    "    df_titles\n",
    "    .select('tconst', 'primaryTitle', 'runtimeMinutes')\n",
    "    .withColumn('runtimeMinutes', col('runtimeMinutes').cast('int'))\n",
    "    .withColumn('categoria_runtime', expr(predicado))\n",
    "    .filter('runtimeMinutes > 60')\n",
    "    .show(25)\n",
    ")"
   ]
  },
  {
   "cell_type": "code",
   "execution_count": 16,
   "id": "4b755434",
   "metadata": {},
   "outputs": [
    {
     "name": "stderr",
     "output_type": "stream",
     "text": [
      "                                                                                \r"
     ]
    },
    {
     "data": {
      "text/html": [
       "<div>\n",
       "<style scoped>\n",
       "    .dataframe tbody tr th:only-of-type {\n",
       "        vertical-align: middle;\n",
       "    }\n",
       "\n",
       "    .dataframe tbody tr th {\n",
       "        vertical-align: top;\n",
       "    }\n",
       "\n",
       "    .dataframe thead th {\n",
       "        text-align: right;\n",
       "    }\n",
       "</style>\n",
       "<table border=\"1\" class=\"dataframe\">\n",
       "  <thead>\n",
       "    <tr style=\"text-align: right;\">\n",
       "      <th></th>\n",
       "      <th>((sum(comedy_2018) / count(comedy_2018)) * 100)</th>\n",
       "    </tr>\n",
       "  </thead>\n",
       "  <tbody>\n",
       "    <tr>\n",
       "      <th>0</th>\n",
       "      <td>19.592337</td>\n",
       "    </tr>\n",
       "  </tbody>\n",
       "</table>\n",
       "</div>"
      ],
      "text/plain": [
       "   ((sum(comedy_2018) / count(comedy_2018)) * 100)\n",
       "0                                        19.592337"
      ]
     },
     "execution_count": 16,
     "metadata": {},
     "output_type": "execute_result"
    }
   ],
   "source": [
    "(\n",
    "    df_titles\n",
    "    .filter('startYear = 2018')\n",
    "    .withColumn('genres', f.split(f.col('genres'), ','))\n",
    "    .withColumn('comedy_2018', f.when(f.array_contains(f.col('genres'), 'Comedy'), 1).otherwise(0))\n",
    "    .select((f.sum('comedy_2018') / f.count(f.col('comedy_2018'))) * 100)\n",
    "    .toPandas()\n",
    ")"
   ]
  },
  {
   "cell_type": "code",
   "execution_count": 21,
   "id": "d85d2193",
   "metadata": {},
   "outputs": [],
   "source": [
    "def sqr_divide(value): \n",
    "\n",
    "    return (value**2)/2 \n",
    "\n",
    "sqr_divide_udf = f.udf(sqr_divide, DoubleType()) "
   ]
  },
  {
   "cell_type": "code",
   "execution_count": 22,
   "id": "98eec6b8",
   "metadata": {},
   "outputs": [
    {
     "name": "stderr",
     "output_type": "stream",
     "text": [
      "\r",
      "[Stage 20:>                                                         (0 + 5) / 5]\r"
     ]
    },
    {
     "name": "stdout",
     "output_type": "stream",
     "text": [
      "+------------------+\n",
      "|     averageRating|\n",
      "+------------------+\n",
      "|24.899137999843724|\n",
      "+------------------+\n",
      "\n"
     ]
    },
    {
     "name": "stderr",
     "output_type": "stream",
     "text": [
      "\r",
      "[Stage 20:==================================>                       (3 + 2) / 5]\r",
      "\r",
      "                                                                                \r"
     ]
    }
   ],
   "source": [
    "(\n",
    "    df_ratings\n",
    "    .withColumn('averageRating', f.col('averageRating').cast('double'))\n",
    "    .select(sqr_divide_udf('averageRating').alias('averageRating'))\n",
    "    .agg(f.mean('averageRating').alias('averageRating'))\n",
    "    .show()\n",
    ")"
   ]
  },
  {
   "cell_type": "code",
   "execution_count": null,
   "id": "08d3e995",
   "metadata": {},
   "outputs": [],
   "source": []
  }
 ],
 "metadata": {
  "kernelspec": {
   "display_name": "Python 3.9.7 64-bit ('.venv': venv)",
   "language": "python",
   "name": "python397jvsc74a57bd01977d33b18f466fb229bfc794fe2e8af865a2c7e457f77166a42db60d6226acb"
  },
  "language_info": {
   "codemirror_mode": {
    "name": "ipython",
    "version": 3
   },
   "file_extension": ".py",
   "mimetype": "text/x-python",
   "name": "python",
   "nbconvert_exporter": "python",
   "pygments_lexer": "ipython3",
   "version": "3.9.7"
  }
 },
 "nbformat": 4,
 "nbformat_minor": 5
}
